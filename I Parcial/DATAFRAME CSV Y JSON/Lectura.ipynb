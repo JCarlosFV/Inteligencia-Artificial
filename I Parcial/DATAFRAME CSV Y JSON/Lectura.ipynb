{
 "cells": [
  {
   "cell_type": "code",
   "execution_count": 253,
   "id": "783d1d18",
   "metadata": {},
   "outputs": [],
   "source": [
    "import pandas as pd\n",
    "universidad = pd.read_csv(\"Info_Academica.csv\")"
   ]
  },
  {
   "cell_type": "code",
   "execution_count": 254,
   "id": "1d5756fc",
   "metadata": {
    "scrolled": true
   },
   "outputs": [],
   "source": [
    "estudiantes = pd.read_json(\"Info_Estudiante.json\")"
   ]
  },
  {
   "cell_type": "code",
   "execution_count": 255,
   "id": "d0517161",
   "metadata": {
    "scrolled": true
   },
   "outputs": [],
   "source": [
    "dm = pd.merge(estudiantes, universidad, on = [\"asignatura\", \"asignatura\"])"
   ]
  },
  {
   "cell_type": "code",
   "execution_count": 221,
   "id": "120c3fbf",
   "metadata": {
    "scrolled": true
   },
   "outputs": [
    {
     "data": {
      "text/plain": [
       "'Lenguajes de Programacion'"
      ]
     },
     "execution_count": 221,
     "metadata": {},
     "output_type": "execute_result"
    }
   ],
   "source": [
    "#1 Clase con mayor numero de reprobados en el primer periodo del 2022\n",
    "clases_con_reprobados = dm[['asignatura', 'periodo', 'fecha']][dm.nota < 65]\n",
    "clases_con_reprobados_2022 = clases_con_reprobados[['asignatura', 'periodo']][clases_con_reprobados.fecha > '01/01/2022']\n",
    "clases_con_reprobados_1 = clases_con_reprobados_2022[clases_con_reprobados_2022.periodo == 1]\n",
    "clase = clases_con_reprobados_1.groupby(['asignatura'])[['asignatura']].count()\n",
    "clase['asignatura'].idxmax()"
   ]
  },
  {
   "cell_type": "code",
   "execution_count": 227,
   "id": "7e47a218",
   "metadata": {
    "scrolled": true
   },
   "outputs": [
    {
     "data": {
      "text/plain": [
       "'Lenguajes de Programacion'"
      ]
     },
     "execution_count": 227,
     "metadata": {},
     "output_type": "execute_result"
    }
   ],
   "source": [
    "#2 Clase con mayor numero de aprobados en el tercer periodo del año 2022\n",
    "clases_con_aprobados = dm[['asignatura', 'periodo', 'fecha']][dm.nota >= 65]\n",
    "clases_con_aprobados_2022 = clases_con_aprobados[['asignatura', 'periodo']][clases_con_aprobados.fecha > '01/01/2022']\n",
    "clases_con_aprobados_3 = clases_con_aprobados_2022[clases_con_aprobados_2022.periodo == 3]\n",
    "clase = clases_con_aprobados_3.groupby(['asignatura'])[['asignatura']].count()\n",
    "clase['asignatura'].idxmax()"
   ]
  },
  {
   "cell_type": "code",
   "execution_count": 252,
   "id": "91e43e25",
   "metadata": {},
   "outputs": [
    {
     "data": {
      "text/html": [
       "<div>\n",
       "<style scoped>\n",
       "    .dataframe tbody tr th:only-of-type {\n",
       "        vertical-align: middle;\n",
       "    }\n",
       "\n",
       "    .dataframe tbody tr th {\n",
       "        vertical-align: top;\n",
       "    }\n",
       "\n",
       "    .dataframe thead th {\n",
       "        text-align: right;\n",
       "    }\n",
       "</style>\n",
       "<table border=\"1\" class=\"dataframe\">\n",
       "  <thead>\n",
       "    <tr style=\"text-align: right;\">\n",
       "      <th></th>\n",
       "      <th>nombre</th>\n",
       "      <th>asignatura</th>\n",
       "      <th>nota</th>\n",
       "    </tr>\n",
       "  </thead>\n",
       "  <tbody>\n",
       "    <tr>\n",
       "      <th>898</th>\n",
       "      <td>Bernarr</td>\n",
       "      <td>Español</td>\n",
       "      <td>100</td>\n",
       "    </tr>\n",
       "  </tbody>\n",
       "</table>\n",
       "</div>"
      ],
      "text/plain": [
       "      nombre asignatura  nota\n",
       "898  Bernarr    Español   100"
      ]
     },
     "execution_count": 252,
     "metadata": {},
     "output_type": "execute_result"
    }
   ],
   "source": [
    "#3 Alumnos con calificaciones mas altas en el segundo periodo\n",
    "alumnos = dm[['nombre', 'asignatura' ,'nota']][dm.periodo == 2]\n",
    "alumnos_notas_altas = alumnos[alumnos.nota == alumnos.nota.max()]\n",
    "alumnos_notas_altas"
   ]
  },
  {
   "cell_type": "code",
   "execution_count": null,
   "id": "b7017fd5",
   "metadata": {},
   "outputs": [],
   "source": []
  }
 ],
 "metadata": {
  "kernelspec": {
   "display_name": "Python 3 (ipykernel)",
   "language": "python",
   "name": "python3"
  },
  "language_info": {
   "codemirror_mode": {
    "name": "ipython",
    "version": 3
   },
   "file_extension": ".py",
   "mimetype": "text/x-python",
   "name": "python",
   "nbconvert_exporter": "python",
   "pygments_lexer": "ipython3",
   "version": "3.9.12"
  }
 },
 "nbformat": 4,
 "nbformat_minor": 5
}
