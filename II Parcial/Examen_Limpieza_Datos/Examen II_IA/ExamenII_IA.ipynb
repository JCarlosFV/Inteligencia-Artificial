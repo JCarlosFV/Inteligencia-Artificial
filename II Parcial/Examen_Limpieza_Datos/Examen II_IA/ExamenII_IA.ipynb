{
 "cells": [
  {
   "cell_type": "markdown",
   "id": "5d4fdc08-f13c-4940-830d-d3a0599cdde0",
   "metadata": {},
   "source": [
    "Examen II IA Sección 1900 "
   ]
  },
  {
   "cell_type": "code",
   "execution_count": 1,
   "id": "21e7dc3e-d3ec-49b7-90fc-d209e898fdda",
   "metadata": {},
   "outputs": [],
   "source": [
    "import pandas as pd\n",
    "import numpy as np\n",
    "import matplotlib.pyplot as plt\n",
    "import seaborn as sns"
   ]
  },
  {
   "cell_type": "code",
   "execution_count": 2,
   "id": "4d64d5d5-ef9e-4b72-bd82-e07dadf1f313",
   "metadata": {},
   "outputs": [],
   "source": [
    "bank_df = pd.read_csv(\"BankChurners.csv\")"
   ]
  },
  {
   "cell_type": "code",
   "execution_count": 3,
   "id": "21e887c9-6965-4e26-9f9a-b1fc4c4febc6",
   "metadata": {},
   "outputs": [
    {
     "data": {
      "text/plain": [
       "(10127, 23)"
      ]
     },
     "execution_count": 3,
     "metadata": {},
     "output_type": "execute_result"
    }
   ],
   "source": [
    "bank_df.shape"
   ]
  },
  {
   "cell_type": "code",
   "execution_count": 4,
   "id": "bf90ab23-c95c-4f68-9782-d15ff830e4d1",
   "metadata": {},
   "outputs": [
    {
     "data": {
      "text/html": [
       "<div>\n",
       "<style scoped>\n",
       "    .dataframe tbody tr th:only-of-type {\n",
       "        vertical-align: middle;\n",
       "    }\n",
       "\n",
       "    .dataframe tbody tr th {\n",
       "        vertical-align: top;\n",
       "    }\n",
       "\n",
       "    .dataframe thead th {\n",
       "        text-align: right;\n",
       "    }\n",
       "</style>\n",
       "<table border=\"1\" class=\"dataframe\">\n",
       "  <thead>\n",
       "    <tr style=\"text-align: right;\">\n",
       "      <th></th>\n",
       "      <th>CLIENTNUM</th>\n",
       "      <th>Attrition_Flag</th>\n",
       "      <th>Customer_Age</th>\n",
       "      <th>Gender</th>\n",
       "      <th>Dependent_count</th>\n",
       "      <th>Education_Level</th>\n",
       "      <th>Marital_Status</th>\n",
       "      <th>Income_Category</th>\n",
       "      <th>Card_Category</th>\n",
       "      <th>Months_on_book</th>\n",
       "      <th>...</th>\n",
       "      <th>Credit_Limit</th>\n",
       "      <th>Total_Revolving_Bal</th>\n",
       "      <th>Avg_Open_To_Buy</th>\n",
       "      <th>Total_Amt_Chng_Q4_Q1</th>\n",
       "      <th>Total_Trans_Amt</th>\n",
       "      <th>Total_Trans_Ct</th>\n",
       "      <th>Total_Ct_Chng_Q4_Q1</th>\n",
       "      <th>Avg_Utilization_Ratio</th>\n",
       "      <th>Naive_Bayes_Classifier_Attrition_Flag_Card_Category_Contacts_Count_12_mon_Dependent_count_Education_Level_Months_Inactive_12_mon_1</th>\n",
       "      <th>Naive_Bayes_Classifier_Attrition_Flag_Card_Category_Contacts_Count_12_mon_Dependent_count_Education_Level_Months_Inactive_12_mon_2</th>\n",
       "    </tr>\n",
       "  </thead>\n",
       "  <tbody>\n",
       "    <tr>\n",
       "      <th>0</th>\n",
       "      <td>768805383</td>\n",
       "      <td>Existing Customer</td>\n",
       "      <td>45</td>\n",
       "      <td>M</td>\n",
       "      <td>3</td>\n",
       "      <td>High School</td>\n",
       "      <td>Married</td>\n",
       "      <td>$60K - $80K</td>\n",
       "      <td>Blue</td>\n",
       "      <td>39</td>\n",
       "      <td>...</td>\n",
       "      <td>12691.0</td>\n",
       "      <td>777</td>\n",
       "      <td>11914.0</td>\n",
       "      <td>1.335</td>\n",
       "      <td>1144</td>\n",
       "      <td>42</td>\n",
       "      <td>1.625</td>\n",
       "      <td>0.061</td>\n",
       "      <td>0.000093</td>\n",
       "      <td>0.99991</td>\n",
       "    </tr>\n",
       "    <tr>\n",
       "      <th>1</th>\n",
       "      <td>818770008</td>\n",
       "      <td>Existing Customer</td>\n",
       "      <td>49</td>\n",
       "      <td>F</td>\n",
       "      <td>5</td>\n",
       "      <td>Graduate</td>\n",
       "      <td>Single</td>\n",
       "      <td>Less than $40K</td>\n",
       "      <td>Blue</td>\n",
       "      <td>44</td>\n",
       "      <td>...</td>\n",
       "      <td>8256.0</td>\n",
       "      <td>864</td>\n",
       "      <td>7392.0</td>\n",
       "      <td>1.541</td>\n",
       "      <td>1291</td>\n",
       "      <td>33</td>\n",
       "      <td>3.714</td>\n",
       "      <td>0.105</td>\n",
       "      <td>0.000057</td>\n",
       "      <td>0.99994</td>\n",
       "    </tr>\n",
       "    <tr>\n",
       "      <th>2</th>\n",
       "      <td>713982108</td>\n",
       "      <td>Existing Customer</td>\n",
       "      <td>51</td>\n",
       "      <td>M</td>\n",
       "      <td>3</td>\n",
       "      <td>Graduate</td>\n",
       "      <td>Married</td>\n",
       "      <td>$80K - $120K</td>\n",
       "      <td>Blue</td>\n",
       "      <td>36</td>\n",
       "      <td>...</td>\n",
       "      <td>3418.0</td>\n",
       "      <td>0</td>\n",
       "      <td>3418.0</td>\n",
       "      <td>2.594</td>\n",
       "      <td>1887</td>\n",
       "      <td>20</td>\n",
       "      <td>2.333</td>\n",
       "      <td>0.000</td>\n",
       "      <td>0.000021</td>\n",
       "      <td>0.99998</td>\n",
       "    </tr>\n",
       "    <tr>\n",
       "      <th>3</th>\n",
       "      <td>769911858</td>\n",
       "      <td>Existing Customer</td>\n",
       "      <td>40</td>\n",
       "      <td>F</td>\n",
       "      <td>4</td>\n",
       "      <td>High School</td>\n",
       "      <td>Unknown</td>\n",
       "      <td>Less than $40K</td>\n",
       "      <td>Blue</td>\n",
       "      <td>34</td>\n",
       "      <td>...</td>\n",
       "      <td>3313.0</td>\n",
       "      <td>2517</td>\n",
       "      <td>796.0</td>\n",
       "      <td>1.405</td>\n",
       "      <td>1171</td>\n",
       "      <td>20</td>\n",
       "      <td>2.333</td>\n",
       "      <td>0.760</td>\n",
       "      <td>0.000134</td>\n",
       "      <td>0.99987</td>\n",
       "    </tr>\n",
       "    <tr>\n",
       "      <th>4</th>\n",
       "      <td>709106358</td>\n",
       "      <td>Existing Customer</td>\n",
       "      <td>40</td>\n",
       "      <td>M</td>\n",
       "      <td>3</td>\n",
       "      <td>Uneducated</td>\n",
       "      <td>Married</td>\n",
       "      <td>$60K - $80K</td>\n",
       "      <td>Blue</td>\n",
       "      <td>21</td>\n",
       "      <td>...</td>\n",
       "      <td>4716.0</td>\n",
       "      <td>0</td>\n",
       "      <td>4716.0</td>\n",
       "      <td>2.175</td>\n",
       "      <td>816</td>\n",
       "      <td>28</td>\n",
       "      <td>2.500</td>\n",
       "      <td>0.000</td>\n",
       "      <td>0.000022</td>\n",
       "      <td>0.99998</td>\n",
       "    </tr>\n",
       "  </tbody>\n",
       "</table>\n",
       "<p>5 rows × 23 columns</p>\n",
       "</div>"
      ],
      "text/plain": [
       "   CLIENTNUM     Attrition_Flag  Customer_Age Gender  Dependent_count  \\\n",
       "0  768805383  Existing Customer            45      M                3   \n",
       "1  818770008  Existing Customer            49      F                5   \n",
       "2  713982108  Existing Customer            51      M                3   \n",
       "3  769911858  Existing Customer            40      F                4   \n",
       "4  709106358  Existing Customer            40      M                3   \n",
       "\n",
       "  Education_Level Marital_Status Income_Category Card_Category  \\\n",
       "0     High School        Married     $60K - $80K          Blue   \n",
       "1        Graduate         Single  Less than $40K          Blue   \n",
       "2        Graduate        Married    $80K - $120K          Blue   \n",
       "3     High School        Unknown  Less than $40K          Blue   \n",
       "4      Uneducated        Married     $60K - $80K          Blue   \n",
       "\n",
       "   Months_on_book  ...  Credit_Limit  Total_Revolving_Bal  Avg_Open_To_Buy  \\\n",
       "0              39  ...       12691.0                  777          11914.0   \n",
       "1              44  ...        8256.0                  864           7392.0   \n",
       "2              36  ...        3418.0                    0           3418.0   \n",
       "3              34  ...        3313.0                 2517            796.0   \n",
       "4              21  ...        4716.0                    0           4716.0   \n",
       "\n",
       "   Total_Amt_Chng_Q4_Q1  Total_Trans_Amt  Total_Trans_Ct  Total_Ct_Chng_Q4_Q1  \\\n",
       "0                 1.335             1144              42                1.625   \n",
       "1                 1.541             1291              33                3.714   \n",
       "2                 2.594             1887              20                2.333   \n",
       "3                 1.405             1171              20                2.333   \n",
       "4                 2.175              816              28                2.500   \n",
       "\n",
       "   Avg_Utilization_Ratio  \\\n",
       "0                  0.061   \n",
       "1                  0.105   \n",
       "2                  0.000   \n",
       "3                  0.760   \n",
       "4                  0.000   \n",
       "\n",
       "   Naive_Bayes_Classifier_Attrition_Flag_Card_Category_Contacts_Count_12_mon_Dependent_count_Education_Level_Months_Inactive_12_mon_1  \\\n",
       "0                                           0.000093                                                                                    \n",
       "1                                           0.000057                                                                                    \n",
       "2                                           0.000021                                                                                    \n",
       "3                                           0.000134                                                                                    \n",
       "4                                           0.000022                                                                                    \n",
       "\n",
       "   Naive_Bayes_Classifier_Attrition_Flag_Card_Category_Contacts_Count_12_mon_Dependent_count_Education_Level_Months_Inactive_12_mon_2  \n",
       "0                                            0.99991                                                                                   \n",
       "1                                            0.99994                                                                                   \n",
       "2                                            0.99998                                                                                   \n",
       "3                                            0.99987                                                                                   \n",
       "4                                            0.99998                                                                                   \n",
       "\n",
       "[5 rows x 23 columns]"
      ]
     },
     "execution_count": 4,
     "metadata": {},
     "output_type": "execute_result"
    }
   ],
   "source": [
    "bank_df.head()"
   ]
  },
  {
   "cell_type": "code",
   "execution_count": 5,
   "id": "0d809d6c-0913-4e4c-ac46-b80595e5c7a6",
   "metadata": {},
   "outputs": [],
   "source": [
    "bank_df.drop(columns = [bank_df.columns[len(bank_df.columns) - 1], bank_df.columns[len(bank_df.columns) - 2]], inplace = True)"
   ]
  },
  {
   "cell_type": "code",
   "execution_count": 6,
   "id": "7fc5dd4b-fba4-4375-9b02-1cc875e80dd1",
   "metadata": {},
   "outputs": [
    {
     "data": {
      "text/html": [
       "<div>\n",
       "<style scoped>\n",
       "    .dataframe tbody tr th:only-of-type {\n",
       "        vertical-align: middle;\n",
       "    }\n",
       "\n",
       "    .dataframe tbody tr th {\n",
       "        vertical-align: top;\n",
       "    }\n",
       "\n",
       "    .dataframe thead th {\n",
       "        text-align: right;\n",
       "    }\n",
       "</style>\n",
       "<table border=\"1\" class=\"dataframe\">\n",
       "  <thead>\n",
       "    <tr style=\"text-align: right;\">\n",
       "      <th></th>\n",
       "      <th>CLIENTNUM</th>\n",
       "      <th>Attrition_Flag</th>\n",
       "      <th>Customer_Age</th>\n",
       "      <th>Gender</th>\n",
       "      <th>Dependent_count</th>\n",
       "      <th>Education_Level</th>\n",
       "      <th>Marital_Status</th>\n",
       "      <th>Income_Category</th>\n",
       "      <th>Card_Category</th>\n",
       "      <th>Months_on_book</th>\n",
       "      <th>...</th>\n",
       "      <th>Months_Inactive_12_mon</th>\n",
       "      <th>Contacts_Count_12_mon</th>\n",
       "      <th>Credit_Limit</th>\n",
       "      <th>Total_Revolving_Bal</th>\n",
       "      <th>Avg_Open_To_Buy</th>\n",
       "      <th>Total_Amt_Chng_Q4_Q1</th>\n",
       "      <th>Total_Trans_Amt</th>\n",
       "      <th>Total_Trans_Ct</th>\n",
       "      <th>Total_Ct_Chng_Q4_Q1</th>\n",
       "      <th>Avg_Utilization_Ratio</th>\n",
       "    </tr>\n",
       "  </thead>\n",
       "  <tbody>\n",
       "    <tr>\n",
       "      <th>0</th>\n",
       "      <td>768805383</td>\n",
       "      <td>Existing Customer</td>\n",
       "      <td>45</td>\n",
       "      <td>M</td>\n",
       "      <td>3</td>\n",
       "      <td>High School</td>\n",
       "      <td>Married</td>\n",
       "      <td>$60K - $80K</td>\n",
       "      <td>Blue</td>\n",
       "      <td>39</td>\n",
       "      <td>...</td>\n",
       "      <td>1</td>\n",
       "      <td>3</td>\n",
       "      <td>12691.0</td>\n",
       "      <td>777</td>\n",
       "      <td>11914.0</td>\n",
       "      <td>1.335</td>\n",
       "      <td>1144</td>\n",
       "      <td>42</td>\n",
       "      <td>1.625</td>\n",
       "      <td>0.061</td>\n",
       "    </tr>\n",
       "    <tr>\n",
       "      <th>1</th>\n",
       "      <td>818770008</td>\n",
       "      <td>Existing Customer</td>\n",
       "      <td>49</td>\n",
       "      <td>F</td>\n",
       "      <td>5</td>\n",
       "      <td>Graduate</td>\n",
       "      <td>Single</td>\n",
       "      <td>Less than $40K</td>\n",
       "      <td>Blue</td>\n",
       "      <td>44</td>\n",
       "      <td>...</td>\n",
       "      <td>1</td>\n",
       "      <td>2</td>\n",
       "      <td>8256.0</td>\n",
       "      <td>864</td>\n",
       "      <td>7392.0</td>\n",
       "      <td>1.541</td>\n",
       "      <td>1291</td>\n",
       "      <td>33</td>\n",
       "      <td>3.714</td>\n",
       "      <td>0.105</td>\n",
       "    </tr>\n",
       "    <tr>\n",
       "      <th>2</th>\n",
       "      <td>713982108</td>\n",
       "      <td>Existing Customer</td>\n",
       "      <td>51</td>\n",
       "      <td>M</td>\n",
       "      <td>3</td>\n",
       "      <td>Graduate</td>\n",
       "      <td>Married</td>\n",
       "      <td>$80K - $120K</td>\n",
       "      <td>Blue</td>\n",
       "      <td>36</td>\n",
       "      <td>...</td>\n",
       "      <td>1</td>\n",
       "      <td>0</td>\n",
       "      <td>3418.0</td>\n",
       "      <td>0</td>\n",
       "      <td>3418.0</td>\n",
       "      <td>2.594</td>\n",
       "      <td>1887</td>\n",
       "      <td>20</td>\n",
       "      <td>2.333</td>\n",
       "      <td>0.000</td>\n",
       "    </tr>\n",
       "    <tr>\n",
       "      <th>3</th>\n",
       "      <td>769911858</td>\n",
       "      <td>Existing Customer</td>\n",
       "      <td>40</td>\n",
       "      <td>F</td>\n",
       "      <td>4</td>\n",
       "      <td>High School</td>\n",
       "      <td>Unknown</td>\n",
       "      <td>Less than $40K</td>\n",
       "      <td>Blue</td>\n",
       "      <td>34</td>\n",
       "      <td>...</td>\n",
       "      <td>4</td>\n",
       "      <td>1</td>\n",
       "      <td>3313.0</td>\n",
       "      <td>2517</td>\n",
       "      <td>796.0</td>\n",
       "      <td>1.405</td>\n",
       "      <td>1171</td>\n",
       "      <td>20</td>\n",
       "      <td>2.333</td>\n",
       "      <td>0.760</td>\n",
       "    </tr>\n",
       "    <tr>\n",
       "      <th>4</th>\n",
       "      <td>709106358</td>\n",
       "      <td>Existing Customer</td>\n",
       "      <td>40</td>\n",
       "      <td>M</td>\n",
       "      <td>3</td>\n",
       "      <td>Uneducated</td>\n",
       "      <td>Married</td>\n",
       "      <td>$60K - $80K</td>\n",
       "      <td>Blue</td>\n",
       "      <td>21</td>\n",
       "      <td>...</td>\n",
       "      <td>1</td>\n",
       "      <td>0</td>\n",
       "      <td>4716.0</td>\n",
       "      <td>0</td>\n",
       "      <td>4716.0</td>\n",
       "      <td>2.175</td>\n",
       "      <td>816</td>\n",
       "      <td>28</td>\n",
       "      <td>2.500</td>\n",
       "      <td>0.000</td>\n",
       "    </tr>\n",
       "  </tbody>\n",
       "</table>\n",
       "<p>5 rows × 21 columns</p>\n",
       "</div>"
      ],
      "text/plain": [
       "   CLIENTNUM     Attrition_Flag  Customer_Age Gender  Dependent_count  \\\n",
       "0  768805383  Existing Customer            45      M                3   \n",
       "1  818770008  Existing Customer            49      F                5   \n",
       "2  713982108  Existing Customer            51      M                3   \n",
       "3  769911858  Existing Customer            40      F                4   \n",
       "4  709106358  Existing Customer            40      M                3   \n",
       "\n",
       "  Education_Level Marital_Status Income_Category Card_Category  \\\n",
       "0     High School        Married     $60K - $80K          Blue   \n",
       "1        Graduate         Single  Less than $40K          Blue   \n",
       "2        Graduate        Married    $80K - $120K          Blue   \n",
       "3     High School        Unknown  Less than $40K          Blue   \n",
       "4      Uneducated        Married     $60K - $80K          Blue   \n",
       "\n",
       "   Months_on_book  ...  Months_Inactive_12_mon  Contacts_Count_12_mon  \\\n",
       "0              39  ...                       1                      3   \n",
       "1              44  ...                       1                      2   \n",
       "2              36  ...                       1                      0   \n",
       "3              34  ...                       4                      1   \n",
       "4              21  ...                       1                      0   \n",
       "\n",
       "   Credit_Limit  Total_Revolving_Bal  Avg_Open_To_Buy  Total_Amt_Chng_Q4_Q1  \\\n",
       "0       12691.0                  777          11914.0                 1.335   \n",
       "1        8256.0                  864           7392.0                 1.541   \n",
       "2        3418.0                    0           3418.0                 2.594   \n",
       "3        3313.0                 2517            796.0                 1.405   \n",
       "4        4716.0                    0           4716.0                 2.175   \n",
       "\n",
       "   Total_Trans_Amt  Total_Trans_Ct  Total_Ct_Chng_Q4_Q1  Avg_Utilization_Ratio  \n",
       "0             1144              42                1.625                  0.061  \n",
       "1             1291              33                3.714                  0.105  \n",
       "2             1887              20                2.333                  0.000  \n",
       "3             1171              20                2.333                  0.760  \n",
       "4              816              28                2.500                  0.000  \n",
       "\n",
       "[5 rows x 21 columns]"
      ]
     },
     "execution_count": 6,
     "metadata": {},
     "output_type": "execute_result"
    }
   ],
   "source": [
    "bank_df.head()"
   ]
  },
  {
   "cell_type": "markdown",
   "id": "5aab68f3-b89f-40e2-b849-4399a16efa0a",
   "metadata": {},
   "source": [
    "-\tTrate las variables nulas:\n",
    "o\tEn caso de que la columna tenga mas del 90% de valores nulos excluir \n",
    "o\tEn caso de que se variable numérica, identifique alguna buena estrateficacion para remplazar los valores nulos por el valor de la mediana \n",
    "o\tEn caso de que sean variables categóricas reemplazar por el valor “others”\n"
   ]
  },
  {
   "cell_type": "code",
   "execution_count": 7,
   "id": "37306e94-41f3-4c70-bd07-8c47feed3498",
   "metadata": {},
   "outputs": [
    {
     "data": {
      "text/plain": [
       "CLIENTNUM                   0\n",
       "Attrition_Flag              0\n",
       "Customer_Age                0\n",
       "Gender                      0\n",
       "Dependent_count             0\n",
       "Education_Level             0\n",
       "Marital_Status              0\n",
       "Income_Category             0\n",
       "Card_Category               0\n",
       "Months_on_book              0\n",
       "Total_Relationship_Count    0\n",
       "Months_Inactive_12_mon      0\n",
       "Contacts_Count_12_mon       0\n",
       "Credit_Limit                0\n",
       "Total_Revolving_Bal         0\n",
       "Avg_Open_To_Buy             0\n",
       "Total_Amt_Chng_Q4_Q1        0\n",
       "Total_Trans_Amt             0\n",
       "Total_Trans_Ct              0\n",
       "Total_Ct_Chng_Q4_Q1         0\n",
       "Avg_Utilization_Ratio       0\n",
       "dtype: int64"
      ]
     },
     "execution_count": 7,
     "metadata": {},
     "output_type": "execute_result"
    }
   ],
   "source": [
    "bank_df.isnull().sum()"
   ]
  },
  {
   "cell_type": "code",
   "execution_count": 8,
   "id": "25e404db-9887-4ac2-aaaf-5058ad722be7",
   "metadata": {},
   "outputs": [
    {
     "name": "stdout",
     "output_type": "stream",
     "text": [
      "<class 'pandas.core.frame.DataFrame'>\n",
      "RangeIndex: 10127 entries, 0 to 10126\n",
      "Data columns (total 21 columns):\n",
      " #   Column                    Non-Null Count  Dtype  \n",
      "---  ------                    --------------  -----  \n",
      " 0   CLIENTNUM                 10127 non-null  int64  \n",
      " 1   Attrition_Flag            10127 non-null  object \n",
      " 2   Customer_Age              10127 non-null  int64  \n",
      " 3   Gender                    10127 non-null  object \n",
      " 4   Dependent_count           10127 non-null  int64  \n",
      " 5   Education_Level           10127 non-null  object \n",
      " 6   Marital_Status            10127 non-null  object \n",
      " 7   Income_Category           10127 non-null  object \n",
      " 8   Card_Category             10127 non-null  object \n",
      " 9   Months_on_book            10127 non-null  int64  \n",
      " 10  Total_Relationship_Count  10127 non-null  int64  \n",
      " 11  Months_Inactive_12_mon    10127 non-null  int64  \n",
      " 12  Contacts_Count_12_mon     10127 non-null  int64  \n",
      " 13  Credit_Limit              10127 non-null  float64\n",
      " 14  Total_Revolving_Bal       10127 non-null  int64  \n",
      " 15  Avg_Open_To_Buy           10127 non-null  float64\n",
      " 16  Total_Amt_Chng_Q4_Q1      10127 non-null  float64\n",
      " 17  Total_Trans_Amt           10127 non-null  int64  \n",
      " 18  Total_Trans_Ct            10127 non-null  int64  \n",
      " 19  Total_Ct_Chng_Q4_Q1       10127 non-null  float64\n",
      " 20  Avg_Utilization_Ratio     10127 non-null  float64\n",
      "dtypes: float64(5), int64(10), object(6)\n",
      "memory usage: 1.6+ MB\n"
     ]
    }
   ],
   "source": [
    "bank_df.info()"
   ]
  },
  {
   "cell_type": "code",
   "execution_count": 9,
   "id": "c5e74688-9cb7-4492-a9c7-9af6f8d313c9",
   "metadata": {},
   "outputs": [
    {
     "data": {
      "text/plain": [
       "Index(['CLIENTNUM', 'Attrition_Flag', 'Customer_Age', 'Gender',\n",
       "       'Dependent_count', 'Education_Level', 'Marital_Status',\n",
       "       'Income_Category', 'Card_Category', 'Months_on_book',\n",
       "       'Total_Relationship_Count', 'Months_Inactive_12_mon',\n",
       "       'Contacts_Count_12_mon', 'Credit_Limit', 'Total_Revolving_Bal',\n",
       "       'Avg_Open_To_Buy', 'Total_Amt_Chng_Q4_Q1', 'Total_Trans_Amt',\n",
       "       'Total_Trans_Ct', 'Total_Ct_Chng_Q4_Q1', 'Avg_Utilization_Ratio'],\n",
       "      dtype='object')"
      ]
     },
     "execution_count": 9,
     "metadata": {},
     "output_type": "execute_result"
    }
   ],
   "source": [
    "bank_df.columns"
   ]
  },
  {
   "cell_type": "code",
   "execution_count": 10,
   "id": "f60dba3a-a56f-40d3-93d3-436b23486365",
   "metadata": {},
   "outputs": [
    {
     "data": {
      "text/html": [
       "<div>\n",
       "<style scoped>\n",
       "    .dataframe tbody tr th:only-of-type {\n",
       "        vertical-align: middle;\n",
       "    }\n",
       "\n",
       "    .dataframe tbody tr th {\n",
       "        vertical-align: top;\n",
       "    }\n",
       "\n",
       "    .dataframe thead th {\n",
       "        text-align: right;\n",
       "    }\n",
       "</style>\n",
       "<table border=\"1\" class=\"dataframe\">\n",
       "  <thead>\n",
       "    <tr style=\"text-align: right;\">\n",
       "      <th></th>\n",
       "      <th>count</th>\n",
       "      <th>unique</th>\n",
       "      <th>top</th>\n",
       "      <th>freq</th>\n",
       "    </tr>\n",
       "  </thead>\n",
       "  <tbody>\n",
       "    <tr>\n",
       "      <th>Attrition_Flag</th>\n",
       "      <td>10127</td>\n",
       "      <td>2</td>\n",
       "      <td>Existing Customer</td>\n",
       "      <td>8500</td>\n",
       "    </tr>\n",
       "    <tr>\n",
       "      <th>Gender</th>\n",
       "      <td>10127</td>\n",
       "      <td>2</td>\n",
       "      <td>F</td>\n",
       "      <td>5358</td>\n",
       "    </tr>\n",
       "    <tr>\n",
       "      <th>Education_Level</th>\n",
       "      <td>10127</td>\n",
       "      <td>7</td>\n",
       "      <td>Graduate</td>\n",
       "      <td>3128</td>\n",
       "    </tr>\n",
       "    <tr>\n",
       "      <th>Marital_Status</th>\n",
       "      <td>10127</td>\n",
       "      <td>4</td>\n",
       "      <td>Married</td>\n",
       "      <td>4687</td>\n",
       "    </tr>\n",
       "    <tr>\n",
       "      <th>Income_Category</th>\n",
       "      <td>10127</td>\n",
       "      <td>6</td>\n",
       "      <td>Less than $40K</td>\n",
       "      <td>3561</td>\n",
       "    </tr>\n",
       "    <tr>\n",
       "      <th>Card_Category</th>\n",
       "      <td>10127</td>\n",
       "      <td>4</td>\n",
       "      <td>Blue</td>\n",
       "      <td>9436</td>\n",
       "    </tr>\n",
       "  </tbody>\n",
       "</table>\n",
       "</div>"
      ],
      "text/plain": [
       "                 count unique                top  freq\n",
       "Attrition_Flag   10127      2  Existing Customer  8500\n",
       "Gender           10127      2                  F  5358\n",
       "Education_Level  10127      7           Graduate  3128\n",
       "Marital_Status   10127      4            Married  4687\n",
       "Income_Category  10127      6     Less than $40K  3561\n",
       "Card_Category    10127      4               Blue  9436"
      ]
     },
     "execution_count": 10,
     "metadata": {},
     "output_type": "execute_result"
    }
   ],
   "source": [
    "bank_df.describe(include='O').T"
   ]
  },
  {
   "cell_type": "code",
   "execution_count": 11,
   "id": "9c238757-9f7a-4ea2-915e-6766cdb8b57f",
   "metadata": {},
   "outputs": [
    {
     "name": "stdout",
     "output_type": "stream",
     "text": [
      "CLIENTNUM 10127\n",
      "Attrition_Flag 2\n",
      "Customer_Age 45\n",
      "Gender 2\n",
      "Dependent_count 6\n",
      "Education_Level 7\n",
      "Marital_Status 4\n",
      "Income_Category 6\n",
      "Card_Category 4\n",
      "Months_on_book 44\n",
      "Total_Relationship_Count 6\n",
      "Months_Inactive_12_mon 7\n",
      "Contacts_Count_12_mon 7\n",
      "Credit_Limit 6205\n",
      "Total_Revolving_Bal 1974\n",
      "Avg_Open_To_Buy 6813\n",
      "Total_Amt_Chng_Q4_Q1 1158\n",
      "Total_Trans_Amt 5033\n",
      "Total_Trans_Ct 126\n",
      "Total_Ct_Chng_Q4_Q1 830\n",
      "Avg_Utilization_Ratio 964\n"
     ]
    }
   ],
   "source": [
    "for cols in bank_df.columns:\n",
    "    valores_unicos = bank_df[cols].unique()\n",
    "    tamaño_valores = len(valores_unicos)\n",
    "    print(cols , tamaño_valores)"
   ]
  },
  {
   "cell_type": "code",
   "execution_count": 12,
   "id": "ae02b0fb-3b63-481a-8044-ddbfdb73b599",
   "metadata": {},
   "outputs": [
    {
     "data": {
      "text/plain": [
       "[]"
      ]
     },
     "execution_count": 12,
     "metadata": {},
     "output_type": "execute_result"
    }
   ],
   "source": [
    "#------ Tratamiento de Variables Nulas ------#\n",
    "\n",
    "# 1 - Exclusion de columnas con mas del 90% de valores nulos\n",
    "\n",
    "#Arreglo para guardar aquellas columnas que en sus valores, nulo represente mas del 90% de la columna\n",
    "cols_drop = []\n",
    "\n",
    "#Para cambiar los valores NaN por la palabra Nulo y asi poder hacer la agrupacion\n",
    "for cols in bank_df.columns:\n",
    "    levels = bank_df.groupby( [cols], as_index = False ).agg( {\"CLIENTNUM\" : [\"count\"] } )\n",
    "    levels.columns = levels.columns.droplevel(1)\n",
    "    levels[\"Percentage\"] = levels[\"CLIENTNUM\"] / bank_df.shape[0]\n",
    "    levels = levels.sort_values([\"Percentage\"] , ascending = False)\n",
    "    \n",
    "    if ((levels[cols].iloc[0] == 0)|(levels[cols].iloc[0] == \"Unknown\")) & (levels[\"Percentage\"].iloc[0] >= 0.90):\n",
    "        bank_df = bank_df.drop( [cols], axis = 1 )\n",
    "        cols_drop.append(cols)\n",
    "    else:\n",
    "        continue\n",
    "\n",
    "cols_drop"
   ]
  },
  {
   "cell_type": "code",
   "execution_count": 13,
   "id": "fe3a16ca-6355-4b10-8688-0bc9042a72b1",
   "metadata": {},
   "outputs": [],
   "source": [
    "#Manera de dividir las columnas por sus tipos, ya sea numerica o categorica\n",
    "cols_numeric = []\n",
    "cols_category = []\n",
    "\n",
    "for cols_ in bank_df.columns:\n",
    "    if (bank_df[cols_].dtypes in['int64']) | (bank_df[cols_].dtypes in['float64']):\n",
    "        cols_numeric.append(cols_)\n",
    "    elif bank_df[cols_].dtypes in['object']:\n",
    "        bank_df[bank_df[cols] == \"\"]\n",
    "        cols_category.append(cols_)\n",
    "    else: \n",
    "        continue"
   ]
  },
  {
   "cell_type": "code",
   "execution_count": 14,
   "id": "2c601189-0a64-48e4-a20d-db14a7c4ed9f",
   "metadata": {},
   "outputs": [
    {
     "data": {
      "text/plain": [
       "['CLIENTNUM',\n",
       " 'Customer_Age',\n",
       " 'Dependent_count',\n",
       " 'Months_on_book',\n",
       " 'Total_Relationship_Count',\n",
       " 'Months_Inactive_12_mon',\n",
       " 'Contacts_Count_12_mon',\n",
       " 'Credit_Limit',\n",
       " 'Total_Revolving_Bal',\n",
       " 'Avg_Open_To_Buy',\n",
       " 'Total_Amt_Chng_Q4_Q1',\n",
       " 'Total_Trans_Amt',\n",
       " 'Total_Trans_Ct',\n",
       " 'Total_Ct_Chng_Q4_Q1',\n",
       " 'Avg_Utilization_Ratio']"
      ]
     },
     "execution_count": 14,
     "metadata": {},
     "output_type": "execute_result"
    }
   ],
   "source": [
    "cols_numeric"
   ]
  },
  {
   "cell_type": "code",
   "execution_count": 15,
   "id": "b6923f74-2249-4eeb-8522-3e333e67dd86",
   "metadata": {},
   "outputs": [
    {
     "data": {
      "text/plain": [
       "['Attrition_Flag',\n",
       " 'Gender',\n",
       " 'Education_Level',\n",
       " 'Marital_Status',\n",
       " 'Income_Category',\n",
       " 'Card_Category']"
      ]
     },
     "execution_count": 15,
     "metadata": {},
     "output_type": "execute_result"
    }
   ],
   "source": [
    "cols_category"
   ]
  },
  {
   "cell_type": "code",
   "execution_count": 16,
   "id": "5f318de9-4fa7-4ed2-9fe6-c75d03dca062",
   "metadata": {},
   "outputs": [],
   "source": [
    "# 2 - Cambiar valores nulos por mediana en las columnas numéricas\n",
    "for cols in cols_numeric:\n",
    "    bank_df.loc[bank_df[cols] == 0, cols] = np.median(bank_df[cols])"
   ]
  },
  {
   "cell_type": "code",
   "execution_count": 17,
   "id": "9feabf87-4a79-449e-a00c-cef17d5fa53a",
   "metadata": {},
   "outputs": [
    {
     "data": {
      "text/html": [
       "<div>\n",
       "<style scoped>\n",
       "    .dataframe tbody tr th:only-of-type {\n",
       "        vertical-align: middle;\n",
       "    }\n",
       "\n",
       "    .dataframe tbody tr th {\n",
       "        vertical-align: top;\n",
       "    }\n",
       "\n",
       "    .dataframe thead th {\n",
       "        text-align: right;\n",
       "    }\n",
       "</style>\n",
       "<table border=\"1\" class=\"dataframe\">\n",
       "  <thead>\n",
       "    <tr style=\"text-align: right;\">\n",
       "      <th></th>\n",
       "      <th>Dependent_count</th>\n",
       "    </tr>\n",
       "  </thead>\n",
       "  <tbody>\n",
       "  </tbody>\n",
       "</table>\n",
       "</div>"
      ],
      "text/plain": [
       "Empty DataFrame\n",
       "Columns: [Dependent_count]\n",
       "Index: []"
      ]
     },
     "execution_count": 17,
     "metadata": {},
     "output_type": "execute_result"
    }
   ],
   "source": [
    "ValorNull = bank_df.loc[bank_df[\"Dependent_count\"] == 0 , [\"Dependent_count\"]]\n",
    "ValorNull"
   ]
  },
  {
   "cell_type": "code",
   "execution_count": 18,
   "id": "78b69124-aac7-4c49-adbf-3df98e112eff",
   "metadata": {},
   "outputs": [],
   "source": [
    "# 3 - Cambiar valores nulos de variables categoricas por \"Others\"\n",
    "bank_df = bank_df.replace(['Unknown'],'Others')"
   ]
  },
  {
   "cell_type": "code",
   "execution_count": 19,
   "id": "305e2bbc-5a4c-425b-bf31-daf83d87b8ba",
   "metadata": {},
   "outputs": [
    {
     "data": {
      "text/html": [
       "<div>\n",
       "<style scoped>\n",
       "    .dataframe tbody tr th:only-of-type {\n",
       "        vertical-align: middle;\n",
       "    }\n",
       "\n",
       "    .dataframe tbody tr th {\n",
       "        vertical-align: top;\n",
       "    }\n",
       "\n",
       "    .dataframe thead th {\n",
       "        text-align: right;\n",
       "    }\n",
       "</style>\n",
       "<table border=\"1\" class=\"dataframe\">\n",
       "  <thead>\n",
       "    <tr style=\"text-align: right;\">\n",
       "      <th></th>\n",
       "      <th>Marital_Status</th>\n",
       "    </tr>\n",
       "  </thead>\n",
       "  <tbody>\n",
       "  </tbody>\n",
       "</table>\n",
       "</div>"
      ],
      "text/plain": [
       "Empty DataFrame\n",
       "Columns: [Marital_Status]\n",
       "Index: []"
      ]
     },
     "execution_count": 19,
     "metadata": {},
     "output_type": "execute_result"
    }
   ],
   "source": [
    "Unknown = bank_df.loc[bank_df[\"Marital_Status\"] == 0 , [\"Marital_Status\"]]\n",
    "Unknown"
   ]
  },
  {
   "cell_type": "markdown",
   "id": "8a8df05f-34d7-44f3-9e81-2e2a92f8ef67",
   "metadata": {},
   "source": [
    "-\tLimpie las variables categóricas\n",
    "o\tSegún las técnicas de tratamiento de limpieza de valores continuos limpie y transforme las variables categóricas\n",
    "o\tDejar en CSVs las traducciones o reglas que genera de las variables categóricas.\n"
   ]
  },
  {
   "cell_type": "code",
   "execution_count": 20,
   "id": "ed7a7b81-aebc-4a7e-86a6-25ecdb9e772f",
   "metadata": {},
   "outputs": [],
   "source": [
    "#------ Limpieza de Variables Categoricas ------#\n",
    "\n",
    "# 1 - Limpieza y Transformacion de variables categoricas\n",
    "valid_columns = []\n",
    "cols_many_levels = []\n",
    "cols_one_level = []\n",
    "cols_levels_very_representative = []\n",
    "new_columns = []\n",
    "\n",
    "size_df = bank_df.shape[0]\n",
    "umbral = .95\n",
    "\n",
    "for c_ in cols_category:\n",
    "    levels = bank_df.loc[: , [c_] ].drop_duplicates().shape[0]\n",
    "    \n",
    "    if ( levels / size_df ) >= umbral:\n",
    "        cols_many_levels.append(c_)\n",
    "    elif levels == 1:\n",
    "        cols_one_level.append(c_)\n",
    "    else:\n",
    "        levels_group = bank_df.groupby( [c_], as_index = False ).agg( {\"CLIENTNUM\" : [\"count\"] } )\n",
    "        levels_group.columns = levels_group.columns.droplevel(1)\n",
    "        levels_group[\"Percentage\"] = levels_group[\"CLIENTNUM\"] / bank_df.shape[0]\n",
    "        levels_group = levels_group.sort_values([\"Percentage\"] , ascending = False)\n",
    "        \n",
    "        #Si un nivel tiene mas del 90% porciento de datos las descartamos\n",
    "        if (levels_group[\"Percentage\"].iloc[0] >= 0.90):\n",
    "            cols_levels_very_representative.append(c_)\n",
    "        else:\n",
    "            valid_columns.append(c_)"
   ]
  },
  {
   "cell_type": "code",
   "execution_count": 21,
   "id": "2078ee6a-d429-4683-8eb4-5fbe49589b26",
   "metadata": {},
   "outputs": [
    {
     "name": "stdout",
     "output_type": "stream",
     "text": [
      "Attrition_Flag   \n",
      "Existing Customer    8500\n",
      "Attrited Customer    1627\n",
      "dtype: int64\n",
      "Gender\n",
      "F         5358\n",
      "M         4769\n",
      "dtype: int64\n",
      "Education_Level\n",
      "Graduate           3128\n",
      "High School        2013\n",
      "Others             1519\n",
      "Uneducated         1487\n",
      "College            1013\n",
      "Post-Graduate       516\n",
      "Doctorate           451\n",
      "dtype: int64\n",
      "Marital_Status\n",
      "Married           4687\n",
      "Single            3943\n",
      "Others             749\n",
      "Divorced           748\n",
      "dtype: int64\n",
      "Income_Category\n",
      "Less than $40K     3561\n",
      "$40K - $60K        1790\n",
      "$80K - $120K       1535\n",
      "$60K - $80K        1402\n",
      "Others             1112\n",
      "$120K +             727\n",
      "dtype: int64\n"
     ]
    }
   ],
   "source": [
    "#Observar los niveles de las columnas categoricas para hacer el analisis\n",
    "for c_ in valid_columns:\n",
    "    print(bank_df.loc[:, [c_]].value_counts())"
   ]
  },
  {
   "cell_type": "code",
   "execution_count": 22,
   "id": "585cba46-9159-4b84-98ed-1caed6bcacd1",
   "metadata": {},
   "outputs": [],
   "source": [
    "# ---- Limpieza Education_Level ---------\n",
    "levels = bank_df.loc[: , [\"Education_Level\"] ].drop_duplicates().shape[0]\n",
    "    \n",
    "#Cada columna categorica la dejaremos con maximo 4 niveles, las que tengan mas de 4 niveles las trataremos siendo el cuarto nivel \"Others\"\n",
    "levels_group = bank_df.groupby( [\"Education_Level\"], as_index = False ).agg( {\"CLIENTNUM\" : [\"count\"] } )\n",
    "levels_group.columns = levels_group.columns.droplevel(1)\n",
    "levels_group[\"Percentage\"] = levels_group[\"CLIENTNUM\"] / bank_df.shape[0]\n",
    "levels_group = levels_group.sort_values([\"Percentage\"] , ascending = False)\n",
    "\n",
    "#Valor del porcentaje del nivel final que dejaremos de la columna\n",
    "final_level = levels_group[\"Percentage\"].iloc[3]\n",
    "        \n",
    "#Nueva columna con los valores transformados\n",
    "levels_group[\"Education_Level_new\"] = levels_group.apply( lambda r: (\"Others\" if r[\"Percentage\"] < final_level else r[\"Education_Level\"]) , axis = 1)\n",
    "levels_group = levels_group.drop( [\"CLIENTNUM\", \"Percentage\"], axis = 1 )\n",
    "new_columns.append(levels_group.columns[1])\n",
    "        \n",
    "bank_df = bank_df.merge(levels_group, on = [\"Education_Level\"], how = \"left\")\n",
    "bank_df.loc[pd.isnull(bank_df[\"Education_Level_new\"]), \"Education_Level_new\"] = \"Others\"\n",
    "\n",
    "# ---- Limpieza Income_Category ---------\n",
    "niveles = bank_df.loc[: , [\"Income_Category\"] ].drop_duplicates().shape[0]\n",
    "    \n",
    "#Cada columna categorica la dejaremos con maximo 4 niveles, las que tengan mas de 4 niveles las trataremos siendo el cuarto nivel \"Others\"\n",
    "niveles_group = bank_df.groupby( [\"Income_Category\"], as_index = False ).agg( {\"CLIENTNUM\" : [\"count\"] } )\n",
    "niveles_group.columns = niveles_group.columns.droplevel(1)\n",
    "niveles_group[\"Percentage\"] = niveles_group[\"CLIENTNUM\"] / bank_df.shape[0]\n",
    "niveles_group = niveles_group.sort_values([\"Percentage\"] , ascending = False)\n",
    "\n",
    "#Valor del porcentaje del nivel final que dejaremos de la columna\n",
    "final = niveles_group[\"Percentage\"].iloc[3]\n",
    "        \n",
    "#Nueva columna con los valores transformados\n",
    "niveles_group[\"Income_Category_new\"] = niveles_group.apply( lambda r: (\"Others\" if r[\"Percentage\"] < final else r[\"Income_Category\"]) , axis = 1)\n",
    "niveles_group = niveles_group.drop( [\"CLIENTNUM\", \"Percentage\"], axis = 1 )\n",
    "new_columns.append(niveles_group.columns[1])\n",
    "        \n",
    "bank_df = bank_df.merge(niveles_group, on = [\"Income_Category\"], how = \"left\")\n",
    "bank_df.loc[pd.isnull(bank_df[\"Income_Category_new\"]), \"Income_Category_new\"] = \"Others\""
   ]
  },
  {
   "cell_type": "code",
   "execution_count": 23,
   "id": "0ecc2fac-8e96-4f75-896f-f455f50194b9",
   "metadata": {},
   "outputs": [],
   "source": [
    "# 2 - Archivo csv con las reglas\n",
    "levels_group = levels_group.set_index([\"Education_Level\", \"Education_Level_new\"])\n",
    "levels_group.to_csv(\"Education_Level_rules.csv\", header=True)\n",
    "\n",
    "niveles_group = niveles_group.set_index([\"Income_Category\", \"Income_Category_new\"])\n",
    "niveles_group.to_csv(\"Income_Category_rules.csv\", header=True)"
   ]
  },
  {
   "cell_type": "markdown",
   "id": "e2e5bb7d-a328-4de6-a819-6dd349003bf4",
   "metadata": {},
   "source": [
    "-\tLimpie las variables numéricas:\n",
    "o\tIdentifique y explique una buena estratificación de cómo debería de ser analizado los valores numéricos continuos.\n",
    "o\tEn caso de que en esas estratificaciones para los valores numéricos continuos hayan valores atípicos, remplazarlos por la media.\n"
   ]
  },
  {
   "cell_type": "code",
   "execution_count": 24,
   "id": "c38533aa-7080-426b-a9f8-82e5f656a7a6",
   "metadata": {},
   "outputs": [],
   "source": [
    "## A través de gráficas vamos a observar el comportamiento de las valores en base a los tipos de clientes (Attrition_Flag)"
   ]
  },
  {
   "cell_type": "code",
   "execution_count": 25,
   "id": "0776d490-370c-47fc-a86f-efe648929be2",
   "metadata": {},
   "outputs": [],
   "source": [
    "def plot_num(var):\n",
    "    \n",
    "    plt.subplot(1,2,2)\n",
    "    sns.boxplot(x='Attrition_Flag',y=var,data=bank_df);"
   ]
  },
  {
   "cell_type": "code",
   "execution_count": 26,
   "id": "32267128-5080-464f-80e7-3d5e3e624c07",
   "metadata": {},
   "outputs": [
    {
     "data": {
      "image/png": "[encoded data removed]",
      "text/plain": [
       "<Figure size 432x288 with 1 Axes>"
      ]
     },
     "metadata": {
      "needs_background": "light"
     },
     "output_type": "display_data"
    }
   ],
   "source": [
    "plot_num('Avg_Utilization_Ratio')"
   ]
  },
  {
   "cell_type": "code",
   "execution_count": 27,
   "id": "721dd49b-06a6-4dd6-ad1c-2b768928dac3",
   "metadata": {},
   "outputs": [
    {
     "data": {
      "image/png": "[encoded data removed]",
      "text/plain": [
       "<Figure size 432x288 with 1 Axes>"
      ]
     },
     "metadata": {
      "needs_background": "light"
     },
     "output_type": "display_data"
    }
   ],
   "source": [
    "plot_num('Total_Revolving_Bal')"
   ]
  },
  {
   "cell_type": "code",
   "execution_count": 28,
   "id": "78d7ff47-72f2-4f34-b608-c2a4ce8ba075",
   "metadata": {},
   "outputs": [
    {
     "data": {
      "image/png": "[encoded data removed]",
      "text/plain": [
       "<Figure size 432x288 with 1 Axes>"
      ]
     },
     "metadata": {
      "needs_background": "light"
     },
     "output_type": "display_data"
    }
   ],
   "source": [
    "plot_num('Total_Trans_Amt')"
   ]
  },
  {
   "cell_type": "code",
   "execution_count": 29,
   "id": "0a9f5bc8-4683-4a71-990f-f7e299081898",
   "metadata": {},
   "outputs": [
    {
     "data": {
      "image/png": "[encoded data removed]",
      "text/plain": [
       "<Figure size 432x288 with 1 Axes>"
      ]
     },
     "metadata": {
      "needs_background": "light"
     },
     "output_type": "display_data"
    }
   ],
   "source": [
    "plot_num('Total_Trans_Ct')"
   ]
  },
  {
   "cell_type": "code",
   "execution_count": 30,
   "id": "5e5fbc4e-954b-491b-9651-872a3509a9b7",
   "metadata": {},
   "outputs": [
    {
     "data": {
      "image/png": "[encoded data removed]",
      "text/plain": [
       "<Figure size 432x288 with 1 Axes>"
      ]
     },
     "metadata": {
      "needs_background": "light"
     },
     "output_type": "display_data"
    }
   ],
   "source": [
    "plot_num('Total_Amt_Chng_Q4_Q1')"
   ]
  },
  {
   "cell_type": "code",
   "execution_count": 31,
   "id": "479069ad-f08b-434a-9997-44ffd8038abb",
   "metadata": {},
   "outputs": [
    {
     "data": {
      "image/png": "[encoded data removed]",
      "text/plain": [
       "<Figure size 432x288 with 1 Axes>"
      ]
     },
     "metadata": {
      "needs_background": "light"
     },
     "output_type": "display_data"
    }
   ],
   "source": [
    "plot_num('Total_Ct_Chng_Q4_Q1')"
   ]
  },
  {
   "cell_type": "code",
   "execution_count": 32,
   "id": "8a825767-efdc-4bbd-bf24-8a8271e0771a",
   "metadata": {},
   "outputs": [
    {
     "data": {
      "text/plain": [
       "<seaborn.axisgrid.FacetGrid at 0x179c0319760>"
      ]
     },
     "execution_count": 32,
     "metadata": {},
     "output_type": "execute_result"
    },
    {
     "data": {
      "image/png": "[encoded data removed]",
      "text/plain": [
       "<Figure size 487.125x360 with 1 Axes>"
      ]
     },
     "metadata": {
      "needs_background": "light"
     },
     "output_type": "display_data"
    }
   ],
   "source": [
    "sns.lmplot(x='Total_Trans_Ct', y='Total_Trans_Amt', hue='Attrition_Flag', data= bank_df)"
   ]
  },
  {
   "cell_type": "code",
   "execution_count": 33,
   "id": "d1ace0a1-5d61-4d72-863b-c581107bb020",
   "metadata": {},
   "outputs": [
    {
     "data": {
      "text/plain": [
       "<seaborn.axisgrid.FacetGrid at 0x179c0351100>"
      ]
     },
     "execution_count": 33,
     "metadata": {},
     "output_type": "execute_result"
    },
    {
     "data": {
      "image/png": "[encoded data removed]",
      "text/plain": [
       "<Figure size 487.125x360 with 1 Axes>"
      ]
     },
     "metadata": {
      "needs_background": "light"
     },
     "output_type": "display_data"
    }
   ],
   "source": [
    "sns.lmplot(x='Avg_Utilization_Ratio', y='Avg_Open_To_Buy', hue='Attrition_Flag', data= bank_df)"
   ]
  },
  {
   "cell_type": "code",
   "execution_count": null,
   "id": "09785077-4289-4d51-b01b-3eb8de0f21b9",
   "metadata": {},
   "outputs": [],
   "source": [
    "## No hay regresión lineal entre nuestro objetivo que son los clientes y las variables que analizamos que serían nuestras salidas.\n",
    "\n",
    "## Analizamos los bloxplot juntos con sus histogramas antes de cambiar los valores de 0 por las medianas, observamos que dichas columnas\n",
    "## nos mostraban la probabilidad de que un cliente usara la tarjeta / abandonara el servicio. //// Luego de hacer el cambio de variable no\n",
    "## se nos permitió el uso de histogramas."
   ]
  },
  {
   "cell_type": "code",
   "execution_count": 38,
   "id": "f90caf30-af8c-403e-a94b-462509421694",
   "metadata": {},
   "outputs": [],
   "source": [
    "df = bank_df.loc[ (bank_df['Attrition_Flag'] == 'Existing Customer') & (bank_df['Gender'] == 'F') , ['Total_Trans_Amt'] ]"
   ]
  },
  {
   "cell_type": "code",
   "execution_count": 39,
   "id": "e709eba0-0c65-42dd-9657-55f8f80772d9",
   "metadata": {},
   "outputs": [
    {
     "data": {
      "text/plain": [
       "{'whiskers': [<matplotlib.lines.Line2D at 0x179c15fdb80>,\n",
       "  <matplotlib.lines.Line2D at 0x179c15fdf10>],\n",
       " 'caps': [<matplotlib.lines.Line2D at 0x179c160c2e0>,\n",
       "  <matplotlib.lines.Line2D at 0x179c160c670>],\n",
       " 'boxes': [<matplotlib.lines.Line2D at 0x179c15fd7f0>],\n",
       " 'medians': [<matplotlib.lines.Line2D at 0x179c160ca00>],\n",
       " 'fliers': [<matplotlib.lines.Line2D at 0x179c160cd90>],\n",
       " 'means': []}"
      ]
     },
     "execution_count": 39,
     "metadata": {},
     "output_type": "execute_result"
    },
    {
     "data": {
      "image/png": "[encoded data removed]",
      "text/plain": [
       "<Figure size 432x288 with 1 Axes>"
      ]
     },
     "metadata": {
      "needs_background": "light"
     },
     "output_type": "display_data"
    }
   ],
   "source": [
    "plt.boxplot(df)"
   ]
  },
  {
   "cell_type": "code",
   "execution_count": 40,
   "id": "ac06e4c1-0c8e-47c8-96cb-5c3a4d0a0075",
   "metadata": {},
   "outputs": [],
   "source": [
    "q1 = np.quantile( df , 0.25 )\n",
    "q3 = np.quantile( df , 0.75 )"
   ]
  },
  {
   "cell_type": "code",
   "execution_count": 41,
   "id": "cf0e5a73-c8a0-480e-b75c-e6d221989856",
   "metadata": {},
   "outputs": [
    {
     "data": {
      "text/plain": [
       "4311.0"
      ]
     },
     "execution_count": 41,
     "metadata": {},
     "output_type": "execute_result"
    }
   ],
   "source": [
    "np.median( df )"
   ]
  },
  {
   "cell_type": "code",
   "execution_count": 42,
   "id": "5a994289-7ead-42b1-b991-18ded4bd6fbb",
   "metadata": {},
   "outputs": [
    {
     "data": {
      "text/plain": [
       "Total_Trans_Amt    4647.788166\n",
       "dtype: float64"
      ]
     },
     "execution_count": 42,
     "metadata": {},
     "output_type": "execute_result"
    }
   ],
   "source": [
    "np.mean(df)"
   ]
  },
  {
   "cell_type": "code",
   "execution_count": 43,
   "id": "bdece6fe-6282-4e5d-9ea0-326066f8c800",
   "metadata": {},
   "outputs": [
    {
     "data": {
      "text/plain": [
       "4311.0"
      ]
     },
     "execution_count": 43,
     "metadata": {},
     "output_type": "execute_result"
    }
   ],
   "source": [
    "np.quantile( df , 0.5 )"
   ]
  },
  {
   "cell_type": "code",
   "execution_count": 44,
   "id": "2034deb2-2883-4636-9eee-854de0fdb1d8",
   "metadata": {},
   "outputs": [],
   "source": [
    "iqr = q3 - q1"
   ]
  },
  {
   "cell_type": "code",
   "execution_count": 45,
   "id": "f450a8ce-7bdb-4c6a-b3e4-7e7eeee60191",
   "metadata": {},
   "outputs": [],
   "source": [
    "upper_bound = q3 + (1.5*iqr)\n",
    "lower_bound = q1 - (1.5*iqr)"
   ]
  },
  {
   "cell_type": "code",
   "execution_count": 46,
   "id": "18814e30-75b9-47b4-8003-2c91c516ed18",
   "metadata": {},
   "outputs": [
    {
     "data": {
      "text/html": [
       "<div>\n",
       "<style scoped>\n",
       "    .dataframe tbody tr th:only-of-type {\n",
       "        vertical-align: middle;\n",
       "    }\n",
       "\n",
       "    .dataframe tbody tr th {\n",
       "        vertical-align: top;\n",
       "    }\n",
       "\n",
       "    .dataframe thead th {\n",
       "        text-align: right;\n",
       "    }\n",
       "</style>\n",
       "<table border=\"1\" class=\"dataframe\">\n",
       "  <thead>\n",
       "    <tr style=\"text-align: right;\">\n",
       "      <th></th>\n",
       "      <th>Total_Trans_Amt</th>\n",
       "    </tr>\n",
       "  </thead>\n",
       "  <tbody>\n",
       "    <tr>\n",
       "      <th>25</th>\n",
       "      <td>1051</td>\n",
       "    </tr>\n",
       "    <tr>\n",
       "      <th>28</th>\n",
       "      <td>1052</td>\n",
       "    </tr>\n",
       "    <tr>\n",
       "      <th>37</th>\n",
       "      <td>966</td>\n",
       "    </tr>\n",
       "    <tr>\n",
       "      <th>44</th>\n",
       "      <td>1042</td>\n",
       "    </tr>\n",
       "    <tr>\n",
       "      <th>55</th>\n",
       "      <td>1052</td>\n",
       "    </tr>\n",
       "    <tr>\n",
       "      <th>...</th>\n",
       "      <td>...</td>\n",
       "    </tr>\n",
       "    <tr>\n",
       "      <th>10090</th>\n",
       "      <td>15681</td>\n",
       "    </tr>\n",
       "    <tr>\n",
       "      <th>10099</th>\n",
       "      <td>16737</td>\n",
       "    </tr>\n",
       "    <tr>\n",
       "      <th>10102</th>\n",
       "      <td>16706</td>\n",
       "    </tr>\n",
       "    <tr>\n",
       "      <th>10106</th>\n",
       "      <td>15068</td>\n",
       "    </tr>\n",
       "    <tr>\n",
       "      <th>10121</th>\n",
       "      <td>14596</td>\n",
       "    </tr>\n",
       "  </tbody>\n",
       "</table>\n",
       "<p>505 rows × 1 columns</p>\n",
       "</div>"
      ],
      "text/plain": [
       "       Total_Trans_Amt\n",
       "25                1051\n",
       "28                1052\n",
       "37                 966\n",
       "44                1042\n",
       "55                1052\n",
       "...                ...\n",
       "10090            15681\n",
       "10099            16737\n",
       "10102            16706\n",
       "10106            15068\n",
       "10121            14596\n",
       "\n",
       "[505 rows x 1 columns]"
      ]
     },
     "execution_count": 46,
     "metadata": {},
     "output_type": "execute_result"
    }
   ],
   "source": [
    "df.loc[ (df['Total_Trans_Amt'] > upper_bound) | (df['Total_Trans_Amt'] < lower_bound) , : ]"
   ]
  },
  {
   "cell_type": "code",
   "execution_count": 47,
   "id": "a068947c-274c-464e-9ee5-ffbed2cd56e6",
   "metadata": {},
   "outputs": [],
   "source": [
    "dfq1 = bank_df.loc[ : , [\"Gender\",\"Total_Trans_Amt\"] ].groupby( [\"Gender\"] , as_index = False ).quantile(0.25)\n",
    "dfq1.columns = [\"Gender\",\"total_trans_q1\"]"
   ]
  },
  {
   "cell_type": "code",
   "execution_count": 55,
   "id": "4a140bf7-c720-4340-86bf-3551f7517241",
   "metadata": {},
   "outputs": [],
   "source": [
    "dfq2 = bank_df.loc[ : , [\"Gender\",\"Total_Trans_Amt\"] ].groupby( [\"Gender\"] , as_index = False ).quantile(0.5)\n",
    "dfq2.columns = [\"Gender\",\"total_trans_q2\"]"
   ]
  },
  {
   "cell_type": "code",
   "execution_count": 56,
   "id": "fbd1938f-c684-49fe-8aee-b5a9e58ea292",
   "metadata": {},
   "outputs": [],
   "source": [
    "dfq3 = bank_df.loc[ : , [\"Gender\",\"Total_Trans_Amt\"] ].groupby( [\"Gender\"] , as_index = False ).quantile(0.75)\n",
    "dfq3.columns = [\"Gender\",\"total_trans_q3\"]"
   ]
  },
  {
   "cell_type": "code",
   "execution_count": 52,
   "id": "1d81f86c-416e-4733-ba65-c7259f772c10",
   "metadata": {},
   "outputs": [
    {
     "data": {
      "text/plain": [
       "(2, 2)"
      ]
     },
     "execution_count": 52,
     "metadata": {},
     "output_type": "execute_result"
    }
   ],
   "source": [
    "dfq3.shape"
   ]
  },
  {
   "cell_type": "code",
   "execution_count": 57,
   "id": "d413b1ca-710c-4089-9c70-3c2a4f1dbb5e",
   "metadata": {},
   "outputs": [],
   "source": [
    "df_iqr = dfq1.merge( dfq3 , on=[\"Gender\"] , how=\"inner\" ).merge( dfq2 , on=[\"Gender\"] , how=\"inner\" )"
   ]
  },
  {
   "cell_type": "code",
   "execution_count": 58,
   "id": "98c1b305-ed7e-46c6-a323-55c3e16bb097",
   "metadata": {},
   "outputs": [
    {
     "data": {
      "text/html": [
       "<div>\n",
       "<style scoped>\n",
       "    .dataframe tbody tr th:only-of-type {\n",
       "        vertical-align: middle;\n",
       "    }\n",
       "\n",
       "    .dataframe tbody tr th {\n",
       "        vertical-align: top;\n",
       "    }\n",
       "\n",
       "    .dataframe thead th {\n",
       "        text-align: right;\n",
       "    }\n",
       "</style>\n",
       "<table border=\"1\" class=\"dataframe\">\n",
       "  <thead>\n",
       "    <tr style=\"text-align: right;\">\n",
       "      <th></th>\n",
       "      <th>Gender</th>\n",
       "      <th>total_trans_q1</th>\n",
       "      <th>total_trans_q3</th>\n",
       "      <th>total_trans_q2</th>\n",
       "    </tr>\n",
       "  </thead>\n",
       "  <tbody>\n",
       "    <tr>\n",
       "      <th>0</th>\n",
       "      <td>F</td>\n",
       "      <td>2424.25</td>\n",
       "      <td>4751.75</td>\n",
       "      <td>4134.0</td>\n",
       "    </tr>\n",
       "    <tr>\n",
       "      <th>1</th>\n",
       "      <td>M</td>\n",
       "      <td>1881.00</td>\n",
       "      <td>4711.00</td>\n",
       "      <td>3513.0</td>\n",
       "    </tr>\n",
       "  </tbody>\n",
       "</table>\n",
       "</div>"
      ],
      "text/plain": [
       "  Gender  total_trans_q1  total_trans_q3  total_trans_q2\n",
       "0      F         2424.25         4751.75          4134.0\n",
       "1      M         1881.00         4711.00          3513.0"
      ]
     },
     "execution_count": 58,
     "metadata": {},
     "output_type": "execute_result"
    }
   ],
   "source": [
    "df_iqr"
   ]
  },
  {
   "cell_type": "code",
   "execution_count": 59,
   "id": "a73d4da2-df8c-4857-ae87-ef97e223f202",
   "metadata": {},
   "outputs": [],
   "source": [
    "df_iqr[\"iqr\"] = df_iqr.apply( lambda r: r[\"total_trans_q3\"] - r[\"total_trans_q1\"] , axis = 1)"
   ]
  },
  {
   "cell_type": "code",
   "execution_count": 60,
   "id": "579c02d3-18c8-4ec8-ab17-c1e997db3be2",
   "metadata": {},
   "outputs": [
    {
     "data": {
      "text/html": [
       "<div>\n",
       "<style scoped>\n",
       "    .dataframe tbody tr th:only-of-type {\n",
       "        vertical-align: middle;\n",
       "    }\n",
       "\n",
       "    .dataframe tbody tr th {\n",
       "        vertical-align: top;\n",
       "    }\n",
       "\n",
       "    .dataframe thead th {\n",
       "        text-align: right;\n",
       "    }\n",
       "</style>\n",
       "<table border=\"1\" class=\"dataframe\">\n",
       "  <thead>\n",
       "    <tr style=\"text-align: right;\">\n",
       "      <th></th>\n",
       "      <th>Gender</th>\n",
       "      <th>total_trans_q1</th>\n",
       "      <th>total_trans_q3</th>\n",
       "      <th>total_trans_q2</th>\n",
       "      <th>iqr</th>\n",
       "    </tr>\n",
       "  </thead>\n",
       "  <tbody>\n",
       "    <tr>\n",
       "      <th>0</th>\n",
       "      <td>F</td>\n",
       "      <td>2424.25</td>\n",
       "      <td>4751.75</td>\n",
       "      <td>4134.0</td>\n",
       "      <td>2327.5</td>\n",
       "    </tr>\n",
       "    <tr>\n",
       "      <th>1</th>\n",
       "      <td>M</td>\n",
       "      <td>1881.00</td>\n",
       "      <td>4711.00</td>\n",
       "      <td>3513.0</td>\n",
       "      <td>2830.0</td>\n",
       "    </tr>\n",
       "  </tbody>\n",
       "</table>\n",
       "</div>"
      ],
      "text/plain": [
       "  Gender  total_trans_q1  total_trans_q3  total_trans_q2     iqr\n",
       "0      F         2424.25         4751.75          4134.0  2327.5\n",
       "1      M         1881.00         4711.00          3513.0  2830.0"
      ]
     },
     "execution_count": 60,
     "metadata": {},
     "output_type": "execute_result"
    }
   ],
   "source": [
    "df_iqr"
   ]
  },
  {
   "cell_type": "code",
   "execution_count": 61,
   "id": "a8fbf5df-cf46-4bc8-ac5e-d0dcc51dad25",
   "metadata": {},
   "outputs": [],
   "source": [
    "df_iqr[\"upper\"] = df_iqr.apply( lambda r: ( r[\"total_trans_q3\"] + 1.5*r[\"iqr\"] ) , axis = 1)\n",
    "df_iqr[\"lower\"] = df_iqr.apply( lambda r: ( r[\"total_trans_q1\"] - 1.5*r[\"iqr\"] ) , axis = 1)"
   ]
  },
  {
   "cell_type": "code",
   "execution_count": 62,
   "id": "b3d7add5-395f-4821-84fe-3d2f412c1df6",
   "metadata": {},
   "outputs": [
    {
     "data": {
      "text/plain": [
       "(4428, 1)"
      ]
     },
     "execution_count": 62,
     "metadata": {},
     "output_type": "execute_result"
    }
   ],
   "source": [
    "df.shape"
   ]
  },
  {
   "cell_type": "code",
   "execution_count": 63,
   "id": "b55243b7-9432-46cb-a8a2-83d2a3958f96",
   "metadata": {},
   "outputs": [],
   "source": [
    "df_t = bank_df.merge( df_iqr , on=[\"Gender\"] , how=\"left\" ).copy()"
   ]
  },
  {
   "cell_type": "code",
   "execution_count": 64,
   "id": "9ea97136-3956-44db-8653-f7a56c36abec",
   "metadata": {},
   "outputs": [
    {
     "data": {
      "text/plain": [
       "(10127, 29)"
      ]
     },
     "execution_count": 64,
     "metadata": {},
     "output_type": "execute_result"
    }
   ],
   "source": [
    "df_t.shape"
   ]
  },
  {
   "cell_type": "code",
   "execution_count": 65,
   "id": "415f62e8-b428-410a-a72f-231a53719746",
   "metadata": {},
   "outputs": [
    {
     "data": {
      "text/html": [
       "<div>\n",
       "<style scoped>\n",
       "    .dataframe tbody tr th:only-of-type {\n",
       "        vertical-align: middle;\n",
       "    }\n",
       "\n",
       "    .dataframe tbody tr th {\n",
       "        vertical-align: top;\n",
       "    }\n",
       "\n",
       "    .dataframe thead th {\n",
       "        text-align: right;\n",
       "    }\n",
       "</style>\n",
       "<table border=\"1\" class=\"dataframe\">\n",
       "  <thead>\n",
       "    <tr style=\"text-align: right;\">\n",
       "      <th></th>\n",
       "      <th>CLIENTNUM</th>\n",
       "      <th>Attrition_Flag</th>\n",
       "      <th>Customer_Age</th>\n",
       "      <th>Gender</th>\n",
       "      <th>Dependent_count</th>\n",
       "      <th>Education_Level</th>\n",
       "      <th>Marital_Status</th>\n",
       "      <th>Income_Category</th>\n",
       "      <th>Card_Category</th>\n",
       "      <th>Months_on_book</th>\n",
       "      <th>...</th>\n",
       "      <th>Total_Ct_Chng_Q4_Q1</th>\n",
       "      <th>Avg_Utilization_Ratio</th>\n",
       "      <th>Education_Level_new</th>\n",
       "      <th>Income_Category_new</th>\n",
       "      <th>total_trans_q1</th>\n",
       "      <th>total_trans_q3</th>\n",
       "      <th>total_trans_q2</th>\n",
       "      <th>iqr</th>\n",
       "      <th>upper</th>\n",
       "      <th>lower</th>\n",
       "    </tr>\n",
       "  </thead>\n",
       "  <tbody>\n",
       "    <tr>\n",
       "      <th>0</th>\n",
       "      <td>768805383</td>\n",
       "      <td>Existing Customer</td>\n",
       "      <td>45</td>\n",
       "      <td>M</td>\n",
       "      <td>3</td>\n",
       "      <td>High School</td>\n",
       "      <td>Married</td>\n",
       "      <td>$60K - $80K</td>\n",
       "      <td>Blue</td>\n",
       "      <td>39</td>\n",
       "      <td>...</td>\n",
       "      <td>1.625</td>\n",
       "      <td>0.061</td>\n",
       "      <td>High School</td>\n",
       "      <td>$60K - $80K</td>\n",
       "      <td>1881.00</td>\n",
       "      <td>4711.00</td>\n",
       "      <td>3513.0</td>\n",
       "      <td>2830.0</td>\n",
       "      <td>8956.0</td>\n",
       "      <td>-2364.0</td>\n",
       "    </tr>\n",
       "    <tr>\n",
       "      <th>1</th>\n",
       "      <td>818770008</td>\n",
       "      <td>Existing Customer</td>\n",
       "      <td>49</td>\n",
       "      <td>F</td>\n",
       "      <td>5</td>\n",
       "      <td>Graduate</td>\n",
       "      <td>Single</td>\n",
       "      <td>Less than $40K</td>\n",
       "      <td>Blue</td>\n",
       "      <td>44</td>\n",
       "      <td>...</td>\n",
       "      <td>3.714</td>\n",
       "      <td>0.105</td>\n",
       "      <td>Graduate</td>\n",
       "      <td>Less than $40K</td>\n",
       "      <td>2424.25</td>\n",
       "      <td>4751.75</td>\n",
       "      <td>4134.0</td>\n",
       "      <td>2327.5</td>\n",
       "      <td>8243.0</td>\n",
       "      <td>-1067.0</td>\n",
       "    </tr>\n",
       "    <tr>\n",
       "      <th>2</th>\n",
       "      <td>713982108</td>\n",
       "      <td>Existing Customer</td>\n",
       "      <td>51</td>\n",
       "      <td>M</td>\n",
       "      <td>3</td>\n",
       "      <td>Graduate</td>\n",
       "      <td>Married</td>\n",
       "      <td>$80K - $120K</td>\n",
       "      <td>Blue</td>\n",
       "      <td>36</td>\n",
       "      <td>...</td>\n",
       "      <td>2.333</td>\n",
       "      <td>0.176</td>\n",
       "      <td>Graduate</td>\n",
       "      <td>$80K - $120K</td>\n",
       "      <td>1881.00</td>\n",
       "      <td>4711.00</td>\n",
       "      <td>3513.0</td>\n",
       "      <td>2830.0</td>\n",
       "      <td>8956.0</td>\n",
       "      <td>-2364.0</td>\n",
       "    </tr>\n",
       "    <tr>\n",
       "      <th>3</th>\n",
       "      <td>769911858</td>\n",
       "      <td>Existing Customer</td>\n",
       "      <td>40</td>\n",
       "      <td>F</td>\n",
       "      <td>4</td>\n",
       "      <td>High School</td>\n",
       "      <td>Others</td>\n",
       "      <td>Less than $40K</td>\n",
       "      <td>Blue</td>\n",
       "      <td>34</td>\n",
       "      <td>...</td>\n",
       "      <td>2.333</td>\n",
       "      <td>0.760</td>\n",
       "      <td>High School</td>\n",
       "      <td>Less than $40K</td>\n",
       "      <td>2424.25</td>\n",
       "      <td>4751.75</td>\n",
       "      <td>4134.0</td>\n",
       "      <td>2327.5</td>\n",
       "      <td>8243.0</td>\n",
       "      <td>-1067.0</td>\n",
       "    </tr>\n",
       "    <tr>\n",
       "      <th>4</th>\n",
       "      <td>709106358</td>\n",
       "      <td>Existing Customer</td>\n",
       "      <td>40</td>\n",
       "      <td>M</td>\n",
       "      <td>3</td>\n",
       "      <td>Uneducated</td>\n",
       "      <td>Married</td>\n",
       "      <td>$60K - $80K</td>\n",
       "      <td>Blue</td>\n",
       "      <td>21</td>\n",
       "      <td>...</td>\n",
       "      <td>2.500</td>\n",
       "      <td>0.176</td>\n",
       "      <td>Uneducated</td>\n",
       "      <td>$60K - $80K</td>\n",
       "      <td>1881.00</td>\n",
       "      <td>4711.00</td>\n",
       "      <td>3513.0</td>\n",
       "      <td>2830.0</td>\n",
       "      <td>8956.0</td>\n",
       "      <td>-2364.0</td>\n",
       "    </tr>\n",
       "    <tr>\n",
       "      <th>...</th>\n",
       "      <td>...</td>\n",
       "      <td>...</td>\n",
       "      <td>...</td>\n",
       "      <td>...</td>\n",
       "      <td>...</td>\n",
       "      <td>...</td>\n",
       "      <td>...</td>\n",
       "      <td>...</td>\n",
       "      <td>...</td>\n",
       "      <td>...</td>\n",
       "      <td>...</td>\n",
       "      <td>...</td>\n",
       "      <td>...</td>\n",
       "      <td>...</td>\n",
       "      <td>...</td>\n",
       "      <td>...</td>\n",
       "      <td>...</td>\n",
       "      <td>...</td>\n",
       "      <td>...</td>\n",
       "      <td>...</td>\n",
       "      <td>...</td>\n",
       "    </tr>\n",
       "    <tr>\n",
       "      <th>10122</th>\n",
       "      <td>772366833</td>\n",
       "      <td>Existing Customer</td>\n",
       "      <td>50</td>\n",
       "      <td>M</td>\n",
       "      <td>2</td>\n",
       "      <td>Graduate</td>\n",
       "      <td>Single</td>\n",
       "      <td>$40K - $60K</td>\n",
       "      <td>Blue</td>\n",
       "      <td>40</td>\n",
       "      <td>...</td>\n",
       "      <td>0.857</td>\n",
       "      <td>0.462</td>\n",
       "      <td>Graduate</td>\n",
       "      <td>$40K - $60K</td>\n",
       "      <td>1881.00</td>\n",
       "      <td>4711.00</td>\n",
       "      <td>3513.0</td>\n",
       "      <td>2830.0</td>\n",
       "      <td>8956.0</td>\n",
       "      <td>-2364.0</td>\n",
       "    </tr>\n",
       "    <tr>\n",
       "      <th>10123</th>\n",
       "      <td>710638233</td>\n",
       "      <td>Attrited Customer</td>\n",
       "      <td>41</td>\n",
       "      <td>M</td>\n",
       "      <td>2</td>\n",
       "      <td>Others</td>\n",
       "      <td>Divorced</td>\n",
       "      <td>$40K - $60K</td>\n",
       "      <td>Blue</td>\n",
       "      <td>25</td>\n",
       "      <td>...</td>\n",
       "      <td>0.683</td>\n",
       "      <td>0.511</td>\n",
       "      <td>Others</td>\n",
       "      <td>$40K - $60K</td>\n",
       "      <td>1881.00</td>\n",
       "      <td>4711.00</td>\n",
       "      <td>3513.0</td>\n",
       "      <td>2830.0</td>\n",
       "      <td>8956.0</td>\n",
       "      <td>-2364.0</td>\n",
       "    </tr>\n",
       "    <tr>\n",
       "      <th>10124</th>\n",
       "      <td>716506083</td>\n",
       "      <td>Attrited Customer</td>\n",
       "      <td>44</td>\n",
       "      <td>F</td>\n",
       "      <td>1</td>\n",
       "      <td>High School</td>\n",
       "      <td>Married</td>\n",
       "      <td>Less than $40K</td>\n",
       "      <td>Blue</td>\n",
       "      <td>36</td>\n",
       "      <td>...</td>\n",
       "      <td>0.818</td>\n",
       "      <td>0.176</td>\n",
       "      <td>High School</td>\n",
       "      <td>Less than $40K</td>\n",
       "      <td>2424.25</td>\n",
       "      <td>4751.75</td>\n",
       "      <td>4134.0</td>\n",
       "      <td>2327.5</td>\n",
       "      <td>8243.0</td>\n",
       "      <td>-1067.0</td>\n",
       "    </tr>\n",
       "    <tr>\n",
       "      <th>10125</th>\n",
       "      <td>717406983</td>\n",
       "      <td>Attrited Customer</td>\n",
       "      <td>30</td>\n",
       "      <td>M</td>\n",
       "      <td>2</td>\n",
       "      <td>Graduate</td>\n",
       "      <td>Others</td>\n",
       "      <td>$40K - $60K</td>\n",
       "      <td>Blue</td>\n",
       "      <td>36</td>\n",
       "      <td>...</td>\n",
       "      <td>0.722</td>\n",
       "      <td>0.176</td>\n",
       "      <td>Graduate</td>\n",
       "      <td>$40K - $60K</td>\n",
       "      <td>1881.00</td>\n",
       "      <td>4711.00</td>\n",
       "      <td>3513.0</td>\n",
       "      <td>2830.0</td>\n",
       "      <td>8956.0</td>\n",
       "      <td>-2364.0</td>\n",
       "    </tr>\n",
       "    <tr>\n",
       "      <th>10126</th>\n",
       "      <td>714337233</td>\n",
       "      <td>Attrited Customer</td>\n",
       "      <td>43</td>\n",
       "      <td>F</td>\n",
       "      <td>2</td>\n",
       "      <td>Graduate</td>\n",
       "      <td>Married</td>\n",
       "      <td>Less than $40K</td>\n",
       "      <td>Silver</td>\n",
       "      <td>25</td>\n",
       "      <td>...</td>\n",
       "      <td>0.649</td>\n",
       "      <td>0.189</td>\n",
       "      <td>Graduate</td>\n",
       "      <td>Less than $40K</td>\n",
       "      <td>2424.25</td>\n",
       "      <td>4751.75</td>\n",
       "      <td>4134.0</td>\n",
       "      <td>2327.5</td>\n",
       "      <td>8243.0</td>\n",
       "      <td>-1067.0</td>\n",
       "    </tr>\n",
       "  </tbody>\n",
       "</table>\n",
       "<p>10127 rows × 29 columns</p>\n",
       "</div>"
      ],
      "text/plain": [
       "       CLIENTNUM     Attrition_Flag  Customer_Age Gender  Dependent_count  \\\n",
       "0      768805383  Existing Customer            45      M                3   \n",
       "1      818770008  Existing Customer            49      F                5   \n",
       "2      713982108  Existing Customer            51      M                3   \n",
       "3      769911858  Existing Customer            40      F                4   \n",
       "4      709106358  Existing Customer            40      M                3   \n",
       "...          ...                ...           ...    ...              ...   \n",
       "10122  772366833  Existing Customer            50      M                2   \n",
       "10123  710638233  Attrited Customer            41      M                2   \n",
       "10124  716506083  Attrited Customer            44      F                1   \n",
       "10125  717406983  Attrited Customer            30      M                2   \n",
       "10126  714337233  Attrited Customer            43      F                2   \n",
       "\n",
       "      Education_Level Marital_Status Income_Category Card_Category  \\\n",
       "0         High School        Married     $60K - $80K          Blue   \n",
       "1            Graduate         Single  Less than $40K          Blue   \n",
       "2            Graduate        Married    $80K - $120K          Blue   \n",
       "3         High School         Others  Less than $40K          Blue   \n",
       "4          Uneducated        Married     $60K - $80K          Blue   \n",
       "...               ...            ...             ...           ...   \n",
       "10122        Graduate         Single     $40K - $60K          Blue   \n",
       "10123          Others       Divorced     $40K - $60K          Blue   \n",
       "10124     High School        Married  Less than $40K          Blue   \n",
       "10125        Graduate         Others     $40K - $60K          Blue   \n",
       "10126        Graduate        Married  Less than $40K        Silver   \n",
       "\n",
       "       Months_on_book  ...  Total_Ct_Chng_Q4_Q1  Avg_Utilization_Ratio  \\\n",
       "0                  39  ...                1.625                  0.061   \n",
       "1                  44  ...                3.714                  0.105   \n",
       "2                  36  ...                2.333                  0.176   \n",
       "3                  34  ...                2.333                  0.760   \n",
       "4                  21  ...                2.500                  0.176   \n",
       "...               ...  ...                  ...                    ...   \n",
       "10122              40  ...                0.857                  0.462   \n",
       "10123              25  ...                0.683                  0.511   \n",
       "10124              36  ...                0.818                  0.176   \n",
       "10125              36  ...                0.722                  0.176   \n",
       "10126              25  ...                0.649                  0.189   \n",
       "\n",
       "       Education_Level_new  Income_Category_new  total_trans_q1  \\\n",
       "0              High School          $60K - $80K         1881.00   \n",
       "1                 Graduate       Less than $40K         2424.25   \n",
       "2                 Graduate         $80K - $120K         1881.00   \n",
       "3              High School       Less than $40K         2424.25   \n",
       "4               Uneducated          $60K - $80K         1881.00   \n",
       "...                    ...                  ...             ...   \n",
       "10122             Graduate          $40K - $60K         1881.00   \n",
       "10123               Others          $40K - $60K         1881.00   \n",
       "10124          High School       Less than $40K         2424.25   \n",
       "10125             Graduate          $40K - $60K         1881.00   \n",
       "10126             Graduate       Less than $40K         2424.25   \n",
       "\n",
       "       total_trans_q3  total_trans_q2     iqr   upper   lower  \n",
       "0             4711.00          3513.0  2830.0  8956.0 -2364.0  \n",
       "1             4751.75          4134.0  2327.5  8243.0 -1067.0  \n",
       "2             4711.00          3513.0  2830.0  8956.0 -2364.0  \n",
       "3             4751.75          4134.0  2327.5  8243.0 -1067.0  \n",
       "4             4711.00          3513.0  2830.0  8956.0 -2364.0  \n",
       "...               ...             ...     ...     ...     ...  \n",
       "10122         4711.00          3513.0  2830.0  8956.0 -2364.0  \n",
       "10123         4711.00          3513.0  2830.0  8956.0 -2364.0  \n",
       "10124         4751.75          4134.0  2327.5  8243.0 -1067.0  \n",
       "10125         4711.00          3513.0  2830.0  8956.0 -2364.0  \n",
       "10126         4751.75          4134.0  2327.5  8243.0 -1067.0  \n",
       "\n",
       "[10127 rows x 29 columns]"
      ]
     },
     "execution_count": 65,
     "metadata": {},
     "output_type": "execute_result"
    }
   ],
   "source": [
    "df_t"
   ]
  },
  {
   "cell_type": "code",
   "execution_count": 71,
   "id": "652ea4c4-9f27-4a6c-a0bf-43495cdf8bd8",
   "metadata": {},
   "outputs": [],
   "source": [
    "def getTtrans(r):\n",
    "    if ( r[\"Total_Trans_Amt\"] <= r[\"lower\"] ) | ( r[\"Total_Trans_Amt\"] >= r[\"upper\"] ):\n",
    "        return r[\"total_trans_q2\"]\n",
    "    else:\n",
    "        return r[\"Total_Trans_Amt\"]"
   ]
  },
  {
   "cell_type": "code",
   "execution_count": 72,
   "id": "d0d589ad-a062-40bb-b4b1-acb14f95064d",
   "metadata": {},
   "outputs": [
    {
     "data": {
      "text/plain": [
       "0        1144.0\n",
       "1        1291.0\n",
       "2        1887.0\n",
       "3        1171.0\n",
       "4         816.0\n",
       "          ...  \n",
       "10122    3513.0\n",
       "10123    8764.0\n",
       "10124    4134.0\n",
       "10125    8395.0\n",
       "10126    4134.0\n",
       "Length: 10127, dtype: float64"
      ]
     },
     "execution_count": 72,
     "metadata": {},
     "output_type": "execute_result"
    }
   ],
   "source": [
    "df_t.apply( lambda r: getTtrans(r) , axis = 1 )"
   ]
  },
  {
   "cell_type": "code",
   "execution_count": 74,
   "id": "fd50d5aa-881b-4d3e-add5-96d03f3cccfc",
   "metadata": {},
   "outputs": [],
   "source": [
    "df_t[\"New_Total\"] = df_t.apply( lambda r: getTtrans(r) , axis = 1 )"
   ]
  },
  {
   "cell_type": "code",
   "execution_count": 78,
   "id": "cace16e2-cc32-4d53-93f5-c5d03afc83ab",
   "metadata": {},
   "outputs": [
    {
     "data": {
      "text/plain": [
       "<AxesSubplot:xlabel='Gender', ylabel='New_Total'>"
      ]
     },
     "execution_count": 78,
     "metadata": {},
     "output_type": "execute_result"
    },
    {
     "data": {
      "image/png": "[encoded data removed]",
      "text/plain": [
       "<Figure size 432x288 with 1 Axes>"
      ]
     },
     "metadata": {
      "needs_background": "light"
     },
     "output_type": "display_data"
    }
   ],
   "source": [
    "sns.boxplot( data=df_t.loc[ (df_t['Attrition_Flag'] == 'Existing Customer') & (df_t['Gender'] == 'F') , : ]  , x=\"Gender\" , y=\"New_Total\" )"
   ]
  },
  {
   "cell_type": "code",
   "execution_count": null,
   "id": "5512e8df-f28e-4f9c-989b-0fde4ec8aebe",
   "metadata": {},
   "outputs": [],
   "source": []
  }
 ],
 "metadata": {
  "kernelspec": {
   "display_name": "Python 3 (ipykernel)",
   "language": "python",
   "name": "python3"
  },
  "language_info": {
   "codemirror_mode": {
    "name": "ipython",
    "version": 3
   },
   "file_extension": ".py",
   "mimetype": "text/x-python",
   "name": "python",
   "nbconvert_exporter": "python",
   "pygments_lexer": "ipython3",
   "version": "3.9.7"
  }
 },
 "nbformat": 4,
 "nbformat_minor": 5
}
