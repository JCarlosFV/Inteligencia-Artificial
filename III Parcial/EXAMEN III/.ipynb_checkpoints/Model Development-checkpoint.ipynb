{
 "cells": [
  {
   "cell_type": "code",
   "execution_count": 1,
   "id": "7f6443cf-690c-4868-a839-ec71986c7490",
   "metadata": {},
   "outputs": [],
   "source": [
    "import pandas as pd\n",
    "import numpy as np"
   ]
  },
  {
   "cell_type": "code",
   "execution_count": 2,
   "id": "70b37016-9a1e-41d1-9c74-a3574637b384",
   "metadata": {},
   "outputs": [],
   "source": [
    "import matplotlib.pyplot as plt\n",
    "import seaborn as sns"
   ]
  },
  {
   "cell_type": "code",
   "execution_count": 3,
   "id": "b79cebc2-8fd5-4ad1-b3e1-060a97fab4bc",
   "metadata": {},
   "outputs": [],
   "source": [
    "wine = pd.read_csv('winequalityN.csv')"
   ]
  },
  {
   "cell_type": "code",
   "execution_count": 4,
   "id": "f6d07bed-c5db-4027-b39c-58487c857b3c",
   "metadata": {},
   "outputs": [
    {
     "data": {
      "text/html": [
       "<div>\n",
       "<style scoped>\n",
       "    .dataframe tbody tr th:only-of-type {\n",
       "        vertical-align: middle;\n",
       "    }\n",
       "\n",
       "    .dataframe tbody tr th {\n",
       "        vertical-align: top;\n",
       "    }\n",
       "\n",
       "    .dataframe thead th {\n",
       "        text-align: right;\n",
       "    }\n",
       "</style>\n",
       "<table border=\"1\" class=\"dataframe\">\n",
       "  <thead>\n",
       "    <tr style=\"text-align: right;\">\n",
       "      <th></th>\n",
       "      <th>type</th>\n",
       "      <th>fixed acidity</th>\n",
       "      <th>volatile acidity</th>\n",
       "      <th>citric acid</th>\n",
       "      <th>residual sugar</th>\n",
       "      <th>chlorides</th>\n",
       "      <th>free sulfur dioxide</th>\n",
       "      <th>total sulfur dioxide</th>\n",
       "      <th>density</th>\n",
       "      <th>pH</th>\n",
       "      <th>sulphates</th>\n",
       "      <th>alcohol</th>\n",
       "      <th>quality</th>\n",
       "    </tr>\n",
       "  </thead>\n",
       "  <tbody>\n",
       "    <tr>\n",
       "      <th>0</th>\n",
       "      <td>white</td>\n",
       "      <td>7.0</td>\n",
       "      <td>0.270</td>\n",
       "      <td>0.36</td>\n",
       "      <td>20.7</td>\n",
       "      <td>0.045</td>\n",
       "      <td>45.0</td>\n",
       "      <td>170.0</td>\n",
       "      <td>1.00100</td>\n",
       "      <td>3.00</td>\n",
       "      <td>0.45</td>\n",
       "      <td>8.8</td>\n",
       "      <td>6</td>\n",
       "    </tr>\n",
       "    <tr>\n",
       "      <th>1</th>\n",
       "      <td>white</td>\n",
       "      <td>6.3</td>\n",
       "      <td>0.300</td>\n",
       "      <td>0.34</td>\n",
       "      <td>1.6</td>\n",
       "      <td>0.049</td>\n",
       "      <td>14.0</td>\n",
       "      <td>132.0</td>\n",
       "      <td>0.99400</td>\n",
       "      <td>3.30</td>\n",
       "      <td>0.49</td>\n",
       "      <td>9.5</td>\n",
       "      <td>6</td>\n",
       "    </tr>\n",
       "    <tr>\n",
       "      <th>2</th>\n",
       "      <td>white</td>\n",
       "      <td>8.1</td>\n",
       "      <td>0.280</td>\n",
       "      <td>0.40</td>\n",
       "      <td>6.9</td>\n",
       "      <td>0.050</td>\n",
       "      <td>30.0</td>\n",
       "      <td>97.0</td>\n",
       "      <td>0.99510</td>\n",
       "      <td>3.26</td>\n",
       "      <td>0.44</td>\n",
       "      <td>10.1</td>\n",
       "      <td>6</td>\n",
       "    </tr>\n",
       "    <tr>\n",
       "      <th>3</th>\n",
       "      <td>white</td>\n",
       "      <td>7.2</td>\n",
       "      <td>0.230</td>\n",
       "      <td>0.32</td>\n",
       "      <td>8.5</td>\n",
       "      <td>0.058</td>\n",
       "      <td>47.0</td>\n",
       "      <td>186.0</td>\n",
       "      <td>0.99560</td>\n",
       "      <td>3.19</td>\n",
       "      <td>0.40</td>\n",
       "      <td>9.9</td>\n",
       "      <td>6</td>\n",
       "    </tr>\n",
       "    <tr>\n",
       "      <th>4</th>\n",
       "      <td>white</td>\n",
       "      <td>7.2</td>\n",
       "      <td>0.230</td>\n",
       "      <td>0.32</td>\n",
       "      <td>8.5</td>\n",
       "      <td>0.058</td>\n",
       "      <td>47.0</td>\n",
       "      <td>186.0</td>\n",
       "      <td>0.99560</td>\n",
       "      <td>3.19</td>\n",
       "      <td>0.40</td>\n",
       "      <td>9.9</td>\n",
       "      <td>6</td>\n",
       "    </tr>\n",
       "    <tr>\n",
       "      <th>...</th>\n",
       "      <td>...</td>\n",
       "      <td>...</td>\n",
       "      <td>...</td>\n",
       "      <td>...</td>\n",
       "      <td>...</td>\n",
       "      <td>...</td>\n",
       "      <td>...</td>\n",
       "      <td>...</td>\n",
       "      <td>...</td>\n",
       "      <td>...</td>\n",
       "      <td>...</td>\n",
       "      <td>...</td>\n",
       "      <td>...</td>\n",
       "    </tr>\n",
       "    <tr>\n",
       "      <th>6492</th>\n",
       "      <td>red</td>\n",
       "      <td>6.2</td>\n",
       "      <td>0.600</td>\n",
       "      <td>0.08</td>\n",
       "      <td>2.0</td>\n",
       "      <td>0.090</td>\n",
       "      <td>32.0</td>\n",
       "      <td>44.0</td>\n",
       "      <td>0.99490</td>\n",
       "      <td>3.45</td>\n",
       "      <td>0.58</td>\n",
       "      <td>10.5</td>\n",
       "      <td>5</td>\n",
       "    </tr>\n",
       "    <tr>\n",
       "      <th>6493</th>\n",
       "      <td>red</td>\n",
       "      <td>5.9</td>\n",
       "      <td>0.550</td>\n",
       "      <td>0.10</td>\n",
       "      <td>2.2</td>\n",
       "      <td>0.062</td>\n",
       "      <td>39.0</td>\n",
       "      <td>51.0</td>\n",
       "      <td>0.99512</td>\n",
       "      <td>3.52</td>\n",
       "      <td>NaN</td>\n",
       "      <td>11.2</td>\n",
       "      <td>6</td>\n",
       "    </tr>\n",
       "    <tr>\n",
       "      <th>6494</th>\n",
       "      <td>red</td>\n",
       "      <td>6.3</td>\n",
       "      <td>0.510</td>\n",
       "      <td>0.13</td>\n",
       "      <td>2.3</td>\n",
       "      <td>0.076</td>\n",
       "      <td>29.0</td>\n",
       "      <td>40.0</td>\n",
       "      <td>0.99574</td>\n",
       "      <td>3.42</td>\n",
       "      <td>0.75</td>\n",
       "      <td>11.0</td>\n",
       "      <td>6</td>\n",
       "    </tr>\n",
       "    <tr>\n",
       "      <th>6495</th>\n",
       "      <td>red</td>\n",
       "      <td>5.9</td>\n",
       "      <td>0.645</td>\n",
       "      <td>0.12</td>\n",
       "      <td>2.0</td>\n",
       "      <td>0.075</td>\n",
       "      <td>32.0</td>\n",
       "      <td>44.0</td>\n",
       "      <td>0.99547</td>\n",
       "      <td>3.57</td>\n",
       "      <td>0.71</td>\n",
       "      <td>10.2</td>\n",
       "      <td>5</td>\n",
       "    </tr>\n",
       "    <tr>\n",
       "      <th>6496</th>\n",
       "      <td>red</td>\n",
       "      <td>6.0</td>\n",
       "      <td>0.310</td>\n",
       "      <td>0.47</td>\n",
       "      <td>3.6</td>\n",
       "      <td>0.067</td>\n",
       "      <td>18.0</td>\n",
       "      <td>42.0</td>\n",
       "      <td>0.99549</td>\n",
       "      <td>3.39</td>\n",
       "      <td>0.66</td>\n",
       "      <td>11.0</td>\n",
       "      <td>6</td>\n",
       "    </tr>\n",
       "  </tbody>\n",
       "</table>\n",
       "<p>6497 rows × 13 columns</p>\n",
       "</div>"
      ],
      "text/plain": [
       "       type  fixed acidity  volatile acidity  citric acid  residual sugar  \\\n",
       "0     white            7.0             0.270         0.36            20.7   \n",
       "1     white            6.3             0.300         0.34             1.6   \n",
       "2     white            8.1             0.280         0.40             6.9   \n",
       "3     white            7.2             0.230         0.32             8.5   \n",
       "4     white            7.2             0.230         0.32             8.5   \n",
       "...     ...            ...               ...          ...             ...   \n",
       "6492    red            6.2             0.600         0.08             2.0   \n",
       "6493    red            5.9             0.550         0.10             2.2   \n",
       "6494    red            6.3             0.510         0.13             2.3   \n",
       "6495    red            5.9             0.645         0.12             2.0   \n",
       "6496    red            6.0             0.310         0.47             3.6   \n",
       "\n",
       "      chlorides  free sulfur dioxide  total sulfur dioxide  density    pH  \\\n",
       "0         0.045                 45.0                 170.0  1.00100  3.00   \n",
       "1         0.049                 14.0                 132.0  0.99400  3.30   \n",
       "2         0.050                 30.0                  97.0  0.99510  3.26   \n",
       "3         0.058                 47.0                 186.0  0.99560  3.19   \n",
       "4         0.058                 47.0                 186.0  0.99560  3.19   \n",
       "...         ...                  ...                   ...      ...   ...   \n",
       "6492      0.090                 32.0                  44.0  0.99490  3.45   \n",
       "6493      0.062                 39.0                  51.0  0.99512  3.52   \n",
       "6494      0.076                 29.0                  40.0  0.99574  3.42   \n",
       "6495      0.075                 32.0                  44.0  0.99547  3.57   \n",
       "6496      0.067                 18.0                  42.0  0.99549  3.39   \n",
       "\n",
       "      sulphates  alcohol  quality  \n",
       "0          0.45      8.8        6  \n",
       "1          0.49      9.5        6  \n",
       "2          0.44     10.1        6  \n",
       "3          0.40      9.9        6  \n",
       "4          0.40      9.9        6  \n",
       "...         ...      ...      ...  \n",
       "6492       0.58     10.5        5  \n",
       "6493        NaN     11.2        6  \n",
       "6494       0.75     11.0        6  \n",
       "6495       0.71     10.2        5  \n",
       "6496       0.66     11.0        6  \n",
       "\n",
       "[6497 rows x 13 columns]"
      ]
     },
     "execution_count": 4,
     "metadata": {},
     "output_type": "execute_result"
    }
   ],
   "source": [
    "wine"
   ]
  },
  {
   "cell_type": "markdown",
   "id": "e249d68f-1626-4c94-a36b-2ff8b1801b5e",
   "metadata": {},
   "source": [
    "Segun el dataset de wine, realice las siguientes actividades:\n",
    "- Limpie las variables numericas. (evalue primero si vale la pena estretificar por type), en caso de existir valores atipicos remplece por la media.\n",
    "- Aplique PCA utilizando maximo 5 columnas (evalue si el PCA vale la pena hacer uno para white y otro para red)\n",
    "    - No se debe de usar quality para este ejercicio\n",
    "- Una ves tenga el PCA, aplique un algoritmo de k-means para crear tres perfiles del vino. (explique que significa cada perfil)\n",
    "- Agregue la nueva variable al dateset y elimine las columnas que hayan formado parte de analisis del PCA, tanto para white como para red, en caso que hayan sido entrenamientos distintos.\n",
    "- Crea la varible de respuesta de la siguiente manera:\n",
    "    - if quality >= 5 ? 1 else 0\n",
    "- Elimine la variable quality del dataset\n",
    "- Aplique los siguientes entrenamientos de MLS (evalue primero si vale la pena estretificar por type):\n",
    "    - Regresion Logistica\n",
    "    - NN\n",
    "    - Aroboles de desiciones\n",
    "    - Random Forest\n",
    "- Explique cual de los entrenamientos fue el mejor?"
   ]
  },
  {
   "cell_type": "markdown",
   "id": "ea3b0042-cec9-4faa-ae63-f023785083d3",
   "metadata": {},
   "source": [
    "- ### Limpieza Variables Númericas"
   ]
  },
  {
   "cell_type": "markdown",
   "id": "55ca9f57-8551-473c-bc59-a14a95d79a25",
   "metadata": {},
   "source": [
    "#### Primero se eliminan los valores nulos del dataframe, reemplazandolos por la media"
   ]
  },
  {
   "cell_type": "code",
   "execution_count": 5,
   "id": "5453b1c9-f1e5-4ed4-8c2b-308c41564527",
   "metadata": {},
   "outputs": [
    {
     "data": {
      "text/plain": [
       "type                     0\n",
       "fixed acidity           10\n",
       "volatile acidity         8\n",
       "citric acid              3\n",
       "residual sugar           2\n",
       "chlorides                2\n",
       "free sulfur dioxide      0\n",
       "total sulfur dioxide     0\n",
       "density                  0\n",
       "pH                       9\n",
       "sulphates                4\n",
       "alcohol                  0\n",
       "quality                  0\n",
       "dtype: int64"
      ]
     },
     "execution_count": 5,
     "metadata": {},
     "output_type": "execute_result"
    }
   ],
   "source": [
    "wine.isnull().sum()"
   ]
  },
  {
   "cell_type": "code",
   "execution_count": 6,
   "id": "25316d8f-490e-4f2a-8a43-434f570848c7",
   "metadata": {},
   "outputs": [],
   "source": [
    "cols_numeric = []\n",
    "cols_category = []\n",
    "\n",
    "for cols_ in wine.columns:\n",
    "    if (wine[cols_].dtypes in['int64']) | (wine[cols_].dtypes in['float64']):\n",
    "        cols_numeric.append(cols_)\n",
    "    elif wine[cols_].dtypes in['object']:\n",
    "        cols_category.append(cols_)\n",
    "    else: \n",
    "        continue\n",
    "\n",
    "for cols in cols_numeric:\n",
    "    wine.loc[pd.isnull(wine[cols]), cols] = np.mean(wine[cols])\n",
    "    wine.loc[wine[cols] == 0, cols] = np.mean(wine[cols])"
   ]
  },
  {
   "cell_type": "code",
   "execution_count": 7,
   "id": "3a2f4717-0622-4896-b039-67fd89dfd401",
   "metadata": {},
   "outputs": [
    {
     "data": {
      "text/plain": [
       "type                    0\n",
       "fixed acidity           0\n",
       "volatile acidity        0\n",
       "citric acid             0\n",
       "residual sugar          0\n",
       "chlorides               0\n",
       "free sulfur dioxide     0\n",
       "total sulfur dioxide    0\n",
       "density                 0\n",
       "pH                      0\n",
       "sulphates               0\n",
       "alcohol                 0\n",
       "quality                 0\n",
       "dtype: int64"
      ]
     },
     "execution_count": 7,
     "metadata": {},
     "output_type": "execute_result"
    }
   ],
   "source": [
    "wine.isnull().sum()"
   ]
  },
  {
   "cell_type": "code",
   "execution_count": 8,
   "id": "6a277093-1b85-46b9-a300-217440a355cd",
   "metadata": {},
   "outputs": [
    {
     "data": {
      "text/html": [
       "<div>\n",
       "<style scoped>\n",
       "    .dataframe tbody tr th:only-of-type {\n",
       "        vertical-align: middle;\n",
       "    }\n",
       "\n",
       "    .dataframe tbody tr th {\n",
       "        vertical-align: top;\n",
       "    }\n",
       "\n",
       "    .dataframe thead th {\n",
       "        text-align: right;\n",
       "    }\n",
       "</style>\n",
       "<table border=\"1\" class=\"dataframe\">\n",
       "  <thead>\n",
       "    <tr style=\"text-align: right;\">\n",
       "      <th></th>\n",
       "      <th>fixed acidity</th>\n",
       "      <th>volatile acidity</th>\n",
       "      <th>citric acid</th>\n",
       "      <th>residual sugar</th>\n",
       "      <th>chlorides</th>\n",
       "      <th>free sulfur dioxide</th>\n",
       "      <th>total sulfur dioxide</th>\n",
       "      <th>density</th>\n",
       "      <th>pH</th>\n",
       "      <th>sulphates</th>\n",
       "      <th>alcohol</th>\n",
       "      <th>quality</th>\n",
       "    </tr>\n",
       "  </thead>\n",
       "  <tbody>\n",
       "    <tr>\n",
       "      <th>count</th>\n",
       "      <td>6497.000000</td>\n",
       "      <td>6497.000000</td>\n",
       "      <td>6497.000000</td>\n",
       "      <td>6497.000000</td>\n",
       "      <td>6497.000000</td>\n",
       "      <td>6497.000000</td>\n",
       "      <td>6497.000000</td>\n",
       "      <td>6497.000000</td>\n",
       "      <td>6497.000000</td>\n",
       "      <td>6497.000000</td>\n",
       "      <td>6497.000000</td>\n",
       "      <td>6497.000000</td>\n",
       "    </tr>\n",
       "    <tr>\n",
       "      <th>mean</th>\n",
       "      <td>7.216579</td>\n",
       "      <td>0.339691</td>\n",
       "      <td>0.326080</td>\n",
       "      <td>5.444326</td>\n",
       "      <td>0.056042</td>\n",
       "      <td>30.525319</td>\n",
       "      <td>115.744574</td>\n",
       "      <td>0.994697</td>\n",
       "      <td>3.218395</td>\n",
       "      <td>0.531215</td>\n",
       "      <td>10.491801</td>\n",
       "      <td>5.818378</td>\n",
       "    </tr>\n",
       "    <tr>\n",
       "      <th>std</th>\n",
       "      <td>1.295751</td>\n",
       "      <td>0.164548</td>\n",
       "      <td>0.136720</td>\n",
       "      <td>4.757392</td>\n",
       "      <td>0.035031</td>\n",
       "      <td>17.749400</td>\n",
       "      <td>56.521855</td>\n",
       "      <td>0.002999</td>\n",
       "      <td>0.160637</td>\n",
       "      <td>0.148768</td>\n",
       "      <td>1.192712</td>\n",
       "      <td>0.873255</td>\n",
       "    </tr>\n",
       "    <tr>\n",
       "      <th>min</th>\n",
       "      <td>3.800000</td>\n",
       "      <td>0.080000</td>\n",
       "      <td>0.010000</td>\n",
       "      <td>0.600000</td>\n",
       "      <td>0.009000</td>\n",
       "      <td>1.000000</td>\n",
       "      <td>6.000000</td>\n",
       "      <td>0.987110</td>\n",
       "      <td>2.720000</td>\n",
       "      <td>0.220000</td>\n",
       "      <td>8.000000</td>\n",
       "      <td>3.000000</td>\n",
       "    </tr>\n",
       "    <tr>\n",
       "      <th>25%</th>\n",
       "      <td>6.400000</td>\n",
       "      <td>0.230000</td>\n",
       "      <td>0.250000</td>\n",
       "      <td>1.800000</td>\n",
       "      <td>0.038000</td>\n",
       "      <td>17.000000</td>\n",
       "      <td>77.000000</td>\n",
       "      <td>0.992340</td>\n",
       "      <td>3.110000</td>\n",
       "      <td>0.430000</td>\n",
       "      <td>9.500000</td>\n",
       "      <td>5.000000</td>\n",
       "    </tr>\n",
       "    <tr>\n",
       "      <th>50%</th>\n",
       "      <td>7.000000</td>\n",
       "      <td>0.290000</td>\n",
       "      <td>0.318722</td>\n",
       "      <td>3.000000</td>\n",
       "      <td>0.047000</td>\n",
       "      <td>29.000000</td>\n",
       "      <td>118.000000</td>\n",
       "      <td>0.994890</td>\n",
       "      <td>3.210000</td>\n",
       "      <td>0.510000</td>\n",
       "      <td>10.300000</td>\n",
       "      <td>6.000000</td>\n",
       "    </tr>\n",
       "    <tr>\n",
       "      <th>75%</th>\n",
       "      <td>7.700000</td>\n",
       "      <td>0.400000</td>\n",
       "      <td>0.390000</td>\n",
       "      <td>8.100000</td>\n",
       "      <td>0.065000</td>\n",
       "      <td>41.000000</td>\n",
       "      <td>156.000000</td>\n",
       "      <td>0.996990</td>\n",
       "      <td>3.320000</td>\n",
       "      <td>0.600000</td>\n",
       "      <td>11.300000</td>\n",
       "      <td>6.000000</td>\n",
       "    </tr>\n",
       "    <tr>\n",
       "      <th>max</th>\n",
       "      <td>15.900000</td>\n",
       "      <td>1.580000</td>\n",
       "      <td>1.660000</td>\n",
       "      <td>65.800000</td>\n",
       "      <td>0.611000</td>\n",
       "      <td>289.000000</td>\n",
       "      <td>440.000000</td>\n",
       "      <td>1.038980</td>\n",
       "      <td>4.010000</td>\n",
       "      <td>2.000000</td>\n",
       "      <td>14.900000</td>\n",
       "      <td>9.000000</td>\n",
       "    </tr>\n",
       "  </tbody>\n",
       "</table>\n",
       "</div>"
      ],
      "text/plain": [
       "       fixed acidity  volatile acidity  citric acid  residual sugar  \\\n",
       "count    6497.000000       6497.000000  6497.000000     6497.000000   \n",
       "mean        7.216579          0.339691     0.326080        5.444326   \n",
       "std         1.295751          0.164548     0.136720        4.757392   \n",
       "min         3.800000          0.080000     0.010000        0.600000   \n",
       "25%         6.400000          0.230000     0.250000        1.800000   \n",
       "50%         7.000000          0.290000     0.318722        3.000000   \n",
       "75%         7.700000          0.400000     0.390000        8.100000   \n",
       "max        15.900000          1.580000     1.660000       65.800000   \n",
       "\n",
       "         chlorides  free sulfur dioxide  total sulfur dioxide      density  \\\n",
       "count  6497.000000          6497.000000           6497.000000  6497.000000   \n",
       "mean      0.056042            30.525319            115.744574     0.994697   \n",
       "std       0.035031            17.749400             56.521855     0.002999   \n",
       "min       0.009000             1.000000              6.000000     0.987110   \n",
       "25%       0.038000            17.000000             77.000000     0.992340   \n",
       "50%       0.047000            29.000000            118.000000     0.994890   \n",
       "75%       0.065000            41.000000            156.000000     0.996990   \n",
       "max       0.611000           289.000000            440.000000     1.038980   \n",
       "\n",
       "                pH    sulphates      alcohol      quality  \n",
       "count  6497.000000  6497.000000  6497.000000  6497.000000  \n",
       "mean      3.218395     0.531215    10.491801     5.818378  \n",
       "std       0.160637     0.148768     1.192712     0.873255  \n",
       "min       2.720000     0.220000     8.000000     3.000000  \n",
       "25%       3.110000     0.430000     9.500000     5.000000  \n",
       "50%       3.210000     0.510000    10.300000     6.000000  \n",
       "75%       3.320000     0.600000    11.300000     6.000000  \n",
       "max       4.010000     2.000000    14.900000     9.000000  "
      ]
     },
     "execution_count": 8,
     "metadata": {},
     "output_type": "execute_result"
    }
   ],
   "source": [
    "wine.describe()"
   ]
  },
  {
   "cell_type": "markdown",
   "id": "2b73354e-0966-41b7-83f7-08db4239206c",
   "metadata": {},
   "source": [
    "#### Observando el cuadro de descripcion de las columna, encontramos que las variables que presentan potenciales valores atipicos, para confirmar las sospechas se realizaran los boxplot de las variables a continuacion:"
   ]
  },
  {
   "cell_type": "code",
   "execution_count": 9,
   "id": "1f9ae10f-2266-4ba1-8dda-d9b5703253c6",
   "metadata": {},
   "outputs": [
    {
     "data": {
      "text/plain": [
       "{'whiskers': [<matplotlib.lines.Line2D at 0x2a04aaeb370>,\n",
       "  <matplotlib.lines.Line2D at 0x2a04aaeb640>],\n",
       " 'caps': [<matplotlib.lines.Line2D at 0x2a04aaeb9d0>,\n",
       "  <matplotlib.lines.Line2D at 0x2a04aaebbe0>],\n",
       " 'boxes': [<matplotlib.lines.Line2D at 0x2a04aaeb0a0>],\n",
       " 'medians': [<matplotlib.lines.Line2D at 0x2a04aaebeb0>],\n",
       " 'fliers': [<matplotlib.lines.Line2D at 0x2a04aafe1c0>],\n",
       " 'means': []}"
      ]
     },
     "execution_count": 9,
     "metadata": {},
     "output_type": "execute_result"
    },
    {
     "data": {
      "image/png": "[encoded data removed]",
      "text/plain": [
       "<Figure size 432x288 with 1 Axes>"
      ]
     },
     "metadata": {
      "needs_background": "light"
     },
     "output_type": "display_data"
    }
   ],
   "source": [
    "plt.boxplot( wine[\"fixed acidity\"] )"
   ]
  },
  {
   "cell_type": "code",
   "execution_count": 10,
   "id": "6450ff8e-4d40-45aa-b313-bfee43313d70",
   "metadata": {},
   "outputs": [
    {
     "data": {
      "text/plain": [
       "{'whiskers': [<matplotlib.lines.Line2D at 0x2a04abd4430>,\n",
       "  <matplotlib.lines.Line2D at 0x2a04abd4700>],\n",
       " 'caps': [<matplotlib.lines.Line2D at 0x2a04abd49d0>,\n",
       "  <matplotlib.lines.Line2D at 0x2a04abd4ca0>],\n",
       " 'boxes': [<matplotlib.lines.Line2D at 0x2a04abd4160>],\n",
       " 'medians': [<matplotlib.lines.Line2D at 0x2a04abd4f70>],\n",
       " 'fliers': [<matplotlib.lines.Line2D at 0x2a04abe2280>],\n",
       " 'means': []}"
      ]
     },
     "execution_count": 10,
     "metadata": {},
     "output_type": "execute_result"
    },
    {
     "data": {
      "image/png": "[encoded data removed]",
      "text/plain": [
       "<Figure size 432x288 with 1 Axes>"
      ]
     },
     "metadata": {
      "needs_background": "light"
     },
     "output_type": "display_data"
    }
   ],
   "source": [
    "plt.boxplot( wine[\"volatile acidity\"] )"
   ]
  },
  {
   "cell_type": "code",
   "execution_count": 11,
   "id": "9eb655e8-b9f7-48dd-8e9f-da15a7b14937",
   "metadata": {},
   "outputs": [
    {
     "data": {
      "text/plain": [
       "{'whiskers': [<matplotlib.lines.Line2D at 0x2a04ac44790>,\n",
       "  <matplotlib.lines.Line2D at 0x2a04ac44a60>],\n",
       " 'caps': [<matplotlib.lines.Line2D at 0x2a04ac44d30>,\n",
       "  <matplotlib.lines.Line2D at 0x2a04ac52040>],\n",
       " 'boxes': [<matplotlib.lines.Line2D at 0x2a04ac444c0>],\n",
       " 'medians': [<matplotlib.lines.Line2D at 0x2a04ac52310>],\n",
       " 'fliers': [<matplotlib.lines.Line2D at 0x2a04ac525e0>],\n",
       " 'means': []}"
      ]
     },
     "execution_count": 11,
     "metadata": {},
     "output_type": "execute_result"
    },
    {
     "data": {
      "image/png": "[encoded data removed]",
      "text/plain": [
       "<Figure size 432x288 with 1 Axes>"
      ]
     },
     "metadata": {
      "needs_background": "light"
     },
     "output_type": "display_data"
    }
   ],
   "source": [
    "plt.boxplot( wine[\"citric acid\"] ) "
   ]
  },
  {
   "cell_type": "code",
   "execution_count": 12,
   "id": "50a2ad72-6e0e-40be-8502-a4466389c8cc",
   "metadata": {},
   "outputs": [
    {
     "data": {
      "text/plain": [
       "{'whiskers': [<matplotlib.lines.Line2D at 0x2a04acb7940>,\n",
       "  <matplotlib.lines.Line2D at 0x2a04acb7c10>],\n",
       " 'caps': [<matplotlib.lines.Line2D at 0x2a04acb7dc0>,\n",
       "  <matplotlib.lines.Line2D at 0x2a04acc60d0>],\n",
       " 'boxes': [<matplotlib.lines.Line2D at 0x2a04acb7670>],\n",
       " 'medians': [<matplotlib.lines.Line2D at 0x2a04acc63a0>],\n",
       " 'fliers': [<matplotlib.lines.Line2D at 0x2a04acc6670>],\n",
       " 'means': []}"
      ]
     },
     "execution_count": 12,
     "metadata": {},
     "output_type": "execute_result"
    },
    {
     "data": {
      "image/png": "[encoded data removed]",
      "text/plain": [
       "<Figure size 432x288 with 1 Axes>"
      ]
     },
     "metadata": {
      "needs_background": "light"
     },
     "output_type": "display_data"
    }
   ],
   "source": [
    "plt.boxplot( wine[\"residual sugar\"] )"
   ]
  },
  {
   "cell_type": "code",
   "execution_count": 13,
   "id": "d4a36142-1d74-4947-ad45-e034508b19ac",
   "metadata": {},
   "outputs": [
    {
     "data": {
      "text/plain": [
       "{'whiskers': [<matplotlib.lines.Line2D at 0x2a04ad22460>,\n",
       "  <matplotlib.lines.Line2D at 0x2a04ad22730>],\n",
       " 'caps': [<matplotlib.lines.Line2D at 0x2a04ad22a00>,\n",
       "  <matplotlib.lines.Line2D at 0x2a04ad22cd0>],\n",
       " 'boxes': [<matplotlib.lines.Line2D at 0x2a04ad22190>],\n",
       " 'medians': [<matplotlib.lines.Line2D at 0x2a04ad22fa0>],\n",
       " 'fliers': [<matplotlib.lines.Line2D at 0x2a04ad2f2b0>],\n",
       " 'means': []}"
      ]
     },
     "execution_count": 13,
     "metadata": {},
     "output_type": "execute_result"
    },
    {
     "data": {
      "image/png": "[encoded data removed]",
      "text/plain": [
       "<Figure size 432x288 with 1 Axes>"
      ]
     },
     "metadata": {
      "needs_background": "light"
     },
     "output_type": "display_data"
    }
   ],
   "source": [
    "plt.boxplot( wine[\"chlorides\"] ) "
   ]
  },
  {
   "cell_type": "code",
   "execution_count": 14,
   "id": "c932cfe8-004d-474a-97ea-f56337a2a958",
   "metadata": {},
   "outputs": [
    {
     "data": {
      "text/plain": [
       "{'whiskers': [<matplotlib.lines.Line2D at 0x2a04ad7edc0>,\n",
       "  <matplotlib.lines.Line2D at 0x2a04ad8f0d0>],\n",
       " 'caps': [<matplotlib.lines.Line2D at 0x2a04ad8f3a0>,\n",
       "  <matplotlib.lines.Line2D at 0x2a04ad8f670>],\n",
       " 'boxes': [<matplotlib.lines.Line2D at 0x2a04ad7eaf0>],\n",
       " 'medians': [<matplotlib.lines.Line2D at 0x2a04ad8f940>],\n",
       " 'fliers': [<matplotlib.lines.Line2D at 0x2a04ad8fc10>],\n",
       " 'means': []}"
      ]
     },
     "execution_count": 14,
     "metadata": {},
     "output_type": "execute_result"
    },
    {
     "data": {
      "image/png": "[encoded data removed]",
      "text/plain": [
       "<Figure size 432x288 with 1 Axes>"
      ]
     },
     "metadata": {
      "needs_background": "light"
     },
     "output_type": "display_data"
    }
   ],
   "source": [
    "plt.boxplot( wine[\"free sulfur dioxide\"] )"
   ]
  },
  {
   "cell_type": "code",
   "execution_count": 15,
   "id": "3f3ac1ff-5a06-491d-a147-4ca85af69332",
   "metadata": {},
   "outputs": [
    {
     "data": {
      "text/plain": [
       "{'whiskers': [<matplotlib.lines.Line2D at 0x2a04adf06d0>,\n",
       "  <matplotlib.lines.Line2D at 0x2a04adf09d0>],\n",
       " 'caps': [<matplotlib.lines.Line2D at 0x2a04adf0ca0>,\n",
       "  <matplotlib.lines.Line2D at 0x2a04adf0f70>],\n",
       " 'boxes': [<matplotlib.lines.Line2D at 0x2a04adf0400>],\n",
       " 'medians': [<matplotlib.lines.Line2D at 0x2a04adfc280>],\n",
       " 'fliers': [<matplotlib.lines.Line2D at 0x2a04adfc550>],\n",
       " 'means': []}"
      ]
     },
     "execution_count": 15,
     "metadata": {},
     "output_type": "execute_result"
    },
    {
     "data": {
      "image/png": "[encoded data removed]",
      "text/plain": [
       "<Figure size 432x288 with 1 Axes>"
      ]
     },
     "metadata": {
      "needs_background": "light"
     },
     "output_type": "display_data"
    }
   ],
   "source": [
    "plt.boxplot( wine[\"total sulfur dioxide\"] )"
   ]
  },
  {
   "cell_type": "code",
   "execution_count": 16,
   "id": "ce54f187-c245-4f0a-9848-3fa1fd95e188",
   "metadata": {},
   "outputs": [
    {
     "data": {
      "text/plain": [
       "{'whiskers': [<matplotlib.lines.Line2D at 0x2a04ae4e970>,\n",
       "  <matplotlib.lines.Line2D at 0x2a04ae4ec40>],\n",
       " 'caps': [<matplotlib.lines.Line2D at 0x2a04ae4ef10>,\n",
       "  <matplotlib.lines.Line2D at 0x2a04ae5c220>],\n",
       " 'boxes': [<matplotlib.lines.Line2D at 0x2a04ae4e6a0>],\n",
       " 'medians': [<matplotlib.lines.Line2D at 0x2a04ae5c4f0>],\n",
       " 'fliers': [<matplotlib.lines.Line2D at 0x2a04ae5c7c0>],\n",
       " 'means': []}"
      ]
     },
     "execution_count": 16,
     "metadata": {},
     "output_type": "execute_result"
    },
    {
     "data": {
      "image/png": "[encoded data removed]",
      "text/plain": [
       "<Figure size 432x288 with 1 Axes>"
      ]
     },
     "metadata": {
      "needs_background": "light"
     },
     "output_type": "display_data"
    }
   ],
   "source": [
    "plt.boxplot( wine[\"density\"] )"
   ]
  },
  {
   "cell_type": "code",
   "execution_count": 17,
   "id": "61639c87-75c5-4ef9-ad6c-14455356cba6",
   "metadata": {},
   "outputs": [
    {
     "data": {
      "text/plain": [
       "{'whiskers': [<matplotlib.lines.Line2D at 0x2a04aeafcd0>,\n",
       "  <matplotlib.lines.Line2D at 0x2a04aeaffa0>],\n",
       " 'caps': [<matplotlib.lines.Line2D at 0x2a04aebe2b0>,\n",
       "  <matplotlib.lines.Line2D at 0x2a04aebe580>],\n",
       " 'boxes': [<matplotlib.lines.Line2D at 0x2a04aeafa00>],\n",
       " 'medians': [<matplotlib.lines.Line2D at 0x2a04aebe850>],\n",
       " 'fliers': [<matplotlib.lines.Line2D at 0x2a04aebeb20>],\n",
       " 'means': []}"
      ]
     },
     "execution_count": 17,
     "metadata": {},
     "output_type": "execute_result"
    },
    {
     "data": {
      "image/png": "[encoded data removed]",
      "text/plain": [
       "<Figure size 432x288 with 1 Axes>"
      ]
     },
     "metadata": {
      "needs_background": "light"
     },
     "output_type": "display_data"
    }
   ],
   "source": [
    "plt.boxplot( wine[\"pH\"] )"
   ]
  },
  {
   "cell_type": "code",
   "execution_count": 18,
   "id": "7d906b87-3758-46de-b7d5-80bfa85fa0d0",
   "metadata": {},
   "outputs": [
    {
     "data": {
      "text/plain": [
       "{'whiskers': [<matplotlib.lines.Line2D at 0x2a04af213a0>,\n",
       "  <matplotlib.lines.Line2D at 0x2a04af21670>],\n",
       " 'caps': [<matplotlib.lines.Line2D at 0x2a04af21940>,\n",
       "  <matplotlib.lines.Line2D at 0x2a04af21c10>],\n",
       " 'boxes': [<matplotlib.lines.Line2D at 0x2a04af210d0>],\n",
       " 'medians': [<matplotlib.lines.Line2D at 0x2a04af21ee0>],\n",
       " 'fliers': [<matplotlib.lines.Line2D at 0x2a04af2d1f0>],\n",
       " 'means': []}"
      ]
     },
     "execution_count": 18,
     "metadata": {},
     "output_type": "execute_result"
    },
    {
     "data": {
      "image/png": "[encoded data removed]",
      "text/plain": [
       "<Figure size 432x288 with 1 Axes>"
      ]
     },
     "metadata": {
      "needs_background": "light"
     },
     "output_type": "display_data"
    }
   ],
   "source": [
    "plt.boxplot( wine[\"sulphates\"] ) "
   ]
  },
  {
   "cell_type": "code",
   "execution_count": 19,
   "id": "63446f29-dab6-4754-8f5c-08c9dcd9addf",
   "metadata": {},
   "outputs": [
    {
     "data": {
      "text/plain": [
       "{'whiskers': [<matplotlib.lines.Line2D at 0x2a04af88520>,\n",
       "  <matplotlib.lines.Line2D at 0x2a04af887f0>],\n",
       " 'caps': [<matplotlib.lines.Line2D at 0x2a04af88ac0>,\n",
       "  <matplotlib.lines.Line2D at 0x2a04af88d90>],\n",
       " 'boxes': [<matplotlib.lines.Line2D at 0x2a04af88250>],\n",
       " 'medians': [<matplotlib.lines.Line2D at 0x2a04af970a0>],\n",
       " 'fliers': [<matplotlib.lines.Line2D at 0x2a04af97370>],\n",
       " 'means': []}"
      ]
     },
     "execution_count": 19,
     "metadata": {},
     "output_type": "execute_result"
    },
    {
     "data": {
      "image/png": "[encoded data removed]",
      "text/plain": [
       "<Figure size 432x288 with 1 Axes>"
      ]
     },
     "metadata": {
      "needs_background": "light"
     },
     "output_type": "display_data"
    }
   ],
   "source": [
    "plt.boxplot( wine[\"alcohol\"] )"
   ]
  },
  {
   "cell_type": "markdown",
   "id": "44001139-1e27-47db-a4a7-6d93599ce8a0",
   "metadata": {},
   "source": [
    "#### Analizando cada una de las columnas, las escogidas para limpiar que representan una gran cantidad de valores atipicos son:\n",
    "- #### fixed acidity \n",
    "- #### volatile acidity \n",
    "- #### citric acid \n",
    "- #### residual sugar\n",
    "- #### chlorides\n",
    "- #### free sulfur dioxide\n",
    "- #### total sulfur dioxide\n",
    "- #### pH\n",
    "- #### sulphates\n",
    "\n",
    "#### Ahora veremos la estratificación usando la columna \"type\""
   ]
  },
  {
   "cell_type": "code",
   "execution_count": 20,
   "id": "65c36c11-287d-40ce-879f-b8301c278be7",
   "metadata": {},
   "outputs": [
    {
     "data": {
      "text/plain": [
       "type \n",
       "white    0.753886\n",
       "red      0.246114\n",
       "dtype: float64"
      ]
     },
     "execution_count": 20,
     "metadata": {},
     "output_type": "execute_result"
    }
   ],
   "source": [
    "wine.loc[ : , [\"type\"] ].value_counts()/ wine.shape[0]"
   ]
  },
  {
   "cell_type": "code",
   "execution_count": 21,
   "id": "8259b531-93d6-4d4b-8c16-edd5cb75da89",
   "metadata": {},
   "outputs": [
    {
     "data": {
      "text/plain": [
       "{'whiskers': [<matplotlib.lines.Line2D at 0x2a04bfb2b20>,\n",
       "  <matplotlib.lines.Line2D at 0x2a04bfb2ca0>],\n",
       " 'caps': [<matplotlib.lines.Line2D at 0x2a04bfb2fa0>,\n",
       "  <matplotlib.lines.Line2D at 0x2a04bfc02b0>],\n",
       " 'boxes': [<matplotlib.lines.Line2D at 0x2a04bfb2850>],\n",
       " 'medians': [<matplotlib.lines.Line2D at 0x2a04bfc0580>],\n",
       " 'fliers': [<matplotlib.lines.Line2D at 0x2a04bfc0850>],\n",
       " 'means': []}"
      ]
     },
     "execution_count": 21,
     "metadata": {},
     "output_type": "execute_result"
    },
    {
     "data": {
      "image/png": "[encoded data removed]",
      "text/plain": [
       "<Figure size 432x288 with 1 Axes>"
      ]
     },
     "metadata": {
      "needs_background": "light"
     },
     "output_type": "display_data"
    }
   ],
   "source": [
    "plt.boxplot( wine.loc[ : , [\"type\"] ].value_counts() )"
   ]
  },
  {
   "cell_type": "markdown",
   "id": "98828bc2-2c5a-4a95-9fb8-77afcc9417c7",
   "metadata": {},
   "source": [
    "#### Al hacer un analisis de la columna type encontramos que no tiene valores atipicos y cuenta con una distribucion de datos normal"
   ]
  },
  {
   "cell_type": "code",
   "execution_count": 22,
   "id": "fce8ccd6-9c32-4c2d-a783-87962c5baa24",
   "metadata": {},
   "outputs": [
    {
     "data": {
      "text/plain": [
       "<AxesSubplot:xlabel='type', ylabel='fixed acidity'>"
      ]
     },
     "execution_count": 22,
     "metadata": {},
     "output_type": "execute_result"
    },
    {
     "data": {
      "image/png": "[encoded data removed]",
      "text/plain": [
       "<Figure size 432x288 with 1 Axes>"
      ]
     },
     "metadata": {
      "needs_background": "light"
     },
     "output_type": "display_data"
    }
   ],
   "source": [
    "sns.boxplot( data=wine  , x=\"type\" , y=\"fixed acidity\" )"
   ]
  },
  {
   "cell_type": "code",
   "execution_count": 23,
   "id": "bd6b7932-bc02-4bbb-9f76-456b184ff618",
   "metadata": {},
   "outputs": [
    {
     "data": {
      "text/plain": [
       "<AxesSubplot:xlabel='type', ylabel='volatile acidity'>"
      ]
     },
     "execution_count": 23,
     "metadata": {},
     "output_type": "execute_result"
    },
    {
     "data": {
      "image/png": "[encoded data removed]",
      "text/plain": [
       "<Figure size 432x288 with 1 Axes>"
      ]
     },
     "metadata": {
      "needs_background": "light"
     },
     "output_type": "display_data"
    }
   ],
   "source": [
    "sns.boxplot( data=wine  , x=\"type\" , y=\"volatile acidity\" )"
   ]
  },
  {
   "cell_type": "code",
   "execution_count": 24,
   "id": "d45244ea-de0d-4de2-9405-54537719f4f4",
   "metadata": {},
   "outputs": [
    {
     "data": {
      "text/plain": [
       "<AxesSubplot:xlabel='type', ylabel='citric acid'>"
      ]
     },
     "execution_count": 24,
     "metadata": {},
     "output_type": "execute_result"
    },
    {
     "data": {
      "image/png": "[encoded data removed]",
      "text/plain": [
       "<Figure size 432x288 with 1 Axes>"
      ]
     },
     "metadata": {
      "needs_background": "light"
     },
     "output_type": "display_data"
    }
   ],
   "source": [
    "sns.boxplot( data=wine  , x=\"type\" , y=\"citric acid\" )"
   ]
  },
  {
   "cell_type": "code",
   "execution_count": 25,
   "id": "f60489e8-8f9b-4efb-9212-f255eb96639e",
   "metadata": {},
   "outputs": [
    {
     "data": {
      "text/plain": [
       "<AxesSubplot:xlabel='type', ylabel='residual sugar'>"
      ]
     },
     "execution_count": 25,
     "metadata": {},
     "output_type": "execute_result"
    },
    {
     "data": {
      "image/png": "[encoded data removed]",
      "text/plain": [
       "<Figure size 432x288 with 1 Axes>"
      ]
     },
     "metadata": {
      "needs_background": "light"
     },
     "output_type": "display_data"
    }
   ],
   "source": [
    "sns.boxplot( data=wine  , x=\"type\" , y=\"residual sugar\" )"
   ]
  },
  {
   "cell_type": "code",
   "execution_count": 26,
   "id": "c0d48067-d4dd-4657-9586-5b363778ff36",
   "metadata": {},
   "outputs": [
    {
     "data": {
      "text/plain": [
       "<AxesSubplot:xlabel='type', ylabel='chlorides'>"
      ]
     },
     "execution_count": 26,
     "metadata": {},
     "output_type": "execute_result"
    },
    {
     "data": {
      "image/png": "[encoded data removed]",
      "text/plain": [
       "<Figure size 432x288 with 1 Axes>"
      ]
     },
     "metadata": {
      "needs_background": "light"
     },
     "output_type": "display_data"
    }
   ],
   "source": [
    "sns.boxplot( data=wine  , x=\"type\" , y=\"chlorides\" )"
   ]
  },
  {
   "cell_type": "code",
   "execution_count": 27,
   "id": "5ee95bb4-3173-4003-a154-658910a77bef",
   "metadata": {},
   "outputs": [
    {
     "data": {
      "text/plain": [
       "<AxesSubplot:xlabel='type', ylabel='free sulfur dioxide'>"
      ]
     },
     "execution_count": 27,
     "metadata": {},
     "output_type": "execute_result"
    },
    {
     "data": {
      "image/png": "[encoded data removed]",
      "text/plain": [
       "<Figure size 432x288 with 1 Axes>"
      ]
     },
     "metadata": {
      "needs_background": "light"
     },
     "output_type": "display_data"
    }
   ],
   "source": [
    "sns.boxplot( data=wine  , x=\"type\" , y=\"free sulfur dioxide\" )"
   ]
  },
  {
   "cell_type": "code",
   "execution_count": 28,
   "id": "8ee815ad-6dd2-413e-9d96-860693b1eb52",
   "metadata": {},
   "outputs": [
    {
     "data": {
      "text/plain": [
       "<AxesSubplot:xlabel='type', ylabel='total sulfur dioxide'>"
      ]
     },
     "execution_count": 28,
     "metadata": {},
     "output_type": "execute_result"
    },
    {
     "data": {
      "image/png": "[encoded data removed]",
      "text/plain": [
       "<Figure size 432x288 with 1 Axes>"
      ]
     },
     "metadata": {
      "needs_background": "light"
     },
     "output_type": "display_data"
    }
   ],
   "source": [
    "sns.boxplot( data=wine  , x=\"type\" , y=\"total sulfur dioxide\" )"
   ]
  },
  {
   "cell_type": "code",
   "execution_count": 29,
   "id": "87c245d7-bf0d-4e92-a71a-945084330a76",
   "metadata": {},
   "outputs": [
    {
     "data": {
      "text/plain": [
       "<AxesSubplot:xlabel='type', ylabel='pH'>"
      ]
     },
     "execution_count": 29,
     "metadata": {},
     "output_type": "execute_result"
    },
    {
     "data": {
      "image/png": "[encoded data removed]",
      "text/plain": [
       "<Figure size 432x288 with 1 Axes>"
      ]
     },
     "metadata": {
      "needs_background": "light"
     },
     "output_type": "display_data"
    }
   ],
   "source": [
    "sns.boxplot( data=wine  , x=\"type\" , y=\"pH\" )"
   ]
  },
  {
   "cell_type": "code",
   "execution_count": 30,
   "id": "505a6632-8915-4b9f-bf4e-ab7d35671274",
   "metadata": {},
   "outputs": [
    {
     "data": {
      "text/plain": [
       "<AxesSubplot:xlabel='type', ylabel='sulphates'>"
      ]
     },
     "execution_count": 30,
     "metadata": {},
     "output_type": "execute_result"
    },
    {
     "data": {
      "image/png": "[encoded data removed]",
      "text/plain": [
       "<Figure size 432x288 with 1 Axes>"
      ]
     },
     "metadata": {
      "needs_background": "light"
     },
     "output_type": "display_data"
    }
   ],
   "source": [
    "sns.boxplot( data=wine  , x=\"type\" , y=\"sulphates\" )"
   ]
  },
  {
   "cell_type": "markdown",
   "id": "d8318ae9-021a-47a2-aa1a-5124f114ebdd",
   "metadata": {},
   "source": [
    "#### Al realizar la estratificacion nos damos cuenta que en ambos casos se presentan una serie de valores atipicos por lo cual, hacemos la estratificacion con la columna \"type\" en el caso de la columna \"citrid acid\" ya que presenta valores atipicos nada mas para el type \"white\" se hara solo para ese valor y en la columna \"residual sugar\" sera para el type \"red\""
   ]
  },
  {
   "cell_type": "markdown",
   "id": "b1ad7465-0271-438c-a5af-989ac18f1edb",
   "metadata": {},
   "source": [
    "### Limpieza variable \"free sulfur dioxide\""
   ]
  },
  {
   "cell_type": "code",
   "execution_count": 31,
   "id": "1a03dbd8-642b-4ee1-bb88-4a826d2a8574",
   "metadata": {},
   "outputs": [],
   "source": [
    "types = wine.loc[ : , ['free sulfur dioxide'] ]"
   ]
  },
  {
   "cell_type": "code",
   "execution_count": 32,
   "id": "1cb0dea7-7d1f-4335-b582-0dea2e91b922",
   "metadata": {},
   "outputs": [
    {
     "data": {
      "text/plain": [
       "{'whiskers': [<matplotlib.lines.Line2D at 0x2a04c477250>,\n",
       "  <matplotlib.lines.Line2D at 0x2a04c477550>],\n",
       " 'caps': [<matplotlib.lines.Line2D at 0x2a04c477820>,\n",
       "  <matplotlib.lines.Line2D at 0x2a04c477af0>],\n",
       " 'boxes': [<matplotlib.lines.Line2D at 0x2a04c469f40>],\n",
       " 'medians': [<matplotlib.lines.Line2D at 0x2a04c477dc0>],\n",
       " 'fliers': [<matplotlib.lines.Line2D at 0x2a04c4860d0>],\n",
       " 'means': []}"
      ]
     },
     "execution_count": 32,
     "metadata": {},
     "output_type": "execute_result"
    },
    {
     "data": {
      "image/png": "[encoded data removed]",
      "text/plain": [
       "<Figure size 432x288 with 1 Axes>"
      ]
     },
     "metadata": {
      "needs_background": "light"
     },
     "output_type": "display_data"
    }
   ],
   "source": [
    "plt.boxplot(types)"
   ]
  },
  {
   "cell_type": "markdown",
   "id": "dcb15a59-0b48-4076-b822-95b94bdd298f",
   "metadata": {},
   "source": [
    "#### Se usara la manera automatizada para la limpieza de las variables"
   ]
  },
  {
   "cell_type": "code",
   "execution_count": 33,
   "id": "16b43f84-154e-4b71-82b8-e3d1822f0ea1",
   "metadata": {},
   "outputs": [],
   "source": [
    "wineq1 = wine.loc[ : , [\"type\",\"free sulfur dioxide\"] ].groupby( [\"type\"] , as_index = False ).quantile(0.25)\n",
    "wineq1.columns = [\"type\",\"free_sulfur_dioxide_q1\"]"
   ]
  },
  {
   "cell_type": "code",
   "execution_count": 34,
   "id": "b00be254-742d-4552-ad5e-d30a879461b0",
   "metadata": {},
   "outputs": [],
   "source": [
    "wineq2 = wine.loc[ : , [\"type\",\"free sulfur dioxide\"] ].groupby( [\"type\"] , as_index = False ).quantile(0.5)\n",
    "wineq2.columns = [\"type\",\"free_sulfur_dioxide_q2\"]"
   ]
  },
  {
   "cell_type": "code",
   "execution_count": 35,
   "id": "032702e9-c2bc-4261-bb08-a0ecb2f278ce",
   "metadata": {},
   "outputs": [],
   "source": [
    "wineq3 = wine.loc[ : , [\"type\",\"free sulfur dioxide\"] ].groupby( [\"type\"] , as_index = False ).quantile(0.75)\n",
    "wineq3.columns = [\"type\",\"free_sulfur_dioxide_q3\"]"
   ]
  },
  {
   "cell_type": "code",
   "execution_count": 36,
   "id": "06a6ead1-a752-4979-9adc-3ad04e813839",
   "metadata": {},
   "outputs": [],
   "source": [
    "wine_iqr = wineq1.merge( wineq2 , on=[\"type\"] , how=\"inner\" ).merge( wineq3 , on=[\"type\"] , how=\"inner\" )"
   ]
  },
  {
   "cell_type": "code",
   "execution_count": 37,
   "id": "9aaae907-b903-461f-bec2-d57e6800c397",
   "metadata": {},
   "outputs": [
    {
     "data": {
      "text/html": [
       "<div>\n",
       "<style scoped>\n",
       "    .dataframe tbody tr th:only-of-type {\n",
       "        vertical-align: middle;\n",
       "    }\n",
       "\n",
       "    .dataframe tbody tr th {\n",
       "        vertical-align: top;\n",
       "    }\n",
       "\n",
       "    .dataframe thead th {\n",
       "        text-align: right;\n",
       "    }\n",
       "</style>\n",
       "<table border=\"1\" class=\"dataframe\">\n",
       "  <thead>\n",
       "    <tr style=\"text-align: right;\">\n",
       "      <th></th>\n",
       "      <th>type</th>\n",
       "      <th>free_sulfur_dioxide_q1</th>\n",
       "      <th>free_sulfur_dioxide_q2</th>\n",
       "      <th>free_sulfur_dioxide_q3</th>\n",
       "    </tr>\n",
       "  </thead>\n",
       "  <tbody>\n",
       "    <tr>\n",
       "      <th>0</th>\n",
       "      <td>red</td>\n",
       "      <td>7.0</td>\n",
       "      <td>14.0</td>\n",
       "      <td>21.0</td>\n",
       "    </tr>\n",
       "    <tr>\n",
       "      <th>1</th>\n",
       "      <td>white</td>\n",
       "      <td>23.0</td>\n",
       "      <td>34.0</td>\n",
       "      <td>46.0</td>\n",
       "    </tr>\n",
       "  </tbody>\n",
       "</table>\n",
       "</div>"
      ],
      "text/plain": [
       "    type  free_sulfur_dioxide_q1  free_sulfur_dioxide_q2  \\\n",
       "0    red                     7.0                    14.0   \n",
       "1  white                    23.0                    34.0   \n",
       "\n",
       "   free_sulfur_dioxide_q3  \n",
       "0                    21.0  \n",
       "1                    46.0  "
      ]
     },
     "execution_count": 37,
     "metadata": {},
     "output_type": "execute_result"
    }
   ],
   "source": [
    "wine_iqr.head(2)"
   ]
  },
  {
   "cell_type": "code",
   "execution_count": 38,
   "id": "911f0e7d-4936-453d-b20e-ca8dbcc62b02",
   "metadata": {},
   "outputs": [],
   "source": [
    "wine_iqr[\"iqr\"] = wine_iqr.apply( lambda r: r[\"free_sulfur_dioxide_q3\"] - r[\"free_sulfur_dioxide_q1\"] , axis = 1)"
   ]
  },
  {
   "cell_type": "code",
   "execution_count": 39,
   "id": "71f07453-897c-43c7-945a-9fa004bea909",
   "metadata": {},
   "outputs": [
    {
     "data": {
      "text/html": [
       "<div>\n",
       "<style scoped>\n",
       "    .dataframe tbody tr th:only-of-type {\n",
       "        vertical-align: middle;\n",
       "    }\n",
       "\n",
       "    .dataframe tbody tr th {\n",
       "        vertical-align: top;\n",
       "    }\n",
       "\n",
       "    .dataframe thead th {\n",
       "        text-align: right;\n",
       "    }\n",
       "</style>\n",
       "<table border=\"1\" class=\"dataframe\">\n",
       "  <thead>\n",
       "    <tr style=\"text-align: right;\">\n",
       "      <th></th>\n",
       "      <th>type</th>\n",
       "      <th>free_sulfur_dioxide_q1</th>\n",
       "      <th>free_sulfur_dioxide_q2</th>\n",
       "      <th>free_sulfur_dioxide_q3</th>\n",
       "      <th>iqr</th>\n",
       "    </tr>\n",
       "  </thead>\n",
       "  <tbody>\n",
       "    <tr>\n",
       "      <th>0</th>\n",
       "      <td>red</td>\n",
       "      <td>7.0</td>\n",
       "      <td>14.0</td>\n",
       "      <td>21.0</td>\n",
       "      <td>14.0</td>\n",
       "    </tr>\n",
       "    <tr>\n",
       "      <th>1</th>\n",
       "      <td>white</td>\n",
       "      <td>23.0</td>\n",
       "      <td>34.0</td>\n",
       "      <td>46.0</td>\n",
       "      <td>23.0</td>\n",
       "    </tr>\n",
       "  </tbody>\n",
       "</table>\n",
       "</div>"
      ],
      "text/plain": [
       "    type  free_sulfur_dioxide_q1  free_sulfur_dioxide_q2  \\\n",
       "0    red                     7.0                    14.0   \n",
       "1  white                    23.0                    34.0   \n",
       "\n",
       "   free_sulfur_dioxide_q3   iqr  \n",
       "0                    21.0  14.0  \n",
       "1                    46.0  23.0  "
      ]
     },
     "execution_count": 39,
     "metadata": {},
     "output_type": "execute_result"
    }
   ],
   "source": [
    "wine_iqr.head(2)"
   ]
  },
  {
   "cell_type": "code",
   "execution_count": 40,
   "id": "c43b6f3b-484b-49f3-abf9-b4cfa3d8f941",
   "metadata": {},
   "outputs": [],
   "source": [
    "wine_iqr[\"upper\"] = wine_iqr.apply( lambda r: ( r[\"free_sulfur_dioxide_q3\"] + 1.5*r[\"iqr\"] ) , axis = 1)\n",
    "wine_iqr[\"lower\"] = wine_iqr.apply( lambda r: ( r[\"free_sulfur_dioxide_q1\"] - 1.5*r[\"iqr\"] ) , axis = 1)"
   ]
  },
  {
   "cell_type": "code",
   "execution_count": 41,
   "id": "f0e5b6ef-2a08-400a-a105-1c75f5fa27c2",
   "metadata": {},
   "outputs": [
    {
     "data": {
      "text/html": [
       "<div>\n",
       "<style scoped>\n",
       "    .dataframe tbody tr th:only-of-type {\n",
       "        vertical-align: middle;\n",
       "    }\n",
       "\n",
       "    .dataframe tbody tr th {\n",
       "        vertical-align: top;\n",
       "    }\n",
       "\n",
       "    .dataframe thead th {\n",
       "        text-align: right;\n",
       "    }\n",
       "</style>\n",
       "<table border=\"1\" class=\"dataframe\">\n",
       "  <thead>\n",
       "    <tr style=\"text-align: right;\">\n",
       "      <th></th>\n",
       "      <th>type</th>\n",
       "      <th>free_sulfur_dioxide_q1</th>\n",
       "      <th>free_sulfur_dioxide_q2</th>\n",
       "      <th>free_sulfur_dioxide_q3</th>\n",
       "      <th>iqr</th>\n",
       "      <th>upper</th>\n",
       "      <th>lower</th>\n",
       "    </tr>\n",
       "  </thead>\n",
       "  <tbody>\n",
       "    <tr>\n",
       "      <th>0</th>\n",
       "      <td>red</td>\n",
       "      <td>7.0</td>\n",
       "      <td>14.0</td>\n",
       "      <td>21.0</td>\n",
       "      <td>14.0</td>\n",
       "      <td>42.0</td>\n",
       "      <td>-14.0</td>\n",
       "    </tr>\n",
       "    <tr>\n",
       "      <th>1</th>\n",
       "      <td>white</td>\n",
       "      <td>23.0</td>\n",
       "      <td>34.0</td>\n",
       "      <td>46.0</td>\n",
       "      <td>23.0</td>\n",
       "      <td>80.5</td>\n",
       "      <td>-11.5</td>\n",
       "    </tr>\n",
       "  </tbody>\n",
       "</table>\n",
       "</div>"
      ],
      "text/plain": [
       "    type  free_sulfur_dioxide_q1  free_sulfur_dioxide_q2  \\\n",
       "0    red                     7.0                    14.0   \n",
       "1  white                    23.0                    34.0   \n",
       "\n",
       "   free_sulfur_dioxide_q3   iqr  upper  lower  \n",
       "0                    21.0  14.0   42.0  -14.0  \n",
       "1                    46.0  23.0   80.5  -11.5  "
      ]
     },
     "execution_count": 41,
     "metadata": {},
     "output_type": "execute_result"
    }
   ],
   "source": [
    "wine_iqr.head(2)"
   ]
  },
  {
   "cell_type": "code",
   "execution_count": 42,
   "id": "fccf7611-be12-4a2b-baad-b7ae9e326aef",
   "metadata": {},
   "outputs": [
    {
     "data": {
      "text/plain": [
       "(6497, 13)"
      ]
     },
     "execution_count": 42,
     "metadata": {},
     "output_type": "execute_result"
    }
   ],
   "source": [
    "wine.shape"
   ]
  },
  {
   "cell_type": "code",
   "execution_count": 43,
   "id": "575aa6d0-60ad-45ff-bffa-9f689f5832f4",
   "metadata": {},
   "outputs": [],
   "source": [
    "wine = wine.merge( wine_iqr , on=[\"type\"] , how=\"left\" ).copy()"
   ]
  },
  {
   "cell_type": "code",
   "execution_count": 44,
   "id": "310ab323-a556-49c4-aae4-a8d931af71e6",
   "metadata": {},
   "outputs": [
    {
     "data": {
      "text/plain": [
       "(6497, 19)"
      ]
     },
     "execution_count": 44,
     "metadata": {},
     "output_type": "execute_result"
    }
   ],
   "source": [
    "wine.shape"
   ]
  },
  {
   "cell_type": "code",
   "execution_count": 45,
   "id": "1c365705-933f-48ca-9cd6-64fd709046d3",
   "metadata": {},
   "outputs": [],
   "source": [
    "def getRealFree_Sulfur_dioxide(r):\n",
    "    if ( r[\"free sulfur dioxide\"] <= r[\"lower\"] ) | ( r[\"free sulfur dioxide\"] >= r[\"upper\"] ):\n",
    "        return r[\"free_sulfur_dioxide_q2\"]\n",
    "    else:\n",
    "        return r[\"free sulfur dioxide\"]"
   ]
  },
  {
   "cell_type": "code",
   "execution_count": 46,
   "id": "8fc330d4-8db1-47fd-8c76-50b93628bdc7",
   "metadata": {},
   "outputs": [],
   "source": [
    "wine[\"new free sulfur dioxide\"] = wine.apply( lambda r: getRealFree_Sulfur_dioxide(r) , axis = 1 )"
   ]
  },
  {
   "cell_type": "code",
   "execution_count": 47,
   "id": "75eb0ab6-eddd-4719-94b0-ebea95e48ac1",
   "metadata": {},
   "outputs": [
    {
     "data": {
      "text/html": [
       "<div>\n",
       "<style scoped>\n",
       "    .dataframe tbody tr th:only-of-type {\n",
       "        vertical-align: middle;\n",
       "    }\n",
       "\n",
       "    .dataframe tbody tr th {\n",
       "        vertical-align: top;\n",
       "    }\n",
       "\n",
       "    .dataframe thead th {\n",
       "        text-align: right;\n",
       "    }\n",
       "</style>\n",
       "<table border=\"1\" class=\"dataframe\">\n",
       "  <thead>\n",
       "    <tr style=\"text-align: right;\">\n",
       "      <th></th>\n",
       "      <th>type</th>\n",
       "      <th>fixed acidity</th>\n",
       "      <th>volatile acidity</th>\n",
       "      <th>citric acid</th>\n",
       "      <th>residual sugar</th>\n",
       "      <th>chlorides</th>\n",
       "      <th>free sulfur dioxide</th>\n",
       "      <th>total sulfur dioxide</th>\n",
       "      <th>density</th>\n",
       "      <th>pH</th>\n",
       "      <th>sulphates</th>\n",
       "      <th>alcohol</th>\n",
       "      <th>quality</th>\n",
       "      <th>free_sulfur_dioxide_q1</th>\n",
       "      <th>free_sulfur_dioxide_q2</th>\n",
       "      <th>free_sulfur_dioxide_q3</th>\n",
       "      <th>iqr</th>\n",
       "      <th>upper</th>\n",
       "      <th>lower</th>\n",
       "      <th>new free sulfur dioxide</th>\n",
       "    </tr>\n",
       "  </thead>\n",
       "  <tbody>\n",
       "    <tr>\n",
       "      <th>0</th>\n",
       "      <td>white</td>\n",
       "      <td>7.0</td>\n",
       "      <td>0.27</td>\n",
       "      <td>0.36</td>\n",
       "      <td>20.7</td>\n",
       "      <td>0.045</td>\n",
       "      <td>45.0</td>\n",
       "      <td>170.0</td>\n",
       "      <td>1.0010</td>\n",
       "      <td>3.00</td>\n",
       "      <td>0.45</td>\n",
       "      <td>8.8</td>\n",
       "      <td>6.0</td>\n",
       "      <td>23.0</td>\n",
       "      <td>34.0</td>\n",
       "      <td>46.0</td>\n",
       "      <td>23.0</td>\n",
       "      <td>80.5</td>\n",
       "      <td>-11.5</td>\n",
       "      <td>45.0</td>\n",
       "    </tr>\n",
       "    <tr>\n",
       "      <th>1</th>\n",
       "      <td>white</td>\n",
       "      <td>6.3</td>\n",
       "      <td>0.30</td>\n",
       "      <td>0.34</td>\n",
       "      <td>1.6</td>\n",
       "      <td>0.049</td>\n",
       "      <td>14.0</td>\n",
       "      <td>132.0</td>\n",
       "      <td>0.9940</td>\n",
       "      <td>3.30</td>\n",
       "      <td>0.49</td>\n",
       "      <td>9.5</td>\n",
       "      <td>6.0</td>\n",
       "      <td>23.0</td>\n",
       "      <td>34.0</td>\n",
       "      <td>46.0</td>\n",
       "      <td>23.0</td>\n",
       "      <td>80.5</td>\n",
       "      <td>-11.5</td>\n",
       "      <td>14.0</td>\n",
       "    </tr>\n",
       "    <tr>\n",
       "      <th>2</th>\n",
       "      <td>white</td>\n",
       "      <td>8.1</td>\n",
       "      <td>0.28</td>\n",
       "      <td>0.40</td>\n",
       "      <td>6.9</td>\n",
       "      <td>0.050</td>\n",
       "      <td>30.0</td>\n",
       "      <td>97.0</td>\n",
       "      <td>0.9951</td>\n",
       "      <td>3.26</td>\n",
       "      <td>0.44</td>\n",
       "      <td>10.1</td>\n",
       "      <td>6.0</td>\n",
       "      <td>23.0</td>\n",
       "      <td>34.0</td>\n",
       "      <td>46.0</td>\n",
       "      <td>23.0</td>\n",
       "      <td>80.5</td>\n",
       "      <td>-11.5</td>\n",
       "      <td>30.0</td>\n",
       "    </tr>\n",
       "    <tr>\n",
       "      <th>3</th>\n",
       "      <td>white</td>\n",
       "      <td>7.2</td>\n",
       "      <td>0.23</td>\n",
       "      <td>0.32</td>\n",
       "      <td>8.5</td>\n",
       "      <td>0.058</td>\n",
       "      <td>47.0</td>\n",
       "      <td>186.0</td>\n",
       "      <td>0.9956</td>\n",
       "      <td>3.19</td>\n",
       "      <td>0.40</td>\n",
       "      <td>9.9</td>\n",
       "      <td>6.0</td>\n",
       "      <td>23.0</td>\n",
       "      <td>34.0</td>\n",
       "      <td>46.0</td>\n",
       "      <td>23.0</td>\n",
       "      <td>80.5</td>\n",
       "      <td>-11.5</td>\n",
       "      <td>47.0</td>\n",
       "    </tr>\n",
       "    <tr>\n",
       "      <th>4</th>\n",
       "      <td>white</td>\n",
       "      <td>7.2</td>\n",
       "      <td>0.23</td>\n",
       "      <td>0.32</td>\n",
       "      <td>8.5</td>\n",
       "      <td>0.058</td>\n",
       "      <td>47.0</td>\n",
       "      <td>186.0</td>\n",
       "      <td>0.9956</td>\n",
       "      <td>3.19</td>\n",
       "      <td>0.40</td>\n",
       "      <td>9.9</td>\n",
       "      <td>6.0</td>\n",
       "      <td>23.0</td>\n",
       "      <td>34.0</td>\n",
       "      <td>46.0</td>\n",
       "      <td>23.0</td>\n",
       "      <td>80.5</td>\n",
       "      <td>-11.5</td>\n",
       "      <td>47.0</td>\n",
       "    </tr>\n",
       "  </tbody>\n",
       "</table>\n",
       "</div>"
      ],
      "text/plain": [
       "    type  fixed acidity  volatile acidity  citric acid  residual sugar  \\\n",
       "0  white            7.0              0.27         0.36            20.7   \n",
       "1  white            6.3              0.30         0.34             1.6   \n",
       "2  white            8.1              0.28         0.40             6.9   \n",
       "3  white            7.2              0.23         0.32             8.5   \n",
       "4  white            7.2              0.23         0.32             8.5   \n",
       "\n",
       "   chlorides  free sulfur dioxide  total sulfur dioxide  density    pH  \\\n",
       "0      0.045                 45.0                 170.0   1.0010  3.00   \n",
       "1      0.049                 14.0                 132.0   0.9940  3.30   \n",
       "2      0.050                 30.0                  97.0   0.9951  3.26   \n",
       "3      0.058                 47.0                 186.0   0.9956  3.19   \n",
       "4      0.058                 47.0                 186.0   0.9956  3.19   \n",
       "\n",
       "   sulphates  alcohol  quality  free_sulfur_dioxide_q1  \\\n",
       "0       0.45      8.8      6.0                    23.0   \n",
       "1       0.49      9.5      6.0                    23.0   \n",
       "2       0.44     10.1      6.0                    23.0   \n",
       "3       0.40      9.9      6.0                    23.0   \n",
       "4       0.40      9.9      6.0                    23.0   \n",
       "\n",
       "   free_sulfur_dioxide_q2  free_sulfur_dioxide_q3   iqr  upper  lower  \\\n",
       "0                    34.0                    46.0  23.0   80.5  -11.5   \n",
       "1                    34.0                    46.0  23.0   80.5  -11.5   \n",
       "2                    34.0                    46.0  23.0   80.5  -11.5   \n",
       "3                    34.0                    46.0  23.0   80.5  -11.5   \n",
       "4                    34.0                    46.0  23.0   80.5  -11.5   \n",
       "\n",
       "   new free sulfur dioxide  \n",
       "0                     45.0  \n",
       "1                     14.0  \n",
       "2                     30.0  \n",
       "3                     47.0  \n",
       "4                     47.0  "
      ]
     },
     "execution_count": 47,
     "metadata": {},
     "output_type": "execute_result"
    }
   ],
   "source": [
    "wine.head(5)"
   ]
  },
  {
   "cell_type": "code",
   "execution_count": 48,
   "id": "4aeae8d8-e699-48a8-849e-9722d7b38160",
   "metadata": {},
   "outputs": [],
   "source": [
    "wine = wine.drop(columns = ['free_sulfur_dioxide_q1', 'free_sulfur_dioxide_q2', 'free_sulfur_dioxide_q3', 'iqr', 'upper', 'lower'])"
   ]
  },
  {
   "cell_type": "code",
   "execution_count": 49,
   "id": "544d6545-894a-4573-b266-518c856a0255",
   "metadata": {},
   "outputs": [
    {
     "data": {
      "text/plain": [
       "<AxesSubplot:xlabel='type', ylabel='free sulfur dioxide'>"
      ]
     },
     "execution_count": 49,
     "metadata": {},
     "output_type": "execute_result"
    },
    {
     "data": {
      "image/png": "[encoded data removed]",
      "text/plain": [
       "<Figure size 432x288 with 1 Axes>"
      ]
     },
     "metadata": {
      "needs_background": "light"
     },
     "output_type": "display_data"
    }
   ],
   "source": [
    "sns.boxplot( data=wine.loc[ : , : ] , x=\"type\" , y=\"free sulfur dioxide\" )"
   ]
  },
  {
   "cell_type": "code",
   "execution_count": 50,
   "id": "f00759c0-877a-4ced-8e2e-6e6d8f4bfa42",
   "metadata": {},
   "outputs": [
    {
     "data": {
      "text/plain": [
       "<AxesSubplot:xlabel='type', ylabel='new free sulfur dioxide'>"
      ]
     },
     "execution_count": 50,
     "metadata": {},
     "output_type": "execute_result"
    },
    {
     "data": {
      "image/png": "[encoded data removed]",
      "text/plain": [
       "<Figure size 432x288 with 1 Axes>"
      ]
     },
     "metadata": {
      "needs_background": "light"
     },
     "output_type": "display_data"
    }
   ],
   "source": [
    "sns.boxplot( data=wine.loc[ : , : ] , x=\"type\" , y=\"new free sulfur dioxide\" )"
   ]
  },
  {
   "cell_type": "markdown",
   "id": "ca96c901-f7df-4353-b1d4-783feceb4872",
   "metadata": {},
   "source": [
    "#### De aqui en adelante las demas columnas representan casi el mismo proceso, por lo cual, se realizaran las acciones en una sola celda\n",
    "### Limpieza variable \"fixed acidity\""
   ]
  },
  {
   "cell_type": "code",
   "execution_count": 51,
   "id": "cd009826-9b01-4d6c-b178-336dfc9501f0",
   "metadata": {},
   "outputs": [],
   "source": [
    "types = wine.loc[ : , ['fixed acidity'] ]\n",
    "\n",
    "wineq1 = wine.loc[ : , [\"type\",\"fixed acidity\"] ].groupby( [\"type\"] , as_index = False ).quantile(0.25)\n",
    "wineq1.columns = [\"type\",\"fixed_acidity_q1\"]\n",
    "\n",
    "wineq2 = wine.loc[ : , [\"type\",\"fixed acidity\"] ].groupby( [\"type\"] , as_index = False ).quantile(0.5)\n",
    "wineq2.columns = [\"type\",\"fixed_acidity_q2\"]\n",
    "\n",
    "wineq3 = wine.loc[ : , [\"type\",\"fixed acidity\"] ].groupby( [\"type\"] , as_index = False ).quantile(0.75)\n",
    "wineq3.columns = [\"type\",\"fixed_acidity_q3\"]\n",
    "\n",
    "wine_iqr = wineq1.merge( wineq2 , on=[\"type\"] , how=\"inner\" ).merge( wineq3 , on=[\"type\"] , how=\"inner\" )\n",
    "\n",
    "wine_iqr[\"iqr\"] = wine_iqr.apply( lambda r: r[\"fixed_acidity_q3\"] - r[\"fixed_acidity_q1\"] , axis = 1)\n",
    "\n",
    "wine_iqr[\"upper\"] = wine_iqr.apply( lambda r: ( r[\"fixed_acidity_q3\"] + 1.5*r[\"iqr\"] ) , axis = 1)\n",
    "wine_iqr[\"lower\"] = wine_iqr.apply( lambda r: ( r[\"fixed_acidity_q1\"] - 1.5*r[\"iqr\"] ) , axis = 1)\n",
    "\n",
    "wine = wine.merge( wine_iqr , on=[\"type\"] , how=\"left\" ).copy()\n",
    "\n",
    "def getRealFixed_acidity(r):\n",
    "    if ( r[\"fixed acidity\"] <= r[\"lower\"] ) | ( r[\"fixed acidity\"] >= r[\"upper\"] ):\n",
    "        return r[\"fixed_acidity_q2\"]\n",
    "    else:\n",
    "        return r[\"fixed acidity\"]\n",
    "    \n",
    "wine[\"new fixed acidity\"] = wine.apply( lambda r: getRealFixed_acidity(r) , axis = 1 )\n",
    "\n",
    "wine = wine.drop(columns = ['fixed_acidity_q1', 'fixed_acidity_q2', 'fixed_acidity_q3', 'iqr', 'upper', 'lower'])"
   ]
  },
  {
   "cell_type": "code",
   "execution_count": 52,
   "id": "fb410427-c631-4d33-a5f1-5e5893e70203",
   "metadata": {},
   "outputs": [
    {
     "data": {
      "text/plain": [
       "<AxesSubplot:xlabel='type', ylabel='fixed acidity'>"
      ]
     },
     "execution_count": 52,
     "metadata": {},
     "output_type": "execute_result"
    },
    {
     "data": {
      "image/png": "[encoded data removed]",
      "text/plain": [
       "<Figure size 432x288 with 1 Axes>"
      ]
     },
     "metadata": {
      "needs_background": "light"
     },
     "output_type": "display_data"
    }
   ],
   "source": [
    "sns.boxplot( data=wine.loc[ : , : ] , x=\"type\" , y=\"fixed acidity\" )"
   ]
  },
  {
   "cell_type": "code",
   "execution_count": 53,
   "id": "2e95ced6-d7d2-490c-82f4-4d11fc3a4bcf",
   "metadata": {},
   "outputs": [
    {
     "data": {
      "text/plain": [
       "<AxesSubplot:xlabel='type', ylabel='new fixed acidity'>"
      ]
     },
     "execution_count": 53,
     "metadata": {},
     "output_type": "execute_result"
    },
    {
     "data": {
      "image/png": "[encoded data removed]",
      "text/plain": [
       "<Figure size 432x288 with 1 Axes>"
      ]
     },
     "metadata": {
      "needs_background": "light"
     },
     "output_type": "display_data"
    }
   ],
   "source": [
    "sns.boxplot( data=wine.loc[ : , : ] , x=\"type\" , y=\"new fixed acidity\" )"
   ]
  },
  {
   "cell_type": "markdown",
   "id": "ca152820-faa3-4fbc-8211-bb47c269d058",
   "metadata": {},
   "source": [
    "### Limpieza variable \"volatile acidity\" "
   ]
  },
  {
   "cell_type": "code",
   "execution_count": 54,
   "id": "7c4e3a91-43d8-4115-8469-ff323cd4cd37",
   "metadata": {},
   "outputs": [],
   "source": [
    "types = wine.loc[ : , ['volatile acidity'] ]\n",
    "\n",
    "wineq1 = wine.loc[ : , [\"type\",\"volatile acidity\"] ].groupby( [\"type\"] , as_index = False ).quantile(0.25)\n",
    "wineq1.columns = [\"type\",\"volatile_acidity_q1\"]\n",
    "\n",
    "wineq2 = wine.loc[ : , [\"type\",\"volatile acidity\"] ].groupby( [\"type\"] , as_index = False ).quantile(0.5)\n",
    "wineq2.columns = [\"type\",\"volatile_acidity_q2\"]\n",
    "\n",
    "wineq3 = wine.loc[ : , [\"type\",\"volatile acidity\"] ].groupby( [\"type\"] , as_index = False ).quantile(0.75)\n",
    "wineq3.columns = [\"type\",\"volatile_acidity_q3\"]\n",
    "\n",
    "wine_iqr = wineq1.merge( wineq2 , on=[\"type\"] , how=\"inner\" ).merge( wineq3 , on=[\"type\"] , how=\"inner\" )\n",
    "\n",
    "wine_iqr[\"iqr\"] = wine_iqr.apply( lambda r: r[\"volatile_acidity_q3\"] - r[\"volatile_acidity_q1\"] , axis = 1)\n",
    "\n",
    "wine_iqr[\"upper\"] = wine_iqr.apply( lambda r: ( r[\"volatile_acidity_q3\"] + 1.5*r[\"iqr\"] ) , axis = 1)\n",
    "wine_iqr[\"lower\"] = wine_iqr.apply( lambda r: ( r[\"volatile_acidity_q1\"] - 1.5*r[\"iqr\"] ) , axis = 1)\n",
    "\n",
    "wine = wine.merge( wine_iqr , on=[\"type\"] , how=\"left\" ).copy()\n",
    "\n",
    "def getRealVolatile_acidity(r):\n",
    "    if ( r[\"volatile acidity\"] <= r[\"lower\"] ) | ( r[\"volatile acidity\"] >= r[\"upper\"] ):\n",
    "        return r[\"volatile_acidity_q2\"]\n",
    "    else:\n",
    "        return r[\"volatile acidity\"]\n",
    "    \n",
    "wine[\"new volatile acidity\"] = wine.apply( lambda r: getRealVolatile_acidity(r) , axis = 1 )\n",
    "\n",
    "wine = wine.drop(columns = ['volatile_acidity_q1', 'volatile_acidity_q2', 'volatile_acidity_q3', 'iqr', 'upper', 'lower'])"
   ]
  },
  {
   "cell_type": "code",
   "execution_count": 55,
   "id": "7c1dc107-8552-4237-b04b-3fc62872dff7",
   "metadata": {},
   "outputs": [
    {
     "data": {
      "text/plain": [
       "<AxesSubplot:xlabel='type', ylabel='volatile acidity'>"
      ]
     },
     "execution_count": 55,
     "metadata": {},
     "output_type": "execute_result"
    },
    {
     "data": {
      "image/png": "[encoded data removed]",
      "text/plain": [
       "<Figure size 432x288 with 1 Axes>"
      ]
     },
     "metadata": {
      "needs_background": "light"
     },
     "output_type": "display_data"
    }
   ],
   "source": [
    "sns.boxplot( data=wine.loc[ : , : ] , x=\"type\" , y=\"volatile acidity\" )"
   ]
  },
  {
   "cell_type": "code",
   "execution_count": 56,
   "id": "711066ca-192b-489a-a76d-7e5f5575d6fb",
   "metadata": {},
   "outputs": [
    {
     "data": {
      "text/plain": [
       "<AxesSubplot:xlabel='type', ylabel='new volatile acidity'>"
      ]
     },
     "execution_count": 56,
     "metadata": {},
     "output_type": "execute_result"
    },
    {
     "data": {
      "image/png": "[encoded data removed]",
      "text/plain": [
       "<Figure size 432x288 with 1 Axes>"
      ]
     },
     "metadata": {
      "needs_background": "light"
     },
     "output_type": "display_data"
    }
   ],
   "source": [
    "sns.boxplot( data=wine.loc[ : , : ] , x=\"type\" , y=\"new volatile acidity\" )"
   ]
  },
  {
   "cell_type": "markdown",
   "id": "8b48c7c0-1a66-4485-9b2e-e22ef79f2f23",
   "metadata": {},
   "source": [
    "### Limpieza variable \"citric acid\" \n",
    "#### Para esta parte se utilziara solo el type de \"White\" ya que para \"red\" no hay valores atipicos"
   ]
  },
  {
   "cell_type": "code",
   "execution_count": 57,
   "id": "d9579399-9fe6-41c6-97aa-3032a038b1c8",
   "metadata": {},
   "outputs": [
    {
     "data": {
      "text/plain": [
       "<AxesSubplot:xlabel='type', ylabel='citric acid'>"
      ]
     },
     "execution_count": 57,
     "metadata": {},
     "output_type": "execute_result"
    },
    {
     "data": {
      "image/png": "[encoded data removed]",
      "text/plain": [
       "<Figure size 432x288 with 1 Axes>"
      ]
     },
     "metadata": {
      "needs_background": "light"
     },
     "output_type": "display_data"
    }
   ],
   "source": [
    "sns.boxplot( data=wine  , x=\"type\" , y=\"citric acid\" )"
   ]
  },
  {
   "cell_type": "code",
   "execution_count": 58,
   "id": "50b72a07-53c8-48cd-a4f1-4f4c8cbbe77d",
   "metadata": {},
   "outputs": [],
   "source": [
    "types = wine.loc[ wine['type'] == 'white' , ['citric acid'] ]\n",
    "\n",
    "wineq1 = wine.loc[ : , [\"type\",\"citric acid\"] ].groupby( [\"type\"] , as_index = False ).quantile(0.25)\n",
    "wineq1.columns = [\"type\",\"citric_acid_q1\"]\n",
    "\n",
    "wineq2 = wine.loc[ : , [\"type\",\"citric acid\"] ].groupby( [\"type\"] , as_index = False ).quantile(0.5)\n",
    "wineq2.columns = [\"type\",\"citric_acid_q2\"]\n",
    "\n",
    "wineq3 = wine.loc[ : , [\"type\",\"citric acid\"] ].groupby( [\"type\"] , as_index = False ).quantile(0.75)\n",
    "wineq3.columns = [\"type\",\"citric_acid_q3\"]\n",
    "\n",
    "wine_iqr = wineq1.merge( wineq2 , on=[\"type\"] , how=\"inner\" ).merge( wineq3 , on=[\"type\"] , how=\"inner\" )\n",
    "\n",
    "wine_iqr[\"iqr\"] = wine_iqr.apply( lambda r: r[\"citric_acid_q3\"] - r[\"citric_acid_q1\"] , axis = 1)\n",
    "\n",
    "wine_iqr[\"upper\"] = wine_iqr.apply( lambda r: ( r[\"citric_acid_q3\"] + 1.5*r[\"iqr\"] ) , axis = 1)\n",
    "wine_iqr[\"lower\"] = wine_iqr.apply( lambda r: ( r[\"citric_acid_q1\"] - 1.5*r[\"iqr\"] ) , axis = 1)\n",
    "\n",
    "wine = wine.merge( wine_iqr , on=[\"type\"] , how=\"left\" ).copy()\n",
    "\n",
    "def getRealCitric_acid(r):\n",
    "    if ( r[\"citric acid\"] <= r[\"lower\"] ) | ( r[\"citric acid\"] >= r[\"upper\"] ):\n",
    "        return r[\"citric_acid_q2\"]\n",
    "    else:\n",
    "        return r[\"citric acid\"]\n",
    "    \n",
    "wine[\"new citric acid\"] = wine.apply( lambda r: getRealCitric_acid(r) , axis = 1 )\n",
    "\n",
    "wine = wine.drop(columns = ['citric_acid_q1', 'citric_acid_q2', 'citric_acid_q3', 'iqr', 'upper', 'lower'])"
   ]
  },
  {
   "cell_type": "code",
   "execution_count": 59,
   "id": "cacadd36-4679-411d-a452-e9aeb739cd62",
   "metadata": {},
   "outputs": [
    {
     "data": {
      "text/plain": [
       "<AxesSubplot:xlabel='type', ylabel='citric acid'>"
      ]
     },
     "execution_count": 59,
     "metadata": {},
     "output_type": "execute_result"
    },
    {
     "data": {
      "image/png": "[encoded data removed]",
      "text/plain": [
       "<Figure size 432x288 with 1 Axes>"
      ]
     },
     "metadata": {
      "needs_background": "light"
     },
     "output_type": "display_data"
    }
   ],
   "source": [
    "sns.boxplot( data=wine.loc[ : , : ] , x=\"type\" , y=\"citric acid\" )"
   ]
  },
  {
   "cell_type": "code",
   "execution_count": 60,
   "id": "94f98da2-270c-4307-b160-0ec2199113c1",
   "metadata": {},
   "outputs": [
    {
     "data": {
      "text/plain": [
       "<AxesSubplot:xlabel='type', ylabel='new citric acid'>"
      ]
     },
     "execution_count": 60,
     "metadata": {},
     "output_type": "execute_result"
    },
    {
     "data": {
      "image/png": "[encoded data removed]",
      "text/plain": [
       "<Figure size 432x288 with 1 Axes>"
      ]
     },
     "metadata": {
      "needs_background": "light"
     },
     "output_type": "display_data"
    }
   ],
   "source": [
    "sns.boxplot( data=wine.loc[ : , : ] , x=\"type\" , y=\"new citric acid\" )"
   ]
  },
  {
   "cell_type": "markdown",
   "id": "625e7f8b-99b8-4ed7-b153-9c8d0f4e8045",
   "metadata": {},
   "source": [
    "### Limpieza variable \"residual sugar\"\n",
    "#### Para esta parte se utilziara solo el type de \"red\" ya que para \"white\" no presenta muchos valores atipicos"
   ]
  },
  {
   "cell_type": "code",
   "execution_count": 61,
   "id": "d62139bd-2c6a-466c-b723-4a22609679ba",
   "metadata": {},
   "outputs": [
    {
     "data": {
      "text/plain": [
       "<AxesSubplot:xlabel='type', ylabel='residual sugar'>"
      ]
     },
     "execution_count": 61,
     "metadata": {},
     "output_type": "execute_result"
    },
    {
     "data": {
      "image/png": "[encoded data removed]",
      "text/plain": [
       "<Figure size 432x288 with 1 Axes>"
      ]
     },
     "metadata": {
      "needs_background": "light"
     },
     "output_type": "display_data"
    }
   ],
   "source": [
    "sns.boxplot( data=wine  , x=\"type\" , y=\"residual sugar\" )"
   ]
  },
  {
   "cell_type": "code",
   "execution_count": 62,
   "id": "7faff59d-1d27-4a7a-adfe-551b267601c9",
   "metadata": {},
   "outputs": [],
   "source": [
    "types = wine.loc[ wine['type'] == 'red' , ['residual sugar'] ]\n",
    "\n",
    "wineq1 = wine.loc[ : , [\"type\",\"residual sugar\"] ].groupby( [\"type\"] , as_index = False ).quantile(0.25)\n",
    "wineq1.columns = [\"type\",\"residual_sugar_q1\"]\n",
    "\n",
    "wineq2 = wine.loc[ : , [\"type\",\"residual sugar\"] ].groupby( [\"type\"] , as_index = False ).quantile(0.5)\n",
    "wineq2.columns = [\"type\",\"residual_sugar_q2\"]\n",
    "\n",
    "wineq3 = wine.loc[ : , [\"type\",\"residual sugar\"] ].groupby( [\"type\"] , as_index = False ).quantile(0.75)\n",
    "wineq3.columns = [\"type\",\"residual_sugar_q3\"]\n",
    "\n",
    "wine_iqr = wineq1.merge( wineq2 , on=[\"type\"] , how=\"inner\" ).merge( wineq3 , on=[\"type\"] , how=\"inner\" )\n",
    "\n",
    "wine_iqr[\"iqr\"] = wine_iqr.apply( lambda r: r[\"residual_sugar_q3\"] - r[\"residual_sugar_q1\"] , axis = 1)\n",
    "\n",
    "wine_iqr[\"upper\"] = wine_iqr.apply( lambda r: ( r[\"residual_sugar_q3\"] + 1.5*r[\"iqr\"] ) , axis = 1)\n",
    "wine_iqr[\"lower\"] = wine_iqr.apply( lambda r: ( r[\"residual_sugar_q1\"] - 1.5*r[\"iqr\"] ) , axis = 1)\n",
    "\n",
    "wine = wine.merge( wine_iqr , on=[\"type\"] , how=\"left\" ).copy()\n",
    "\n",
    "def getRealResidual_sugar(r):\n",
    "    if ( r[\"residual sugar\"] <= r[\"lower\"] ) | ( r[\"residual sugar\"] >= r[\"upper\"] ):\n",
    "        return r[\"residual_sugar_q2\"]\n",
    "    else:\n",
    "        return r[\"residual sugar\"]\n",
    "    \n",
    "wine[\"new residual sugar\"] = wine.apply( lambda r: getRealResidual_sugar(r) , axis = 1 )\n",
    "\n",
    "wine = wine.drop(columns = ['residual_sugar_q1', 'residual_sugar_q2', 'residual_sugar_q3', 'iqr', 'upper', 'lower'])"
   ]
  },
  {
   "cell_type": "code",
   "execution_count": 63,
   "id": "1b70ae4d-9018-4d15-aca3-bbec2b63885e",
   "metadata": {},
   "outputs": [
    {
     "data": {
      "text/plain": [
       "<AxesSubplot:xlabel='type', ylabel='residual sugar'>"
      ]
     },
     "execution_count": 63,
     "metadata": {},
     "output_type": "execute_result"
    },
    {
     "data": {
      "image/png": "[encoded data removed]",
      "text/plain": [
       "<Figure size 432x288 with 1 Axes>"
      ]
     },
     "metadata": {
      "needs_background": "light"
     },
     "output_type": "display_data"
    }
   ],
   "source": [
    "sns.boxplot( data=wine.loc[ : , : ] , x=\"type\" , y=\"residual sugar\" )"
   ]
  },
  {
   "cell_type": "code",
   "execution_count": 64,
   "id": "74c1e69e-f4e4-4d0d-9d16-39b499d9f2b1",
   "metadata": {},
   "outputs": [
    {
     "data": {
      "text/plain": [
       "<AxesSubplot:xlabel='type', ylabel='new residual sugar'>"
      ]
     },
     "execution_count": 64,
     "metadata": {},
     "output_type": "execute_result"
    },
    {
     "data": {
      "image/png": "[encoded data removed]",
      "text/plain": [
       "<Figure size 432x288 with 1 Axes>"
      ]
     },
     "metadata": {
      "needs_background": "light"
     },
     "output_type": "display_data"
    }
   ],
   "source": [
    "sns.boxplot( data=wine.loc[ : , : ] , x=\"type\" , y=\"new residual sugar\" )"
   ]
  },
  {
   "cell_type": "markdown",
   "id": "081c904a-4cdd-4df9-bb4b-feda3f5ee03f",
   "metadata": {},
   "source": [
    "### Limpieza variable \"chlorides\""
   ]
  },
  {
   "cell_type": "code",
   "execution_count": 65,
   "id": "eb1c1b3c-e97f-4e61-bf28-b18c87e97f8e",
   "metadata": {},
   "outputs": [],
   "source": [
    "types = wine.loc[ : , ['chlorides'] ]\n",
    "\n",
    "wineq1 = wine.loc[ : , [\"type\",\"chlorides\"] ].groupby( [\"type\"] , as_index = False ).quantile(0.25)\n",
    "wineq1.columns = [\"type\",\"chlorides_q1\"]\n",
    "\n",
    "wineq2 = wine.loc[ : , [\"type\",\"chlorides\"] ].groupby( [\"type\"] , as_index = False ).quantile(0.5)\n",
    "wineq2.columns = [\"type\",\"chlorides_q2\"]\n",
    "\n",
    "wineq3 = wine.loc[ : , [\"type\",\"chlorides\"] ].groupby( [\"type\"] , as_index = False ).quantile(0.75)\n",
    "wineq3.columns = [\"type\",\"chlorides_q3\"]\n",
    "\n",
    "wine_iqr = wineq1.merge( wineq2 , on=[\"type\"] , how=\"inner\" ).merge( wineq3 , on=[\"type\"] , how=\"inner\" )\n",
    "\n",
    "wine_iqr[\"iqr\"] = wine_iqr.apply( lambda r: r[\"chlorides_q3\"] - r[\"chlorides_q1\"] , axis = 1)\n",
    "\n",
    "wine_iqr[\"upper\"] = wine_iqr.apply( lambda r: ( r[\"chlorides_q3\"] + 1.5*r[\"iqr\"] ) , axis = 1)\n",
    "wine_iqr[\"lower\"] = wine_iqr.apply( lambda r: ( r[\"chlorides_q1\"] - 1.5*r[\"iqr\"] ) , axis = 1)\n",
    "\n",
    "wine = wine.merge( wine_iqr , on=[\"type\"] , how=\"left\" ).copy()\n",
    "\n",
    "def getRealChlorides(r):\n",
    "    if ( r[\"chlorides\"] <= r[\"lower\"] ) | ( r[\"chlorides\"] >= r[\"upper\"] ):\n",
    "        return r[\"chlorides_q2\"]\n",
    "    else:\n",
    "        return r[\"chlorides\"]\n",
    "    \n",
    "wine[\"new chlorides\"] = wine.apply( lambda r: getRealChlorides(r) , axis = 1 )\n",
    "\n",
    "wine = wine.drop(columns = ['chlorides_q1', 'chlorides_q2', 'chlorides_q3', 'iqr', 'upper', 'lower'])"
   ]
  },
  {
   "cell_type": "code",
   "execution_count": 66,
   "id": "8f64b4a5-79a9-46ee-9c2b-1b569ddf95fe",
   "metadata": {},
   "outputs": [
    {
     "data": {
      "text/plain": [
       "<AxesSubplot:xlabel='type', ylabel='chlorides'>"
      ]
     },
     "execution_count": 66,
     "metadata": {},
     "output_type": "execute_result"
    },
    {
     "data": {
      "image/png": "[encoded data removed]",
      "text/plain": [
       "<Figure size 432x288 with 1 Axes>"
      ]
     },
     "metadata": {
      "needs_background": "light"
     },
     "output_type": "display_data"
    }
   ],
   "source": [
    "sns.boxplot( data=wine.loc[ : , : ] , x=\"type\" , y=\"chlorides\" )"
   ]
  },
  {
   "cell_type": "code",
   "execution_count": 67,
   "id": "0eff4023-ecf7-42dc-9766-e1d1f1f1ae71",
   "metadata": {},
   "outputs": [
    {
     "data": {
      "text/plain": [
       "<AxesSubplot:xlabel='type', ylabel='new chlorides'>"
      ]
     },
     "execution_count": 67,
     "metadata": {},
     "output_type": "execute_result"
    },
    {
     "data": {
      "image/png": "[encoded data removed]",
      "text/plain": [
       "<Figure size 432x288 with 1 Axes>"
      ]
     },
     "metadata": {
      "needs_background": "light"
     },
     "output_type": "display_data"
    }
   ],
   "source": [
    "sns.boxplot( data=wine.loc[ : , : ] , x=\"type\" , y=\"new chlorides\" )"
   ]
  },
  {
   "cell_type": "markdown",
   "id": "072bc907-f0d2-423b-b71a-b9dc6025e27c",
   "metadata": {},
   "source": [
    "### Limpieza variable \"total sulfur dioxide\""
   ]
  },
  {
   "cell_type": "code",
   "execution_count": 68,
   "id": "1cbbaf32-9d59-445c-b56c-cc6c86209b64",
   "metadata": {},
   "outputs": [],
   "source": [
    "types = wine.loc[ : , ['total sulfur dioxide'] ]\n",
    "\n",
    "wineq1 = wine.loc[ : , [\"type\",\"total sulfur dioxide\"] ].groupby( [\"type\"] , as_index = False ).quantile(0.25)\n",
    "wineq1.columns = [\"type\",\"total_sulfur_dioxide_q1\"]\n",
    "\n",
    "wineq2 = wine.loc[ : , [\"type\",\"total sulfur dioxide\"] ].groupby( [\"type\"] , as_index = False ).quantile(0.5)\n",
    "wineq2.columns = [\"type\",\"total_sulfur_dioxide_q2\"]\n",
    "\n",
    "wineq3 = wine.loc[ : , [\"type\",\"total sulfur dioxide\"] ].groupby( [\"type\"] , as_index = False ).quantile(0.75)\n",
    "wineq3.columns = [\"type\",\"total_sulfur_dioxide_q3\"]\n",
    "\n",
    "wine_iqr = wineq1.merge( wineq2 , on=[\"type\"] , how=\"inner\" ).merge( wineq3 , on=[\"type\"] , how=\"inner\" )\n",
    "\n",
    "wine_iqr[\"iqr\"] = wine_iqr.apply( lambda r: r[\"total_sulfur_dioxide_q3\"] - r[\"total_sulfur_dioxide_q1\"] , axis = 1)\n",
    "\n",
    "wine_iqr[\"upper\"] = wine_iqr.apply( lambda r: ( r[\"total_sulfur_dioxide_q3\"] + 1.5*r[\"iqr\"] ) , axis = 1)\n",
    "wine_iqr[\"lower\"] = wine_iqr.apply( lambda r: ( r[\"total_sulfur_dioxide_q1\"] - 1.5*r[\"iqr\"] ) , axis = 1)\n",
    "\n",
    "wine = wine.merge( wine_iqr , on=[\"type\"] , how=\"left\" ).copy()\n",
    "\n",
    "def getRealTotal_sulfur_dioxide(r):\n",
    "    if ( r[\"total sulfur dioxide\"] <= r[\"lower\"] ) | ( r[\"total sulfur dioxide\"] >= r[\"upper\"] ):\n",
    "        return r[\"total_sulfur_dioxide_q2\"]\n",
    "    else:\n",
    "        return r[\"total sulfur dioxide\"]\n",
    "    \n",
    "wine[\"new total sulfur dioxide\"] = wine.apply( lambda r: getRealTotal_sulfur_dioxide(r) , axis = 1 )\n",
    "\n",
    "wine = wine.drop(columns = ['total_sulfur_dioxide_q1', 'total_sulfur_dioxide_q2', 'total_sulfur_dioxide_q3', 'iqr', 'upper', 'lower'])"
   ]
  },
  {
   "cell_type": "code",
   "execution_count": 69,
   "id": "a7699ec2-4fb5-4242-9e4a-e7273071f447",
   "metadata": {},
   "outputs": [
    {
     "data": {
      "text/plain": [
       "<AxesSubplot:xlabel='type', ylabel='total sulfur dioxide'>"
      ]
     },
     "execution_count": 69,
     "metadata": {},
     "output_type": "execute_result"
    },
    {
     "data": {
      "image/png": "[encoded data removed]",
      "text/plain": [
       "<Figure size 432x288 with 1 Axes>"
      ]
     },
     "metadata": {
      "needs_background": "light"
     },
     "output_type": "display_data"
    }
   ],
   "source": [
    "sns.boxplot( data=wine.loc[ : , : ] , x=\"type\" , y=\"total sulfur dioxide\" )"
   ]
  },
  {
   "cell_type": "code",
   "execution_count": 70,
   "id": "3a62892e-f82a-41e1-ab5f-a2dc4e5607de",
   "metadata": {},
   "outputs": [
    {
     "data": {
      "text/plain": [
       "<AxesSubplot:xlabel='type', ylabel='new total sulfur dioxide'>"
      ]
     },
     "execution_count": 70,
     "metadata": {},
     "output_type": "execute_result"
    },
    {
     "data": {
      "image/png": "[encoded data removed]",
      "text/plain": [
       "<Figure size 432x288 with 1 Axes>"
      ]
     },
     "metadata": {
      "needs_background": "light"
     },
     "output_type": "display_data"
    }
   ],
   "source": [
    "sns.boxplot( data=wine.loc[ : , : ] , x=\"type\" , y=\"new total sulfur dioxide\" )"
   ]
  },
  {
   "cell_type": "markdown",
   "id": "9476717f-e350-4c10-ac8b-c6de71df1607",
   "metadata": {},
   "source": [
    "### Limpieza variable \"pH\""
   ]
  },
  {
   "cell_type": "code",
   "execution_count": 71,
   "id": "fbf0cc04-95fd-4582-98d1-41a11b26a18b",
   "metadata": {},
   "outputs": [],
   "source": [
    "types = wine.loc[ : , ['pH'] ]\n",
    "\n",
    "wineq1 = wine.loc[ : , [\"type\",\"pH\"] ].groupby( [\"type\"] , as_index = False ).quantile(0.25)\n",
    "wineq1.columns = [\"type\",\"pH_q1\"]\n",
    "\n",
    "wineq2 = wine.loc[ : , [\"type\",\"pH\"] ].groupby( [\"type\"] , as_index = False ).quantile(0.5)\n",
    "wineq2.columns = [\"type\",\"pH_q2\"]\n",
    "\n",
    "wineq3 = wine.loc[ : , [\"type\",\"pH\"] ].groupby( [\"type\"] , as_index = False ).quantile(0.75)\n",
    "wineq3.columns = [\"type\",\"pH_q3\"]\n",
    "\n",
    "wine_iqr = wineq1.merge( wineq2 , on=[\"type\"] , how=\"inner\" ).merge( wineq3 , on=[\"type\"] , how=\"inner\" )\n",
    "\n",
    "wine_iqr[\"iqr\"] = wine_iqr.apply( lambda r: r[\"pH_q3\"] - r[\"pH_q1\"] , axis = 1)\n",
    "\n",
    "wine_iqr[\"upper\"] = wine_iqr.apply( lambda r: ( r[\"pH_q3\"] + 1.5*r[\"iqr\"] ) , axis = 1)\n",
    "wine_iqr[\"lower\"] = wine_iqr.apply( lambda r: ( r[\"pH_q1\"] - 1.5*r[\"iqr\"] ) , axis = 1)\n",
    "\n",
    "wine = wine.merge( wine_iqr , on=[\"type\"] , how=\"left\" ).copy()\n",
    "\n",
    "def getRealpH(r):\n",
    "    if ( r[\"pH\"] <= r[\"lower\"] ) | ( r[\"pH\"] >= r[\"upper\"] ):\n",
    "        return r[\"pH_q2\"]\n",
    "    else:\n",
    "        return r[\"pH\"]\n",
    "    \n",
    "wine[\"new pH\"] = wine.apply( lambda r: getRealpH(r) , axis = 1 )\n",
    "\n",
    "wine = wine.drop(columns = ['pH_q1', 'pH_q2', 'pH_q3', 'iqr', 'upper', 'lower'])"
   ]
  },
  {
   "cell_type": "code",
   "execution_count": 72,
   "id": "c84ee864-13c5-4784-af1b-8ad60f73eeea",
   "metadata": {},
   "outputs": [
    {
     "data": {
      "text/plain": [
       "<AxesSubplot:xlabel='type', ylabel='pH'>"
      ]
     },
     "execution_count": 72,
     "metadata": {},
     "output_type": "execute_result"
    },
    {
     "data": {
      "image/png": "[encoded data removed]",
      "text/plain": [
       "<Figure size 432x288 with 1 Axes>"
      ]
     },
     "metadata": {
      "needs_background": "light"
     },
     "output_type": "display_data"
    }
   ],
   "source": [
    "sns.boxplot( data=wine.loc[ : , : ] , x=\"type\" , y=\"pH\" )"
   ]
  },
  {
   "cell_type": "code",
   "execution_count": 73,
   "id": "235a5d70-03e8-454c-9a3c-ab3620ad9283",
   "metadata": {},
   "outputs": [
    {
     "data": {
      "text/plain": [
       "<AxesSubplot:xlabel='type', ylabel='new pH'>"
      ]
     },
     "execution_count": 73,
     "metadata": {},
     "output_type": "execute_result"
    },
    {
     "data": {
      "image/png": "[encoded data removed]",
      "text/plain": [
       "<Figure size 432x288 with 1 Axes>"
      ]
     },
     "metadata": {
      "needs_background": "light"
     },
     "output_type": "display_data"
    }
   ],
   "source": [
    "sns.boxplot( data=wine.loc[ : , : ] , x=\"type\" , y=\"new pH\" )"
   ]
  },
  {
   "cell_type": "markdown",
   "id": "4b87651e-1c75-44c9-9ca8-05935e2d2be9",
   "metadata": {},
   "source": [
    "### Limpieza variable \"sulphates\""
   ]
  },
  {
   "cell_type": "code",
   "execution_count": 74,
   "id": "c7237811-0d40-4cfb-ab9d-07fe4c2e1bdb",
   "metadata": {},
   "outputs": [],
   "source": [
    "types = wine.loc[ : , ['sulphates'] ]\n",
    "\n",
    "wineq1 = wine.loc[ : , [\"type\",\"sulphates\"] ].groupby( [\"type\"] , as_index = False ).quantile(0.25)\n",
    "wineq1.columns = [\"type\",\"sulphates_q1\"]\n",
    "\n",
    "wineq2 = wine.loc[ : , [\"type\",\"sulphates\"] ].groupby( [\"type\"] , as_index = False ).quantile(0.5)\n",
    "wineq2.columns = [\"type\",\"sulphates_q2\"]\n",
    "\n",
    "wineq3 = wine.loc[ : , [\"type\",\"sulphates\"] ].groupby( [\"type\"] , as_index = False ).quantile(0.75)\n",
    "wineq3.columns = [\"type\",\"sulphates_q3\"]\n",
    "\n",
    "wine_iqr = wineq1.merge( wineq2 , on=[\"type\"] , how=\"inner\" ).merge( wineq3 , on=[\"type\"] , how=\"inner\" )\n",
    "\n",
    "wine_iqr[\"iqr\"] = wine_iqr.apply( lambda r: r[\"sulphates_q3\"] - r[\"sulphates_q1\"] , axis = 1)\n",
    "\n",
    "wine_iqr[\"upper\"] = wine_iqr.apply( lambda r: ( r[\"sulphates_q3\"] + 1.5*r[\"iqr\"] ) , axis = 1)\n",
    "wine_iqr[\"lower\"] = wine_iqr.apply( lambda r: ( r[\"sulphates_q1\"] - 1.5*r[\"iqr\"] ) , axis = 1)\n",
    "\n",
    "wine = wine.merge( wine_iqr , on=[\"type\"] , how=\"left\" ).copy()\n",
    "\n",
    "def getRealSulphates(r):\n",
    "    if ( r[\"sulphates\"] <= r[\"lower\"] ) | ( r[\"sulphates\"] >= r[\"upper\"] ):\n",
    "        return r[\"sulphates_q2\"]\n",
    "    else:\n",
    "        return r[\"sulphates\"]\n",
    "    \n",
    "wine[\"new sulphates\"] = wine.apply( lambda r: getRealSulphates(r) , axis = 1 )\n",
    "\n",
    "wine = wine.drop(columns = ['sulphates_q1', 'sulphates_q2', 'sulphates_q3', 'iqr', 'upper', 'lower'])"
   ]
  },
  {
   "cell_type": "code",
   "execution_count": 75,
   "id": "1e95bb17-f626-422f-9961-6b96e1904c53",
   "metadata": {},
   "outputs": [
    {
     "data": {
      "text/plain": [
       "<AxesSubplot:xlabel='type', ylabel='sulphates'>"
      ]
     },
     "execution_count": 75,
     "metadata": {},
     "output_type": "execute_result"
    },
    {
     "data": {
      "image/png": "[encoded data removed]",
      "text/plain": [
       "<Figure size 432x288 with 1 Axes>"
      ]
     },
     "metadata": {
      "needs_background": "light"
     },
     "output_type": "display_data"
    }
   ],
   "source": [
    "sns.boxplot( data=wine.loc[ : , : ] , x=\"type\" , y=\"sulphates\" )"
   ]
  },
  {
   "cell_type": "code",
   "execution_count": 76,
   "id": "ca6a7854-c320-4ed0-af32-5ed79f297ef6",
   "metadata": {},
   "outputs": [
    {
     "data": {
      "text/plain": [
       "<AxesSubplot:xlabel='type', ylabel='new sulphates'>"
      ]
     },
     "execution_count": 76,
     "metadata": {},
     "output_type": "execute_result"
    },
    {
     "data": {
      "image/png": "[encoded data removed]",
      "text/plain": [
       "<Figure size 432x288 with 1 Axes>"
      ]
     },
     "metadata": {
      "needs_background": "light"
     },
     "output_type": "display_data"
    }
   ],
   "source": [
    "sns.boxplot( data=wine.loc[ : , : ] , x=\"type\" , y=\"new sulphates\" )"
   ]
  },
  {
   "cell_type": "code",
   "execution_count": 77,
   "id": "f58cc71a-143b-4ccb-8e84-33cf68164ab0",
   "metadata": {},
   "outputs": [
    {
     "data": {
      "text/html": [
       "<div>\n",
       "<style scoped>\n",
       "    .dataframe tbody tr th:only-of-type {\n",
       "        vertical-align: middle;\n",
       "    }\n",
       "\n",
       "    .dataframe tbody tr th {\n",
       "        vertical-align: top;\n",
       "    }\n",
       "\n",
       "    .dataframe thead th {\n",
       "        text-align: right;\n",
       "    }\n",
       "</style>\n",
       "<table border=\"1\" class=\"dataframe\">\n",
       "  <thead>\n",
       "    <tr style=\"text-align: right;\">\n",
       "      <th></th>\n",
       "      <th>type</th>\n",
       "      <th>fixed acidity</th>\n",
       "      <th>volatile acidity</th>\n",
       "      <th>citric acid</th>\n",
       "      <th>residual sugar</th>\n",
       "      <th>chlorides</th>\n",
       "      <th>free sulfur dioxide</th>\n",
       "      <th>total sulfur dioxide</th>\n",
       "      <th>density</th>\n",
       "      <th>pH</th>\n",
       "      <th>...</th>\n",
       "      <th>quality</th>\n",
       "      <th>new free sulfur dioxide</th>\n",
       "      <th>new fixed acidity</th>\n",
       "      <th>new volatile acidity</th>\n",
       "      <th>new citric acid</th>\n",
       "      <th>new residual sugar</th>\n",
       "      <th>new chlorides</th>\n",
       "      <th>new total sulfur dioxide</th>\n",
       "      <th>new pH</th>\n",
       "      <th>new sulphates</th>\n",
       "    </tr>\n",
       "  </thead>\n",
       "  <tbody>\n",
       "    <tr>\n",
       "      <th>0</th>\n",
       "      <td>white</td>\n",
       "      <td>7.0</td>\n",
       "      <td>0.270</td>\n",
       "      <td>0.36</td>\n",
       "      <td>20.7</td>\n",
       "      <td>0.045</td>\n",
       "      <td>45.0</td>\n",
       "      <td>170.0</td>\n",
       "      <td>1.00100</td>\n",
       "      <td>3.00</td>\n",
       "      <td>...</td>\n",
       "      <td>6.0</td>\n",
       "      <td>45.0</td>\n",
       "      <td>7.0</td>\n",
       "      <td>0.270</td>\n",
       "      <td>0.36</td>\n",
       "      <td>20.7</td>\n",
       "      <td>0.045</td>\n",
       "      <td>170.0</td>\n",
       "      <td>3.00</td>\n",
       "      <td>0.450000</td>\n",
       "    </tr>\n",
       "    <tr>\n",
       "      <th>1</th>\n",
       "      <td>white</td>\n",
       "      <td>6.3</td>\n",
       "      <td>0.300</td>\n",
       "      <td>0.34</td>\n",
       "      <td>1.6</td>\n",
       "      <td>0.049</td>\n",
       "      <td>14.0</td>\n",
       "      <td>132.0</td>\n",
       "      <td>0.99400</td>\n",
       "      <td>3.30</td>\n",
       "      <td>...</td>\n",
       "      <td>6.0</td>\n",
       "      <td>14.0</td>\n",
       "      <td>6.3</td>\n",
       "      <td>0.300</td>\n",
       "      <td>0.34</td>\n",
       "      <td>1.6</td>\n",
       "      <td>0.049</td>\n",
       "      <td>132.0</td>\n",
       "      <td>3.30</td>\n",
       "      <td>0.490000</td>\n",
       "    </tr>\n",
       "    <tr>\n",
       "      <th>2</th>\n",
       "      <td>white</td>\n",
       "      <td>8.1</td>\n",
       "      <td>0.280</td>\n",
       "      <td>0.40</td>\n",
       "      <td>6.9</td>\n",
       "      <td>0.050</td>\n",
       "      <td>30.0</td>\n",
       "      <td>97.0</td>\n",
       "      <td>0.99510</td>\n",
       "      <td>3.26</td>\n",
       "      <td>...</td>\n",
       "      <td>6.0</td>\n",
       "      <td>30.0</td>\n",
       "      <td>8.1</td>\n",
       "      <td>0.280</td>\n",
       "      <td>0.40</td>\n",
       "      <td>6.9</td>\n",
       "      <td>0.050</td>\n",
       "      <td>97.0</td>\n",
       "      <td>3.26</td>\n",
       "      <td>0.440000</td>\n",
       "    </tr>\n",
       "    <tr>\n",
       "      <th>3</th>\n",
       "      <td>white</td>\n",
       "      <td>7.2</td>\n",
       "      <td>0.230</td>\n",
       "      <td>0.32</td>\n",
       "      <td>8.5</td>\n",
       "      <td>0.058</td>\n",
       "      <td>47.0</td>\n",
       "      <td>186.0</td>\n",
       "      <td>0.99560</td>\n",
       "      <td>3.19</td>\n",
       "      <td>...</td>\n",
       "      <td>6.0</td>\n",
       "      <td>47.0</td>\n",
       "      <td>7.2</td>\n",
       "      <td>0.230</td>\n",
       "      <td>0.32</td>\n",
       "      <td>8.5</td>\n",
       "      <td>0.058</td>\n",
       "      <td>186.0</td>\n",
       "      <td>3.19</td>\n",
       "      <td>0.400000</td>\n",
       "    </tr>\n",
       "    <tr>\n",
       "      <th>4</th>\n",
       "      <td>white</td>\n",
       "      <td>7.2</td>\n",
       "      <td>0.230</td>\n",
       "      <td>0.32</td>\n",
       "      <td>8.5</td>\n",
       "      <td>0.058</td>\n",
       "      <td>47.0</td>\n",
       "      <td>186.0</td>\n",
       "      <td>0.99560</td>\n",
       "      <td>3.19</td>\n",
       "      <td>...</td>\n",
       "      <td>6.0</td>\n",
       "      <td>47.0</td>\n",
       "      <td>7.2</td>\n",
       "      <td>0.230</td>\n",
       "      <td>0.32</td>\n",
       "      <td>8.5</td>\n",
       "      <td>0.058</td>\n",
       "      <td>186.0</td>\n",
       "      <td>3.19</td>\n",
       "      <td>0.400000</td>\n",
       "    </tr>\n",
       "    <tr>\n",
       "      <th>...</th>\n",
       "      <td>...</td>\n",
       "      <td>...</td>\n",
       "      <td>...</td>\n",
       "      <td>...</td>\n",
       "      <td>...</td>\n",
       "      <td>...</td>\n",
       "      <td>...</td>\n",
       "      <td>...</td>\n",
       "      <td>...</td>\n",
       "      <td>...</td>\n",
       "      <td>...</td>\n",
       "      <td>...</td>\n",
       "      <td>...</td>\n",
       "      <td>...</td>\n",
       "      <td>...</td>\n",
       "      <td>...</td>\n",
       "      <td>...</td>\n",
       "      <td>...</td>\n",
       "      <td>...</td>\n",
       "      <td>...</td>\n",
       "      <td>...</td>\n",
       "    </tr>\n",
       "    <tr>\n",
       "      <th>6492</th>\n",
       "      <td>red</td>\n",
       "      <td>6.2</td>\n",
       "      <td>0.600</td>\n",
       "      <td>0.08</td>\n",
       "      <td>2.0</td>\n",
       "      <td>0.090</td>\n",
       "      <td>32.0</td>\n",
       "      <td>44.0</td>\n",
       "      <td>0.99490</td>\n",
       "      <td>3.45</td>\n",
       "      <td>...</td>\n",
       "      <td>5.0</td>\n",
       "      <td>32.0</td>\n",
       "      <td>6.2</td>\n",
       "      <td>0.600</td>\n",
       "      <td>0.08</td>\n",
       "      <td>2.0</td>\n",
       "      <td>0.090</td>\n",
       "      <td>44.0</td>\n",
       "      <td>3.45</td>\n",
       "      <td>0.580000</td>\n",
       "    </tr>\n",
       "    <tr>\n",
       "      <th>6493</th>\n",
       "      <td>red</td>\n",
       "      <td>5.9</td>\n",
       "      <td>0.550</td>\n",
       "      <td>0.10</td>\n",
       "      <td>2.2</td>\n",
       "      <td>0.062</td>\n",
       "      <td>39.0</td>\n",
       "      <td>51.0</td>\n",
       "      <td>0.99512</td>\n",
       "      <td>3.52</td>\n",
       "      <td>...</td>\n",
       "      <td>6.0</td>\n",
       "      <td>39.0</td>\n",
       "      <td>5.9</td>\n",
       "      <td>0.550</td>\n",
       "      <td>0.10</td>\n",
       "      <td>2.2</td>\n",
       "      <td>0.062</td>\n",
       "      <td>51.0</td>\n",
       "      <td>3.52</td>\n",
       "      <td>0.531215</td>\n",
       "    </tr>\n",
       "    <tr>\n",
       "      <th>6494</th>\n",
       "      <td>red</td>\n",
       "      <td>6.3</td>\n",
       "      <td>0.510</td>\n",
       "      <td>0.13</td>\n",
       "      <td>2.3</td>\n",
       "      <td>0.076</td>\n",
       "      <td>29.0</td>\n",
       "      <td>40.0</td>\n",
       "      <td>0.99574</td>\n",
       "      <td>3.42</td>\n",
       "      <td>...</td>\n",
       "      <td>6.0</td>\n",
       "      <td>29.0</td>\n",
       "      <td>6.3</td>\n",
       "      <td>0.510</td>\n",
       "      <td>0.13</td>\n",
       "      <td>2.3</td>\n",
       "      <td>0.076</td>\n",
       "      <td>40.0</td>\n",
       "      <td>3.42</td>\n",
       "      <td>0.750000</td>\n",
       "    </tr>\n",
       "    <tr>\n",
       "      <th>6495</th>\n",
       "      <td>red</td>\n",
       "      <td>5.9</td>\n",
       "      <td>0.645</td>\n",
       "      <td>0.12</td>\n",
       "      <td>2.0</td>\n",
       "      <td>0.075</td>\n",
       "      <td>32.0</td>\n",
       "      <td>44.0</td>\n",
       "      <td>0.99547</td>\n",
       "      <td>3.57</td>\n",
       "      <td>...</td>\n",
       "      <td>5.0</td>\n",
       "      <td>32.0</td>\n",
       "      <td>5.9</td>\n",
       "      <td>0.645</td>\n",
       "      <td>0.12</td>\n",
       "      <td>2.0</td>\n",
       "      <td>0.075</td>\n",
       "      <td>44.0</td>\n",
       "      <td>3.57</td>\n",
       "      <td>0.710000</td>\n",
       "    </tr>\n",
       "    <tr>\n",
       "      <th>6496</th>\n",
       "      <td>red</td>\n",
       "      <td>6.0</td>\n",
       "      <td>0.310</td>\n",
       "      <td>0.47</td>\n",
       "      <td>3.6</td>\n",
       "      <td>0.067</td>\n",
       "      <td>18.0</td>\n",
       "      <td>42.0</td>\n",
       "      <td>0.99549</td>\n",
       "      <td>3.39</td>\n",
       "      <td>...</td>\n",
       "      <td>6.0</td>\n",
       "      <td>18.0</td>\n",
       "      <td>6.0</td>\n",
       "      <td>0.310</td>\n",
       "      <td>0.47</td>\n",
       "      <td>3.6</td>\n",
       "      <td>0.067</td>\n",
       "      <td>42.0</td>\n",
       "      <td>3.39</td>\n",
       "      <td>0.660000</td>\n",
       "    </tr>\n",
       "  </tbody>\n",
       "</table>\n",
       "<p>6497 rows × 22 columns</p>\n",
       "</div>"
      ],
      "text/plain": [
       "       type  fixed acidity  volatile acidity  citric acid  residual sugar  \\\n",
       "0     white            7.0             0.270         0.36            20.7   \n",
       "1     white            6.3             0.300         0.34             1.6   \n",
       "2     white            8.1             0.280         0.40             6.9   \n",
       "3     white            7.2             0.230         0.32             8.5   \n",
       "4     white            7.2             0.230         0.32             8.5   \n",
       "...     ...            ...               ...          ...             ...   \n",
       "6492    red            6.2             0.600         0.08             2.0   \n",
       "6493    red            5.9             0.550         0.10             2.2   \n",
       "6494    red            6.3             0.510         0.13             2.3   \n",
       "6495    red            5.9             0.645         0.12             2.0   \n",
       "6496    red            6.0             0.310         0.47             3.6   \n",
       "\n",
       "      chlorides  free sulfur dioxide  total sulfur dioxide  density    pH  \\\n",
       "0         0.045                 45.0                 170.0  1.00100  3.00   \n",
       "1         0.049                 14.0                 132.0  0.99400  3.30   \n",
       "2         0.050                 30.0                  97.0  0.99510  3.26   \n",
       "3         0.058                 47.0                 186.0  0.99560  3.19   \n",
       "4         0.058                 47.0                 186.0  0.99560  3.19   \n",
       "...         ...                  ...                   ...      ...   ...   \n",
       "6492      0.090                 32.0                  44.0  0.99490  3.45   \n",
       "6493      0.062                 39.0                  51.0  0.99512  3.52   \n",
       "6494      0.076                 29.0                  40.0  0.99574  3.42   \n",
       "6495      0.075                 32.0                  44.0  0.99547  3.57   \n",
       "6496      0.067                 18.0                  42.0  0.99549  3.39   \n",
       "\n",
       "      ...  quality  new free sulfur dioxide  new fixed acidity  \\\n",
       "0     ...      6.0                     45.0                7.0   \n",
       "1     ...      6.0                     14.0                6.3   \n",
       "2     ...      6.0                     30.0                8.1   \n",
       "3     ...      6.0                     47.0                7.2   \n",
       "4     ...      6.0                     47.0                7.2   \n",
       "...   ...      ...                      ...                ...   \n",
       "6492  ...      5.0                     32.0                6.2   \n",
       "6493  ...      6.0                     39.0                5.9   \n",
       "6494  ...      6.0                     29.0                6.3   \n",
       "6495  ...      5.0                     32.0                5.9   \n",
       "6496  ...      6.0                     18.0                6.0   \n",
       "\n",
       "      new volatile acidity  new citric acid  new residual sugar  \\\n",
       "0                    0.270             0.36                20.7   \n",
       "1                    0.300             0.34                 1.6   \n",
       "2                    0.280             0.40                 6.9   \n",
       "3                    0.230             0.32                 8.5   \n",
       "4                    0.230             0.32                 8.5   \n",
       "...                    ...              ...                 ...   \n",
       "6492                 0.600             0.08                 2.0   \n",
       "6493                 0.550             0.10                 2.2   \n",
       "6494                 0.510             0.13                 2.3   \n",
       "6495                 0.645             0.12                 2.0   \n",
       "6496                 0.310             0.47                 3.6   \n",
       "\n",
       "      new chlorides  new total sulfur dioxide  new pH  new sulphates  \n",
       "0             0.045                     170.0    3.00       0.450000  \n",
       "1             0.049                     132.0    3.30       0.490000  \n",
       "2             0.050                      97.0    3.26       0.440000  \n",
       "3             0.058                     186.0    3.19       0.400000  \n",
       "4             0.058                     186.0    3.19       0.400000  \n",
       "...             ...                       ...     ...            ...  \n",
       "6492          0.090                      44.0    3.45       0.580000  \n",
       "6493          0.062                      51.0    3.52       0.531215  \n",
       "6494          0.076                      40.0    3.42       0.750000  \n",
       "6495          0.075                      44.0    3.57       0.710000  \n",
       "6496          0.067                      42.0    3.39       0.660000  \n",
       "\n",
       "[6497 rows x 22 columns]"
      ]
     },
     "execution_count": 77,
     "metadata": {},
     "output_type": "execute_result"
    }
   ],
   "source": [
    "wine"
   ]
  },
  {
   "cell_type": "markdown",
   "id": "73ab972d-c106-4c9f-b5ea-7382b9f87200",
   "metadata": {},
   "source": [
    "#### Se modifica el dataframe eliminando las columnas viejas y renombrando las nuevas para posteriormente crear un archivo csv que contendra todas las variables limpiadas"
   ]
  },
  {
   "cell_type": "code",
   "execution_count": 78,
   "id": "3dce6159-54c3-40c5-9e14-2c0b48d355cc",
   "metadata": {},
   "outputs": [],
   "source": [
    "wine = wine.drop(columns = ['fixed acidity', 'volatile acidity', 'citric acid', 'residual sugar' ,'chlorides', 'free sulfur dioxide', 'total sulfur dioxide', 'pH', 'sulphates'])"
   ]
  },
  {
   "cell_type": "code",
   "execution_count": 79,
   "id": "d6b983ed-9771-464f-9879-f6d5492b0e1e",
   "metadata": {},
   "outputs": [],
   "source": [
    "wine.rename(columns={'new free sulfur dioxide': 'free sulfur dioxide',\n",
    "                     'new fixed acidity': 'fixed acidity',\n",
    "                     'new volatile acidity': 'volatile acidity',\n",
    "                     'new citric acid': 'citric acid',\n",
    "                     'new residual sugar': 'residual sugar',\n",
    "                     'new chlorides': 'chlorides',\n",
    "                     'new total sulfur dioxide': 'total sulfur dioxide',\n",
    "                     'new pH': 'pH',\n",
    "                     'new sulphates': 'sulphates'}, inplace=True)"
   ]
  },
  {
   "cell_type": "code",
   "execution_count": 80,
   "id": "b15d64ff-1715-4042-9e82-5cb39540d3eb",
   "metadata": {},
   "outputs": [],
   "source": [
    "wine = wine[['type','fixed acidity','volatile acidity','citric acid','residual sugar','chlorides','free sulfur dioxide',\n",
    "             'total sulfur dioxide','density','pH','sulphates','alcohol','quality']]"
   ]
  },
  {
   "cell_type": "code",
   "execution_count": 81,
   "id": "b4a22107-f638-40a8-b7d2-cf17542b7c69",
   "metadata": {},
   "outputs": [
    {
     "data": {
      "text/html": [
       "<div>\n",
       "<style scoped>\n",
       "    .dataframe tbody tr th:only-of-type {\n",
       "        vertical-align: middle;\n",
       "    }\n",
       "\n",
       "    .dataframe tbody tr th {\n",
       "        vertical-align: top;\n",
       "    }\n",
       "\n",
       "    .dataframe thead th {\n",
       "        text-align: right;\n",
       "    }\n",
       "</style>\n",
       "<table border=\"1\" class=\"dataframe\">\n",
       "  <thead>\n",
       "    <tr style=\"text-align: right;\">\n",
       "      <th></th>\n",
       "      <th>type</th>\n",
       "      <th>fixed acidity</th>\n",
       "      <th>volatile acidity</th>\n",
       "      <th>citric acid</th>\n",
       "      <th>residual sugar</th>\n",
       "      <th>chlorides</th>\n",
       "      <th>free sulfur dioxide</th>\n",
       "      <th>total sulfur dioxide</th>\n",
       "      <th>density</th>\n",
       "      <th>pH</th>\n",
       "      <th>sulphates</th>\n",
       "      <th>alcohol</th>\n",
       "      <th>quality</th>\n",
       "    </tr>\n",
       "  </thead>\n",
       "  <tbody>\n",
       "    <tr>\n",
       "      <th>0</th>\n",
       "      <td>white</td>\n",
       "      <td>7.0</td>\n",
       "      <td>0.270</td>\n",
       "      <td>0.36</td>\n",
       "      <td>20.7</td>\n",
       "      <td>0.045</td>\n",
       "      <td>45.0</td>\n",
       "      <td>170.0</td>\n",
       "      <td>1.00100</td>\n",
       "      <td>3.00</td>\n",
       "      <td>0.450000</td>\n",
       "      <td>8.8</td>\n",
       "      <td>6.0</td>\n",
       "    </tr>\n",
       "    <tr>\n",
       "      <th>1</th>\n",
       "      <td>white</td>\n",
       "      <td>6.3</td>\n",
       "      <td>0.300</td>\n",
       "      <td>0.34</td>\n",
       "      <td>1.6</td>\n",
       "      <td>0.049</td>\n",
       "      <td>14.0</td>\n",
       "      <td>132.0</td>\n",
       "      <td>0.99400</td>\n",
       "      <td>3.30</td>\n",
       "      <td>0.490000</td>\n",
       "      <td>9.5</td>\n",
       "      <td>6.0</td>\n",
       "    </tr>\n",
       "    <tr>\n",
       "      <th>2</th>\n",
       "      <td>white</td>\n",
       "      <td>8.1</td>\n",
       "      <td>0.280</td>\n",
       "      <td>0.40</td>\n",
       "      <td>6.9</td>\n",
       "      <td>0.050</td>\n",
       "      <td>30.0</td>\n",
       "      <td>97.0</td>\n",
       "      <td>0.99510</td>\n",
       "      <td>3.26</td>\n",
       "      <td>0.440000</td>\n",
       "      <td>10.1</td>\n",
       "      <td>6.0</td>\n",
       "    </tr>\n",
       "    <tr>\n",
       "      <th>3</th>\n",
       "      <td>white</td>\n",
       "      <td>7.2</td>\n",
       "      <td>0.230</td>\n",
       "      <td>0.32</td>\n",
       "      <td>8.5</td>\n",
       "      <td>0.058</td>\n",
       "      <td>47.0</td>\n",
       "      <td>186.0</td>\n",
       "      <td>0.99560</td>\n",
       "      <td>3.19</td>\n",
       "      <td>0.400000</td>\n",
       "      <td>9.9</td>\n",
       "      <td>6.0</td>\n",
       "    </tr>\n",
       "    <tr>\n",
       "      <th>4</th>\n",
       "      <td>white</td>\n",
       "      <td>7.2</td>\n",
       "      <td>0.230</td>\n",
       "      <td>0.32</td>\n",
       "      <td>8.5</td>\n",
       "      <td>0.058</td>\n",
       "      <td>47.0</td>\n",
       "      <td>186.0</td>\n",
       "      <td>0.99560</td>\n",
       "      <td>3.19</td>\n",
       "      <td>0.400000</td>\n",
       "      <td>9.9</td>\n",
       "      <td>6.0</td>\n",
       "    </tr>\n",
       "    <tr>\n",
       "      <th>...</th>\n",
       "      <td>...</td>\n",
       "      <td>...</td>\n",
       "      <td>...</td>\n",
       "      <td>...</td>\n",
       "      <td>...</td>\n",
       "      <td>...</td>\n",
       "      <td>...</td>\n",
       "      <td>...</td>\n",
       "      <td>...</td>\n",
       "      <td>...</td>\n",
       "      <td>...</td>\n",
       "      <td>...</td>\n",
       "      <td>...</td>\n",
       "    </tr>\n",
       "    <tr>\n",
       "      <th>6492</th>\n",
       "      <td>red</td>\n",
       "      <td>6.2</td>\n",
       "      <td>0.600</td>\n",
       "      <td>0.08</td>\n",
       "      <td>2.0</td>\n",
       "      <td>0.090</td>\n",
       "      <td>32.0</td>\n",
       "      <td>44.0</td>\n",
       "      <td>0.99490</td>\n",
       "      <td>3.45</td>\n",
       "      <td>0.580000</td>\n",
       "      <td>10.5</td>\n",
       "      <td>5.0</td>\n",
       "    </tr>\n",
       "    <tr>\n",
       "      <th>6493</th>\n",
       "      <td>red</td>\n",
       "      <td>5.9</td>\n",
       "      <td>0.550</td>\n",
       "      <td>0.10</td>\n",
       "      <td>2.2</td>\n",
       "      <td>0.062</td>\n",
       "      <td>39.0</td>\n",
       "      <td>51.0</td>\n",
       "      <td>0.99512</td>\n",
       "      <td>3.52</td>\n",
       "      <td>0.531215</td>\n",
       "      <td>11.2</td>\n",
       "      <td>6.0</td>\n",
       "    </tr>\n",
       "    <tr>\n",
       "      <th>6494</th>\n",
       "      <td>red</td>\n",
       "      <td>6.3</td>\n",
       "      <td>0.510</td>\n",
       "      <td>0.13</td>\n",
       "      <td>2.3</td>\n",
       "      <td>0.076</td>\n",
       "      <td>29.0</td>\n",
       "      <td>40.0</td>\n",
       "      <td>0.99574</td>\n",
       "      <td>3.42</td>\n",
       "      <td>0.750000</td>\n",
       "      <td>11.0</td>\n",
       "      <td>6.0</td>\n",
       "    </tr>\n",
       "    <tr>\n",
       "      <th>6495</th>\n",
       "      <td>red</td>\n",
       "      <td>5.9</td>\n",
       "      <td>0.645</td>\n",
       "      <td>0.12</td>\n",
       "      <td>2.0</td>\n",
       "      <td>0.075</td>\n",
       "      <td>32.0</td>\n",
       "      <td>44.0</td>\n",
       "      <td>0.99547</td>\n",
       "      <td>3.57</td>\n",
       "      <td>0.710000</td>\n",
       "      <td>10.2</td>\n",
       "      <td>5.0</td>\n",
       "    </tr>\n",
       "    <tr>\n",
       "      <th>6496</th>\n",
       "      <td>red</td>\n",
       "      <td>6.0</td>\n",
       "      <td>0.310</td>\n",
       "      <td>0.47</td>\n",
       "      <td>3.6</td>\n",
       "      <td>0.067</td>\n",
       "      <td>18.0</td>\n",
       "      <td>42.0</td>\n",
       "      <td>0.99549</td>\n",
       "      <td>3.39</td>\n",
       "      <td>0.660000</td>\n",
       "      <td>11.0</td>\n",
       "      <td>6.0</td>\n",
       "    </tr>\n",
       "  </tbody>\n",
       "</table>\n",
       "<p>6497 rows × 13 columns</p>\n",
       "</div>"
      ],
      "text/plain": [
       "       type  fixed acidity  volatile acidity  citric acid  residual sugar  \\\n",
       "0     white            7.0             0.270         0.36            20.7   \n",
       "1     white            6.3             0.300         0.34             1.6   \n",
       "2     white            8.1             0.280         0.40             6.9   \n",
       "3     white            7.2             0.230         0.32             8.5   \n",
       "4     white            7.2             0.230         0.32             8.5   \n",
       "...     ...            ...               ...          ...             ...   \n",
       "6492    red            6.2             0.600         0.08             2.0   \n",
       "6493    red            5.9             0.550         0.10             2.2   \n",
       "6494    red            6.3             0.510         0.13             2.3   \n",
       "6495    red            5.9             0.645         0.12             2.0   \n",
       "6496    red            6.0             0.310         0.47             3.6   \n",
       "\n",
       "      chlorides  free sulfur dioxide  total sulfur dioxide  density    pH  \\\n",
       "0         0.045                 45.0                 170.0  1.00100  3.00   \n",
       "1         0.049                 14.0                 132.0  0.99400  3.30   \n",
       "2         0.050                 30.0                  97.0  0.99510  3.26   \n",
       "3         0.058                 47.0                 186.0  0.99560  3.19   \n",
       "4         0.058                 47.0                 186.0  0.99560  3.19   \n",
       "...         ...                  ...                   ...      ...   ...   \n",
       "6492      0.090                 32.0                  44.0  0.99490  3.45   \n",
       "6493      0.062                 39.0                  51.0  0.99512  3.52   \n",
       "6494      0.076                 29.0                  40.0  0.99574  3.42   \n",
       "6495      0.075                 32.0                  44.0  0.99547  3.57   \n",
       "6496      0.067                 18.0                  42.0  0.99549  3.39   \n",
       "\n",
       "      sulphates  alcohol  quality  \n",
       "0      0.450000      8.8      6.0  \n",
       "1      0.490000      9.5      6.0  \n",
       "2      0.440000     10.1      6.0  \n",
       "3      0.400000      9.9      6.0  \n",
       "4      0.400000      9.9      6.0  \n",
       "...         ...      ...      ...  \n",
       "6492   0.580000     10.5      5.0  \n",
       "6493   0.531215     11.2      6.0  \n",
       "6494   0.750000     11.0      6.0  \n",
       "6495   0.710000     10.2      5.0  \n",
       "6496   0.660000     11.0      6.0  \n",
       "\n",
       "[6497 rows x 13 columns]"
      ]
     },
     "execution_count": 81,
     "metadata": {},
     "output_type": "execute_result"
    }
   ],
   "source": [
    "wine"
   ]
  },
  {
   "cell_type": "code",
   "execution_count": 82,
   "id": "453a2473-f58b-438d-9a5d-e438571ae735",
   "metadata": {},
   "outputs": [],
   "source": [
    "wine.to_csv(\"modified_winequalityN.csv\", index_label = True, index = False)"
   ]
  }
 ],
 "metadata": {
  "kernelspec": {
   "display_name": "Python 3 (ipykernel)",
   "language": "python",
   "name": "python3"
  },
  "language_info": {
   "codemirror_mode": {
    "name": "ipython",
    "version": 3
   },
   "file_extension": ".py",
   "mimetype": "text/x-python",
   "name": "python",
   "nbconvert_exporter": "python",
   "pygments_lexer": "ipython3",
   "version": "3.9.12"
  }
 },
 "nbformat": 4,
 "nbformat_minor": 5
}
